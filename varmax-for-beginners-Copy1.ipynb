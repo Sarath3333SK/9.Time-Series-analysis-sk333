{
 "cells": [
  {
   "cell_type": "markdown",
   "metadata": {},
   "source": [
    "Credits : https://www.youtube.com/watch?v=4jv1NGlAc_0&t=607s\n",
    "\n",
    "# IMPORTS"
   ]
  },
  {
   "cell_type": "code",
   "execution_count": 19,
   "metadata": {
    "_cell_guid": "b1076dfc-b9ad-4769-8c92-a6c4dae69d19",
    "_uuid": "8f2839f25d086af736a60e9eeb907d3b93b6e0e5",
    "execution": {
     "iopub.execute_input": "2022-02-23T21:25:01.637293Z",
     "iopub.status.busy": "2022-02-23T21:25:01.636220Z",
     "iopub.status.idle": "2022-02-23T21:25:01.644575Z",
     "shell.execute_reply": "2022-02-23T21:25:01.643917Z",
     "shell.execute_reply.started": "2022-02-23T21:25:01.637242Z"
    }
   },
   "outputs": [],
   "source": [
    "import pandas_datareader as web\n",
    "from statsmodels.tsa.statespace.varmax import VARMAX\n",
    "from statsmodels.tsa.stattools import adfuller, grangercausalitytests\n",
    "from statsmodels.tsa.vector_ar.var_model import VAR\n",
    "import matplotlib.pyplot as plt\n",
    "plt.style.use('seaborn')\n",
    "plt.rcParams['figure.figsize'] = 20, 15\n",
    "import numpy as np\n",
    "import pandas as pd\n"
   ]
  },
  {
   "cell_type": "code",
   "execution_count": 20,
   "metadata": {},
   "outputs": [],
   "source": [
    "# Load datasets\n",
    "df = pd.read_csv('Tatacoffee13_21.csv',index_col=0, parse_dates=True)\n",
    "\n",
    "sp = pd.read_csv('varforecasted_28.csv',index_col=0, parse_dates=True)\n"
   ]
  },
  {
   "cell_type": "markdown",
   "metadata": {},
   "source": [
    "# Data"
   ]
  },
  {
   "cell_type": "code",
   "execution_count": 21,
   "metadata": {},
   "outputs": [
    {
     "data": {
      "text/html": [
       "<div>\n",
       "<style scoped>\n",
       "    .dataframe tbody tr th:only-of-type {\n",
       "        vertical-align: middle;\n",
       "    }\n",
       "\n",
       "    .dataframe tbody tr th {\n",
       "        vertical-align: top;\n",
       "    }\n",
       "\n",
       "    .dataframe thead th {\n",
       "        text-align: right;\n",
       "    }\n",
       "</style>\n",
       "<table border=\"1\" class=\"dataframe\">\n",
       "  <thead>\n",
       "    <tr style=\"text-align: right;\">\n",
       "      <th></th>\n",
       "      <th>Open</th>\n",
       "      <th>High</th>\n",
       "      <th>Low</th>\n",
       "      <th>Close</th>\n",
       "    </tr>\n",
       "    <tr>\n",
       "      <th>Date</th>\n",
       "      <th></th>\n",
       "      <th></th>\n",
       "      <th></th>\n",
       "      <th></th>\n",
       "    </tr>\n",
       "  </thead>\n",
       "  <tbody>\n",
       "    <tr>\n",
       "      <th>2013-01-01</th>\n",
       "      <td>1410.60</td>\n",
       "      <td>1427.90</td>\n",
       "      <td>1408.30</td>\n",
       "      <td>1415.10</td>\n",
       "    </tr>\n",
       "    <tr>\n",
       "      <th>2013-01-02</th>\n",
       "      <td>1421.00</td>\n",
       "      <td>1626.60</td>\n",
       "      <td>1416.15</td>\n",
       "      <td>1607.40</td>\n",
       "    </tr>\n",
       "    <tr>\n",
       "      <th>2013-01-03</th>\n",
       "      <td>1632.55</td>\n",
       "      <td>1673.90</td>\n",
       "      <td>1613.05</td>\n",
       "      <td>1626.20</td>\n",
       "    </tr>\n",
       "    <tr>\n",
       "      <th>2013-01-04</th>\n",
       "      <td>1627.75</td>\n",
       "      <td>1627.75</td>\n",
       "      <td>1574.60</td>\n",
       "      <td>1579.05</td>\n",
       "    </tr>\n",
       "    <tr>\n",
       "      <th>2013-01-07</th>\n",
       "      <td>1580.00</td>\n",
       "      <td>1639.50</td>\n",
       "      <td>1565.50</td>\n",
       "      <td>1595.65</td>\n",
       "    </tr>\n",
       "    <tr>\n",
       "      <th>...</th>\n",
       "      <td>...</td>\n",
       "      <td>...</td>\n",
       "      <td>...</td>\n",
       "      <td>...</td>\n",
       "    </tr>\n",
       "    <tr>\n",
       "      <th>2021-12-22</th>\n",
       "      <td>202.90</td>\n",
       "      <td>207.80</td>\n",
       "      <td>201.35</td>\n",
       "      <td>205.00</td>\n",
       "    </tr>\n",
       "    <tr>\n",
       "      <th>2021-12-23</th>\n",
       "      <td>206.00</td>\n",
       "      <td>206.85</td>\n",
       "      <td>202.05</td>\n",
       "      <td>202.95</td>\n",
       "    </tr>\n",
       "    <tr>\n",
       "      <th>2021-12-24</th>\n",
       "      <td>203.90</td>\n",
       "      <td>203.90</td>\n",
       "      <td>199.35</td>\n",
       "      <td>201.00</td>\n",
       "    </tr>\n",
       "    <tr>\n",
       "      <th>2021-12-27</th>\n",
       "      <td>200.00</td>\n",
       "      <td>222.00</td>\n",
       "      <td>196.00</td>\n",
       "      <td>218.35</td>\n",
       "    </tr>\n",
       "    <tr>\n",
       "      <th>2021-12-28</th>\n",
       "      <td>219.65</td>\n",
       "      <td>220.45</td>\n",
       "      <td>211.55</td>\n",
       "      <td>212.35</td>\n",
       "    </tr>\n",
       "  </tbody>\n",
       "</table>\n",
       "<p>2225 rows × 4 columns</p>\n",
       "</div>"
      ],
      "text/plain": [
       "               Open     High      Low    Close\n",
       "Date                                          \n",
       "2013-01-01  1410.60  1427.90  1408.30  1415.10\n",
       "2013-01-02  1421.00  1626.60  1416.15  1607.40\n",
       "2013-01-03  1632.55  1673.90  1613.05  1626.20\n",
       "2013-01-04  1627.75  1627.75  1574.60  1579.05\n",
       "2013-01-07  1580.00  1639.50  1565.50  1595.65\n",
       "...             ...      ...      ...      ...\n",
       "2021-12-22   202.90   207.80   201.35   205.00\n",
       "2021-12-23   206.00   206.85   202.05   202.95\n",
       "2021-12-24   203.90   203.90   199.35   201.00\n",
       "2021-12-27   200.00   222.00   196.00   218.35\n",
       "2021-12-28   219.65   220.45   211.55   212.35\n",
       "\n",
       "[2225 rows x 4 columns]"
      ]
     },
     "execution_count": 21,
     "metadata": {},
     "output_type": "execute_result"
    }
   ],
   "source": [
    "df"
   ]
  },
  {
   "cell_type": "code",
   "execution_count": null,
   "metadata": {},
   "outputs": [],
   "source": []
  },
  {
   "cell_type": "code",
   "execution_count": 22,
   "metadata": {
    "execution": {
     "iopub.execute_input": "2022-02-23T20:26:11.640343Z",
     "iopub.status.busy": "2022-02-23T20:26:11.640058Z",
     "iopub.status.idle": "2022-02-23T20:26:12.787404Z",
     "shell.execute_reply": "2022-02-23T20:26:12.786488Z",
     "shell.execute_reply.started": "2022-02-23T20:26:11.640294Z"
    }
   },
   "outputs": [
    {
     "data": {
      "text/html": [
       "<div>\n",
       "<style scoped>\n",
       "    .dataframe tbody tr th:only-of-type {\n",
       "        vertical-align: middle;\n",
       "    }\n",
       "\n",
       "    .dataframe tbody tr th {\n",
       "        vertical-align: top;\n",
       "    }\n",
       "\n",
       "    .dataframe thead th {\n",
       "        text-align: right;\n",
       "    }\n",
       "</style>\n",
       "<table border=\"1\" class=\"dataframe\">\n",
       "  <thead>\n",
       "    <tr style=\"text-align: right;\">\n",
       "      <th></th>\n",
       "      <th>High</th>\n",
       "      <th>Low</th>\n",
       "    </tr>\n",
       "    <tr>\n",
       "      <th>Date</th>\n",
       "      <th></th>\n",
       "      <th></th>\n",
       "    </tr>\n",
       "  </thead>\n",
       "  <tbody>\n",
       "    <tr>\n",
       "      <th>2004-08-19</th>\n",
       "      <td>51.835709</td>\n",
       "      <td>47.800831</td>\n",
       "    </tr>\n",
       "    <tr>\n",
       "      <th>2004-08-20</th>\n",
       "      <td>54.336334</td>\n",
       "      <td>50.062355</td>\n",
       "    </tr>\n",
       "    <tr>\n",
       "      <th>2004-08-23</th>\n",
       "      <td>56.528118</td>\n",
       "      <td>54.321388</td>\n",
       "    </tr>\n",
       "    <tr>\n",
       "      <th>2004-08-24</th>\n",
       "      <td>55.591629</td>\n",
       "      <td>51.591621</td>\n",
       "    </tr>\n",
       "    <tr>\n",
       "      <th>2004-08-25</th>\n",
       "      <td>53.798351</td>\n",
       "      <td>51.746044</td>\n",
       "    </tr>\n",
       "    <tr>\n",
       "      <th>...</th>\n",
       "      <td>...</td>\n",
       "      <td>...</td>\n",
       "    </tr>\n",
       "    <tr>\n",
       "      <th>2022-04-06</th>\n",
       "      <td>2796.969971</td>\n",
       "      <td>2728.362061</td>\n",
       "    </tr>\n",
       "    <tr>\n",
       "      <th>2022-04-07</th>\n",
       "      <td>2754.030029</td>\n",
       "      <td>2697.145020</td>\n",
       "    </tr>\n",
       "    <tr>\n",
       "      <th>2022-04-08</th>\n",
       "      <td>2725.000000</td>\n",
       "      <td>2675.050049</td>\n",
       "    </tr>\n",
       "    <tr>\n",
       "      <th>2022-04-11</th>\n",
       "      <td>2658.783936</td>\n",
       "      <td>2592.350098</td>\n",
       "    </tr>\n",
       "    <tr>\n",
       "      <th>2022-04-12</th>\n",
       "      <td>2648.469971</td>\n",
       "      <td>2551.520020</td>\n",
       "    </tr>\n",
       "  </tbody>\n",
       "</table>\n",
       "<p>4444 rows × 2 columns</p>\n",
       "</div>"
      ],
      "text/plain": [
       "                   High          Low\n",
       "Date                                \n",
       "2004-08-19    51.835709    47.800831\n",
       "2004-08-20    54.336334    50.062355\n",
       "2004-08-23    56.528118    54.321388\n",
       "2004-08-24    55.591629    51.591621\n",
       "2004-08-25    53.798351    51.746044\n",
       "...                 ...          ...\n",
       "2022-04-06  2796.969971  2728.362061\n",
       "2022-04-07  2754.030029  2697.145020\n",
       "2022-04-08  2725.000000  2675.050049\n",
       "2022-04-11  2658.783936  2592.350098\n",
       "2022-04-12  2648.469971  2551.520020\n",
       "\n",
       "[4444 rows x 2 columns]"
      ]
     },
     "execution_count": 22,
     "metadata": {},
     "output_type": "execute_result"
    }
   ],
   "source": [
    "ticker = 'GOOG'\n",
    "\n",
    "df = web.get_data_yahoo(ticker, start='2000')\n",
    "df = df.filter(['High', 'Low'])\n",
    "df"
   ]
  },
  {
   "cell_type": "code",
   "execution_count": 23,
   "metadata": {
    "execution": {
     "iopub.execute_input": "2022-02-23T20:27:32.410628Z",
     "iopub.status.busy": "2022-02-23T20:27:32.410049Z",
     "iopub.status.idle": "2022-02-23T20:27:32.422881Z",
     "shell.execute_reply": "2022-02-23T20:27:32.421568Z",
     "shell.execute_reply.started": "2022-02-23T20:27:32.410588Z"
    }
   },
   "outputs": [
    {
     "name": "stdout",
     "output_type": "stream",
     "text": [
      "<class 'pandas.core.frame.DataFrame'>\n",
      "DatetimeIndex: 4444 entries, 2004-08-19 to 2022-04-12\n",
      "Data columns (total 2 columns):\n",
      " #   Column  Non-Null Count  Dtype  \n",
      "---  ------  --------------  -----  \n",
      " 0   High    4444 non-null   float64\n",
      " 1   Low     4444 non-null   float64\n",
      "dtypes: float64(2)\n",
      "memory usage: 104.2 KB\n"
     ]
    }
   ],
   "source": [
    "df.info()"
   ]
  },
  {
   "cell_type": "code",
   "execution_count": 24,
   "metadata": {
    "execution": {
     "iopub.execute_input": "2022-02-23T20:27:56.694292Z",
     "iopub.status.busy": "2022-02-23T20:27:56.693429Z",
     "iopub.status.idle": "2022-02-23T20:27:57.153967Z",
     "shell.execute_reply": "2022-02-23T20:27:57.153002Z",
     "shell.execute_reply.started": "2022-02-23T20:27:56.694247Z"
    }
   },
   "outputs": [
    {
     "name": "stdout",
     "output_type": "stream",
     "text": [
      "p-values of High and Low are : (1.8814194637701615e-23, 1.301491904798091e-28) respectively. So one difference is \n",
      "stationary.\n"
     ]
    }
   ],
   "source": [
    "print(f'p-values of High and Low are : \\\n",
    "{adfuller(df.High.diff().dropna())[1], adfuller(df.Low.diff().dropna())[1]} respectively. So one \\\n",
    "difference is \\nstationary.')\n"
   ]
  },
  {
   "cell_type": "markdown",
   "metadata": {},
   "source": [
    "# Train test split"
   ]
  },
  {
   "cell_type": "code",
   "execution_count": 25,
   "metadata": {
    "execution": {
     "iopub.execute_input": "2022-02-23T20:28:07.574947Z",
     "iopub.status.busy": "2022-02-23T20:28:07.574620Z",
     "iopub.status.idle": "2022-02-23T20:28:07.582423Z",
     "shell.execute_reply": "2022-02-23T20:28:07.581319Z",
     "shell.execute_reply.started": "2022-02-23T20:28:07.574911Z"
    }
   },
   "outputs": [
    {
     "data": {
      "text/plain": [
       "((4432, 2), (12, 2))"
      ]
     },
     "execution_count": 25,
     "metadata": {},
     "output_type": "execute_result"
    }
   ],
   "source": [
    "forecast = 12\n",
    "train, test = df[:-forecast], df[-forecast:]\n",
    "train.shape, test.shape"
   ]
  },
  {
   "cell_type": "code",
   "execution_count": 26,
   "metadata": {
    "execution": {
     "iopub.execute_input": "2022-02-23T20:28:12.817481Z",
     "iopub.status.busy": "2022-02-23T20:28:12.817036Z",
     "iopub.status.idle": "2022-02-23T20:28:13.797970Z",
     "shell.execute_reply": "2022-02-23T20:28:13.796979Z",
     "shell.execute_reply.started": "2022-02-23T20:28:12.817451Z"
    }
   },
   "outputs": [
    {
     "name": "stderr",
     "output_type": "stream",
     "text": [
      "d:\\Users\\kaasa\\Anaconda3\\lib\\site-packages\\statsmodels\\tsa\\base\\tsa_model.py:583: ValueWarning: A date index has been provided, but it has no associated frequency information and so will be ignored when e.g. forecasting.\n",
      "  ' ignored when e.g. forecasting.', ValueWarning)\n"
     ]
    },
    {
     "name": "stdout",
     "output_type": "stream",
     "text": [
      " VAR Order Selection (* highlights the minimums)  \n",
      "==================================================\n",
      "       AIC         BIC         FPE         HQIC   \n",
      "--------------------------------------------------\n",
      "0        9.816       9.819   1.832e+04       9.817\n",
      "1        9.590       9.599   1.462e+04       9.593\n",
      "2        9.490       9.505   1.323e+04       9.495\n",
      "3        9.451       9.471   1.272e+04       9.458\n",
      "4        9.424       9.450   1.238e+04       9.433\n",
      "5        9.403       9.435   1.212e+04       9.414\n",
      "6        9.398       9.436   1.207e+04       9.411\n",
      "7        9.386       9.430   1.192e+04       9.402\n",
      "8        9.380       9.429   1.185e+04       9.397\n",
      "9        9.374      9.429*   1.178e+04       9.393\n",
      "10       9.371       9.432   1.174e+04       9.393\n",
      "11       9.366       9.433   1.168e+04       9.389\n",
      "12       9.366       9.438   1.168e+04       9.391\n",
      "13       9.360       9.438   1.161e+04       9.388\n",
      "14       9.357       9.441   1.158e+04       9.387\n",
      "15       9.350       9.440   1.149e+04       9.381\n",
      "16       9.346       9.442   1.146e+04       9.380\n",
      "17       9.341       9.443   1.140e+04       9.377\n",
      "18       9.341       9.448   1.139e+04       9.379\n",
      "19       9.337       9.450   1.135e+04       9.376\n",
      "20       9.329       9.448   1.126e+04       9.371\n",
      "21       9.327       9.452   1.123e+04       9.371\n",
      "22       9.326       9.457   1.123e+04       9.372\n",
      "23       9.326       9.463   1.123e+04       9.374\n",
      "24       9.323       9.465   1.119e+04       9.373\n",
      "25       9.319       9.467   1.115e+04       9.371\n",
      "26       9.313       9.467   1.109e+04       9.368\n",
      "27       9.310       9.470   1.105e+04       9.367\n",
      "28       9.307       9.473   1.101e+04       9.365\n",
      "29       9.304       9.476   1.099e+04      9.365*\n",
      "30       9.305       9.483   1.100e+04       9.368\n",
      "31      9.303*       9.486  1.097e+04*       9.368\n",
      "--------------------------------------------------\n"
     ]
    }
   ],
   "source": [
    "model = VAR(train.diff().dropna())\n",
    "sorted_order = model.select_order()\n",
    "print(sorted_order.summary())"
   ]
  },
  {
   "cell_type": "code",
   "execution_count": 27,
   "metadata": {
    "execution": {
     "iopub.execute_input": "2022-02-23T20:28:47.681523Z",
     "iopub.status.busy": "2022-02-23T20:28:47.681213Z",
     "iopub.status.idle": "2022-02-23T20:28:47.754594Z",
     "shell.execute_reply": "2022-02-23T20:28:47.753715Z",
     "shell.execute_reply.started": "2022-02-23T20:28:47.681488Z"
    }
   },
   "outputs": [
    {
     "name": "stdout",
     "output_type": "stream",
     "text": [
      "\n",
      "Granger Causality\n",
      "number of lags (no zero) 1\n",
      "ssr based F test:         F=193.1788, p=0.0000  , df_denom=4440, df_num=1\n",
      "ssr based chi2 test:   chi2=193.3093, p=0.0000  , df=1\n",
      "likelihood ratio test: chi2=189.2222, p=0.0000  , df=1\n",
      "parameter F test:         F=193.1788, p=0.0000  , df_denom=4440, df_num=1\n",
      "\n",
      "Granger Causality\n",
      "number of lags (no zero) 2\n",
      "ssr based F test:         F=160.6877, p=0.0000  , df_denom=4437, df_num=2\n",
      "ssr based chi2 test:   chi2=321.7375, p=0.0000  , df=2\n",
      "likelihood ratio test: chi2=310.6194, p=0.0000  , df=2\n",
      "parameter F test:         F=160.6877, p=0.0000  , df_denom=4437, df_num=2\n",
      "\n",
      "Granger Causality\n",
      "number of lags (no zero) 3\n",
      "ssr based F test:         F=131.3038, p=0.0000  , df_denom=4434, df_num=3\n",
      "ssr based chi2 test:   chi2=394.5333, p=0.0000  , df=3\n",
      "likelihood ratio test: chi2=377.9817, p=0.0000  , df=3\n",
      "parameter F test:         F=131.3038, p=0.0000  , df_denom=4434, df_num=3\n",
      "\n",
      "Granger Causality\n",
      "number of lags (no zero) 4\n",
      "ssr based F test:         F=105.3881, p=0.0000  , df_denom=4431, df_num=4\n",
      "ssr based chi2 test:   chi2=422.4086, p=0.0000  , df=4\n",
      "likelihood ratio test: chi2=403.5051, p=0.0000  , df=4\n",
      "parameter F test:         F=105.3881, p=0.0000  , df_denom=4431, df_num=4\n"
     ]
    },
    {
     "data": {
      "text/plain": [
       "{1: ({'ssr_ftest': (193.1788213094664, 5.065706906639292e-43, 4440.0, 1),\n",
       "   'ssr_chi2test': (193.3093475400809, 6.025649632318766e-44, 1),\n",
       "   'lrtest': (189.22215635955217, 4.700231971726048e-43, 1),\n",
       "   'params_ftest': (193.1788213094759, 5.065706906615752e-43, 4440.0, 1.0)},\n",
       "  [<statsmodels.regression.linear_model.RegressionResultsWrapper at 0x15870b35ec8>,\n",
       "   <statsmodels.regression.linear_model.RegressionResultsWrapper at 0x15870291508>,\n",
       "   array([[0., 1., 0.]])]),\n",
       " 2: ({'ssr_ftest': (160.6876562823093, 4.2246017203131654e-68, 4437.0, 2),\n",
       "   'ssr_chi2test': (321.73746639892624, 1.3664598032638391e-70, 2),\n",
       "   'lrtest': (310.61936175268784, 3.5470116038865767e-68, 2),\n",
       "   'params_ftest': (160.6876562823058, 4.224601720326613e-68, 4437.0, 2.0)},\n",
       "  [<statsmodels.regression.linear_model.RegressionResultsWrapper at 0x15870f274c8>,\n",
       "   <statsmodels.regression.linear_model.RegressionResultsWrapper at 0x1587765bb08>,\n",
       "   array([[0., 0., 1., 0., 0.],\n",
       "          [0., 0., 0., 1., 0.]])]),\n",
       " 3: ({'ssr_ftest': (131.30381345394852, 1.7140109804290357e-81, 4434.0, 3),\n",
       "   'ssr_chi2test': (394.5333122794218, 3.382659636447743e-85, 3),\n",
       "   'lrtest': (377.98172118121147, 1.3005649135856186e-81, 3),\n",
       "   'params_ftest': (131.30381345394983, 1.7140109804263077e-81, 4434.0, 3.0)},\n",
       "  [<statsmodels.regression.linear_model.RegressionResultsWrapper at 0x15870f480c8>,\n",
       "   <statsmodels.regression.linear_model.RegressionResultsWrapper at 0x15870f48748>,\n",
       "   array([[0., 0., 0., 1., 0., 0., 0.],\n",
       "          [0., 0., 0., 0., 1., 0., 0.],\n",
       "          [0., 0., 0., 0., 0., 1., 0.]])]),\n",
       " 4: ({'ssr_ftest': (105.38809497868169, 6.985249499735379e-86, 4431.0, 4),\n",
       "   'ssr_chi2test': (422.40861359092463, 3.998427248401138e-90, 4),\n",
       "   'lrtest': (403.5051496244341, 4.863360100040539e-86, 4),\n",
       "   'params_ftest': (105.38809497868426, 6.985249499703613e-86, 4431.0, 4.0)},\n",
       "  [<statsmodels.regression.linear_model.RegressionResultsWrapper at 0x15870e26408>,\n",
       "   <statsmodels.regression.linear_model.RegressionResultsWrapper at 0x15870f7ac88>,\n",
       "   array([[0., 0., 0., 0., 1., 0., 0., 0., 0.],\n",
       "          [0., 0., 0., 0., 0., 1., 0., 0., 0.],\n",
       "          [0., 0., 0., 0., 0., 0., 1., 0., 0.],\n",
       "          [0., 0., 0., 0., 0., 0., 0., 1., 0.]])])}"
      ]
     },
     "execution_count": 27,
     "metadata": {},
     "output_type": "execute_result"
    }
   ],
   "source": [
    "# Checking if Low is causing the high column\n",
    "grangercausalitytests(df, maxlag=4)"
   ]
  },
  {
   "cell_type": "markdown",
   "metadata": {},
   "source": [
    "So Low is causing High column."
   ]
  },
  {
   "cell_type": "code",
   "execution_count": 28,
   "metadata": {
    "execution": {
     "iopub.execute_input": "2022-02-23T20:37:49.660576Z",
     "iopub.status.busy": "2022-02-23T20:37:49.660283Z",
     "iopub.status.idle": "2022-02-23T20:37:50.115411Z",
     "shell.execute_reply": "2022-02-23T20:37:50.114577Z",
     "shell.execute_reply.started": "2022-02-23T20:37:49.660543Z"
    }
   },
   "outputs": [
    {
     "data": {
      "text/plain": [
       "<matplotlib.axes._subplots.AxesSubplot at 0x15870f6fdc8>"
      ]
     },
     "execution_count": 28,
     "metadata": {},
     "output_type": "execute_result"
    },
    {
     "data": {
      "image/png": "[encoded data removed]",
      "text/plain": [
       "<Figure size 1440x1080 with 1 Axes>"
      ]
     },
     "metadata": {},
     "output_type": "display_data"
    }
   ],
   "source": [
    "df.plot()"
   ]
  },
  {
   "cell_type": "code",
   "execution_count": 29,
   "metadata": {
    "execution": {
     "iopub.execute_input": "2022-02-23T20:29:33.526265Z",
     "iopub.status.busy": "2022-02-23T20:29:33.525951Z",
     "iopub.status.idle": "2022-02-23T20:29:33.611489Z",
     "shell.execute_reply": "2022-02-23T20:29:33.610283Z",
     "shell.execute_reply.started": "2022-02-23T20:29:33.526232Z"
    }
   },
   "outputs": [
    {
     "name": "stdout",
     "output_type": "stream",
     "text": [
      "\n",
      "Granger Causality\n",
      "number of lags (no zero) 1\n",
      "ssr based F test:         F=87.8756 , p=0.0000  , df_denom=4440, df_num=1\n",
      "ssr based chi2 test:   chi2=87.9350 , p=0.0000  , df=1\n",
      "likelihood ratio test: chi2=87.0761 , p=0.0000  , df=1\n",
      "parameter F test:         F=87.8756 , p=0.0000  , df_denom=4440, df_num=1\n",
      "\n",
      "Granger Causality\n",
      "number of lags (no zero) 2\n",
      "ssr based F test:         F=88.7370 , p=0.0000  , df_denom=4437, df_num=2\n",
      "ssr based chi2 test:   chi2=177.6739, p=0.0000  , df=2\n",
      "likelihood ratio test: chi2=174.2126, p=0.0000  , df=2\n",
      "parameter F test:         F=88.7370 , p=0.0000  , df_denom=4437, df_num=2\n",
      "\n",
      "Granger Causality\n",
      "number of lags (no zero) 3\n",
      "ssr based F test:         F=59.4643 , p=0.0000  , df_denom=4434, df_num=3\n",
      "ssr based chi2 test:   chi2=178.6745, p=0.0000  , df=3\n",
      "likelihood ratio test: chi2=175.1738, p=0.0000  , df=3\n",
      "parameter F test:         F=59.4643 , p=0.0000  , df_denom=4434, df_num=3\n",
      "\n",
      "Granger Causality\n",
      "number of lags (no zero) 4\n",
      "ssr based F test:         F=42.6286 , p=0.0000  , df_denom=4431, df_num=4\n",
      "ssr based chi2 test:   chi2=170.8606, p=0.0000  , df=4\n",
      "likelihood ratio test: chi2=167.6551, p=0.0000  , df=4\n",
      "parameter F test:         F=42.6286 , p=0.0000  , df_denom=4431, df_num=4\n"
     ]
    },
    {
     "data": {
      "text/plain": [
       "{1: ({'ssr_ftest': (87.87561605838036, 1.0810871969027696e-20, 4440.0, 1),\n",
       "   'ssr_chi2test': (87.93499147463602, 6.764142034410759e-21, 1),\n",
       "   'lrtest': (87.07610940923041, 1.0442435476246973e-20, 1),\n",
       "   'params_ftest': (87.87561605838248, 1.0810871969016636e-20, 4440.0, 1.0)},\n",
       "  [<statsmodels.regression.linear_model.RegressionResultsWrapper at 0x15871128448>,\n",
       "   <statsmodels.regression.linear_model.RegressionResultsWrapper at 0x15871128248>,\n",
       "   array([[0., 1., 0.]])]),\n",
       " 2: ({'ssr_ftest': (88.73697130714021, 1.6323057891695595e-38, 4437.0, 2),\n",
       "   'ssr_chi2test': (177.67393578828796, 2.6217728064178002e-39, 2),\n",
       "   'lrtest': (174.2125768502592, 1.4798564778442427e-38, 2),\n",
       "   'params_ftest': (88.7369713071426, 1.632305789166219e-38, 4437.0, 2.0)},\n",
       "  [<statsmodels.regression.linear_model.RegressionResultsWrapper at 0x1587133b7c8>,\n",
       "   <statsmodels.regression.linear_model.RegressionResultsWrapper at 0x1587133b088>,\n",
       "   array([[0., 0., 1., 0., 0.],\n",
       "          [0., 0., 0., 1., 0.]])]),\n",
       " 3: ({'ssr_ftest': (59.46429248028933, 1.1040813310777394e-37, 4434.0, 3),\n",
       "   'ssr_chi2test': (178.67450805478006, 1.7049257445007882e-38, 3),\n",
       "   'lrtest': (175.1737950124807, 9.719114295820044e-38, 3),\n",
       "   'params_ftest': (59.46429248028968, 1.1040813310774725e-37, 4434.0, 3.0)},\n",
       "  [<statsmodels.regression.linear_model.RegressionResultsWrapper at 0x15871348188>,\n",
       "   <statsmodels.regression.linear_model.RegressionResultsWrapper at 0x15871348448>,\n",
       "   array([[0., 0., 0., 1., 0., 0., 0.],\n",
       "          [0., 0., 0., 0., 1., 0., 0.],\n",
       "          [0., 0., 0., 0., 0., 1., 0.]])]),\n",
       " 4: ({'ssr_ftest': (42.628575431062536, 3.868542545055471e-35, 4431.0, 4),\n",
       "   'ssr_chi2test': (170.8606408611308, 6.835170823834031e-36, 4),\n",
       "   'lrtest': (167.65507990423794, 3.3319527926514287e-35, 4),\n",
       "   'params_ftest': (42.62857543106318, 3.8685425450496437e-35, 4431.0, 4.0)},\n",
       "  [<statsmodels.regression.linear_model.RegressionResultsWrapper at 0x15871328048>,\n",
       "   <statsmodels.regression.linear_model.RegressionResultsWrapper at 0x15871328208>,\n",
       "   array([[0., 0., 0., 0., 1., 0., 0., 0., 0.],\n",
       "          [0., 0., 0., 0., 0., 1., 0., 0., 0.],\n",
       "          [0., 0., 0., 0., 0., 0., 1., 0., 0.],\n",
       "          [0., 0., 0., 0., 0., 0., 0., 1., 0.]])])}"
      ]
     },
     "execution_count": 29,
     "metadata": {},
     "output_type": "execute_result"
    }
   ],
   "source": [
    "grangercausalitytests(df[['Low', 'High']], maxlag=4)"
   ]
  },
  {
   "cell_type": "markdown",
   "metadata": {},
   "source": [
    "And High is causing low column - which was very clear from the graph. In general, A causes B does not mean B would cause A. "
   ]
  },
  {
   "cell_type": "code",
   "execution_count": 30,
   "metadata": {
    "execution": {
     "iopub.execute_input": "2022-02-23T21:02:20.587625Z",
     "iopub.status.busy": "2022-02-23T21:02:20.586804Z",
     "iopub.status.idle": "2022-02-23T21:02:20.604248Z",
     "shell.execute_reply": "2022-02-23T21:02:20.603582Z",
     "shell.execute_reply.started": "2022-02-23T21:02:20.587585Z"
    }
   },
   "outputs": [
    {
     "data": {
      "text/html": [
       "<div>\n",
       "<style scoped>\n",
       "    .dataframe tbody tr th:only-of-type {\n",
       "        vertical-align: middle;\n",
       "    }\n",
       "\n",
       "    .dataframe tbody tr th {\n",
       "        vertical-align: top;\n",
       "    }\n",
       "\n",
       "    .dataframe thead th {\n",
       "        text-align: right;\n",
       "    }\n",
       "</style>\n",
       "<table border=\"1\" class=\"dataframe\">\n",
       "  <thead>\n",
       "    <tr style=\"text-align: right;\">\n",
       "      <th></th>\n",
       "      <th>High</th>\n",
       "      <th>Low</th>\n",
       "    </tr>\n",
       "    <tr>\n",
       "      <th>Date</th>\n",
       "      <th></th>\n",
       "      <th></th>\n",
       "    </tr>\n",
       "  </thead>\n",
       "  <tbody>\n",
       "    <tr>\n",
       "      <th>2004-08-19</th>\n",
       "      <td>NaN</td>\n",
       "      <td>NaN</td>\n",
       "    </tr>\n",
       "    <tr>\n",
       "      <th>2004-08-20</th>\n",
       "      <td>2.500626</td>\n",
       "      <td>2.261524</td>\n",
       "    </tr>\n",
       "    <tr>\n",
       "      <th>2004-08-23</th>\n",
       "      <td>2.191784</td>\n",
       "      <td>4.259033</td>\n",
       "    </tr>\n",
       "    <tr>\n",
       "      <th>2004-08-24</th>\n",
       "      <td>-0.936489</td>\n",
       "      <td>-2.729767</td>\n",
       "    </tr>\n",
       "    <tr>\n",
       "      <th>2004-08-25</th>\n",
       "      <td>-1.793278</td>\n",
       "      <td>0.154423</td>\n",
       "    </tr>\n",
       "    <tr>\n",
       "      <th>...</th>\n",
       "      <td>...</td>\n",
       "      <td>...</td>\n",
       "    </tr>\n",
       "    <tr>\n",
       "      <th>2022-03-21</th>\n",
       "      <td>13.379883</td>\n",
       "      <td>33.590088</td>\n",
       "    </tr>\n",
       "    <tr>\n",
       "      <th>2022-03-22</th>\n",
       "      <td>78.350098</td>\n",
       "      <td>37.770020</td>\n",
       "    </tr>\n",
       "    <tr>\n",
       "      <th>2022-03-23</th>\n",
       "      <td>-29.500000</td>\n",
       "      <td>33.330078</td>\n",
       "    </tr>\n",
       "    <tr>\n",
       "      <th>2022-03-24</th>\n",
       "      <td>27.429932</td>\n",
       "      <td>-2.541992</td>\n",
       "    </tr>\n",
       "    <tr>\n",
       "      <th>2022-03-25</th>\n",
       "      <td>11.260010</td>\n",
       "      <td>33.201904</td>\n",
       "    </tr>\n",
       "  </tbody>\n",
       "</table>\n",
       "<p>4432 rows × 2 columns</p>\n",
       "</div>"
      ],
      "text/plain": [
       "                 High        Low\n",
       "Date                            \n",
       "2004-08-19        NaN        NaN\n",
       "2004-08-20   2.500626   2.261524\n",
       "2004-08-23   2.191784   4.259033\n",
       "2004-08-24  -0.936489  -2.729767\n",
       "2004-08-25  -1.793278   0.154423\n",
       "...               ...        ...\n",
       "2022-03-21  13.379883  33.590088\n",
       "2022-03-22  78.350098  37.770020\n",
       "2022-03-23 -29.500000  33.330078\n",
       "2022-03-24  27.429932  -2.541992\n",
       "2022-03-25  11.260010  33.201904\n",
       "\n",
       "[4432 rows x 2 columns]"
      ]
     },
     "execution_count": 30,
     "metadata": {},
     "output_type": "execute_result"
    }
   ],
   "source": [
    "train.diff()"
   ]
  },
  {
   "cell_type": "code",
   "execution_count": 31,
   "metadata": {
    "execution": {
     "iopub.execute_input": "2022-02-23T21:07:01.512901Z",
     "iopub.status.busy": "2022-02-23T21:07:01.512413Z",
     "iopub.status.idle": "2022-02-23T21:07:12.139802Z",
     "shell.execute_reply": "2022-02-23T21:07:12.138965Z",
     "shell.execute_reply.started": "2022-02-23T21:07:01.512862Z"
    }
   },
   "outputs": [
    {
     "name": "stderr",
     "output_type": "stream",
     "text": [
      "d:\\Users\\kaasa\\Anaconda3\\lib\\site-packages\\statsmodels\\tsa\\base\\tsa_model.py:583: ValueWarning: A date index has been provided, but it has no associated frequency information and so will be ignored when e.g. forecasting.\n",
      "  ' ignored when e.g. forecasting.', ValueWarning)\n",
      "d:\\Users\\kaasa\\Anaconda3\\lib\\site-packages\\statsmodels\\tsa\\statespace\\varmax.py:374: UserWarning: Non-stationary starting autoregressive parameters found. Using zeros as starting parameters.\n",
      "  warn('Non-stationary starting autoregressive parameters'\n",
      "d:\\Users\\kaasa\\Anaconda3\\lib\\site-packages\\statsmodels\\base\\model.py:568: ConvergenceWarning: Maximum Likelihood optimization failed to converge. Check mle_retvals\n",
      "  ConvergenceWarning)\n"
     ]
    },
    {
     "name": "stdout",
     "output_type": "stream",
     "text": [
      "                           Statespace Model Results                           \n",
      "==============================================================================\n",
      "Dep. Variable:        ['High', 'Low']   No. Observations:                 4432\n",
      "Model:                         VAR(1)   Log Likelihood              -59925.549\n",
      "                          + intercept   AIC                         119869.098\n",
      "Date:                Wed, 13 Apr 2022   BIC                         119926.668\n",
      "Time:                        10:56:43   HQIC                        119889.399\n",
      "Sample:                             0                                         \n",
      "                               - 4432                                         \n",
      "Covariance Type:                  opg                                         \n",
      "===================================================================================\n",
      "Ljung-Box (L1) (Q):       4359.05, 4253.82   Jarque-Bera (JB):     3928.51, 4301.06\n",
      "Prob(Q):                        0.00, 0.00   Prob(JB):                   0.00, 0.00\n",
      "Heteroskedasticity (H):         0.38, 1.26   Skew:                       1.72, 1.82\n",
      "Prob(H) (two-sided):            0.00, 0.00   Kurtosis:                   6.07, 6.17\n",
      "                          Results for equation High                           \n",
      "==============================================================================\n",
      "                 coef    std err          z      P>|z|      [0.025      0.975]\n",
      "------------------------------------------------------------------------------\n",
      "intercept    706.1583    464.611      1.520      0.129    -204.462    1616.779\n",
      "L1.High        1.0239      0.374      2.736      0.006       0.291       1.757\n",
      "L1.Low        -0.5834      0.701     -0.832      0.405      -1.957       0.790\n",
      "                           Results for equation Low                           \n",
      "==============================================================================\n",
      "                 coef    std err          z      P>|z|      [0.025      0.975]\n",
      "------------------------------------------------------------------------------\n",
      "intercept    643.4665    239.759      2.684      0.007     173.547    1113.386\n",
      "L1.High        0.0288      0.354      0.082      0.935      -0.665       0.722\n",
      "L1.Low         0.4299      0.494      0.871      0.384      -0.537       1.397\n",
      "                               Error covariance matrix                               \n",
      "=====================================================================================\n",
      "                        coef    std err          z      P>|z|      [0.025      0.975]\n",
      "-------------------------------------------------------------------------------------\n",
      "sqrt.var.High       428.5889    219.135      1.956      0.050      -0.907     858.085\n",
      "sqrt.cov.High.Low   325.3656    159.035      2.046      0.041      13.663     637.068\n",
      "sqrt.var.Low        112.9367     52.530      2.150      0.032       9.980     215.893\n",
      "=====================================================================================\n",
      "\n",
      "Warnings:\n",
      "[1] Covariance matrix calculated using the outer product of gradients (complex-step).\n"
     ]
    }
   ],
   "source": [
    "# Now we shall fit the model using VARMAX. Reason I took order 4 is order 4 AIC score in \n",
    "#print(sorted_order.summary())\n",
    "# seem pretty close to at order 31 - the smallest one. So we try. \n",
    "var = VARMAX(train, enforce_stationarity=True)\n",
    "fitted = var.fit(disp=False)\n",
    "print(fitted.summary())"
   ]
  },
  {
   "cell_type": "code",
   "execution_count": 32,
   "metadata": {
    "execution": {
     "iopub.execute_input": "2022-02-23T21:25:57.916872Z",
     "iopub.status.busy": "2022-02-23T21:25:57.916118Z",
     "iopub.status.idle": "2022-02-23T21:25:57.938746Z",
     "shell.execute_reply": "2022-02-23T21:25:57.937883Z",
     "shell.execute_reply.started": "2022-02-23T21:25:57.916825Z"
    }
   },
   "outputs": [
    {
     "name": "stderr",
     "output_type": "stream",
     "text": [
      "d:\\Users\\kaasa\\Anaconda3\\lib\\site-packages\\statsmodels\\tsa\\base\\tsa_model.py:379: ValueWarning: No supported index is available. Prediction results will be given with an integer index beginning at `start`.\n",
      "  ValueWarning)\n"
     ]
    },
    {
     "data": {
      "text/html": [
       "<div>\n",
       "<style scoped>\n",
       "    .dataframe tbody tr th:only-of-type {\n",
       "        vertical-align: middle;\n",
       "    }\n",
       "\n",
       "    .dataframe tbody tr th {\n",
       "        vertical-align: top;\n",
       "    }\n",
       "\n",
       "    .dataframe thead th {\n",
       "        text-align: right;\n",
       "    }\n",
       "</style>\n",
       "<table border=\"1\" class=\"dataframe\">\n",
       "  <thead>\n",
       "    <tr style=\"text-align: right;\">\n",
       "      <th></th>\n",
       "      <th>Pred High</th>\n",
       "      <th>Pred Low</th>\n",
       "      <th>High</th>\n",
       "      <th>Low</th>\n",
       "    </tr>\n",
       "    <tr>\n",
       "      <th>Date</th>\n",
       "      <th></th>\n",
       "      <th></th>\n",
       "      <th></th>\n",
       "      <th></th>\n",
       "    </tr>\n",
       "  </thead>\n",
       "  <tbody>\n",
       "    <tr>\n",
       "      <th>2022-03-28</th>\n",
       "      <td>1983.364378</td>\n",
       "      <td>1926.600079</td>\n",
       "      <td>2839.530029</td>\n",
       "      <td>2796.562988</td>\n",
       "    </tr>\n",
       "    <tr>\n",
       "      <th>2022-03-29</th>\n",
       "      <td>1613.067242</td>\n",
       "      <td>1528.991631</td>\n",
       "      <td>2883.250000</td>\n",
       "      <td>2849.679932</td>\n",
       "    </tr>\n",
       "    <tr>\n",
       "      <th>2022-03-30</th>\n",
       "      <td>1465.861666</td>\n",
       "      <td>1347.364269</td>\n",
       "      <td>2869.610107</td>\n",
       "      <td>2843.360107</td>\n",
       "    </tr>\n",
       "    <tr>\n",
       "      <th>2022-03-31</th>\n",
       "      <td>1421.089733</td>\n",
       "      <td>1265.030053</td>\n",
       "      <td>2852.889893</td>\n",
       "      <td>2792.379883</td>\n",
       "    </tr>\n",
       "    <tr>\n",
       "      <th>2022-04-01</th>\n",
       "      <td>1423.278215</td>\n",
       "      <td>1228.340243</td>\n",
       "      <td>2819.000000</td>\n",
       "      <td>2775.939941</td>\n",
       "    </tr>\n",
       "    <tr>\n",
       "      <th>2022-04-04</th>\n",
       "      <td>1446.923376</td>\n",
       "      <td>1212.629186</td>\n",
       "      <td>2880.875000</td>\n",
       "      <td>2816.489990</td>\n",
       "    </tr>\n",
       "    <tr>\n",
       "      <th>2022-04-05</th>\n",
       "      <td>1480.300333</td>\n",
       "      <td>1206.556569</td>\n",
       "      <td>2871.800049</td>\n",
       "      <td>2818.870117</td>\n",
       "    </tr>\n",
       "    <tr>\n",
       "      <th>2022-04-06</th>\n",
       "      <td>1518.019206</td>\n",
       "      <td>1204.908579</td>\n",
       "      <td>2796.969971</td>\n",
       "      <td>2728.362061</td>\n",
       "    </tr>\n",
       "    <tr>\n",
       "      <th>2022-04-07</th>\n",
       "      <td>1557.602706</td>\n",
       "      <td>1205.288139</td>\n",
       "      <td>2754.030029</td>\n",
       "      <td>2697.145020</td>\n",
       "    </tr>\n",
       "    <tr>\n",
       "      <th>2022-04-08</th>\n",
       "      <td>1597.912643</td>\n",
       "      <td>1206.593199</td>\n",
       "      <td>2725.000000</td>\n",
       "      <td>2675.050049</td>\n",
       "    </tr>\n",
       "    <tr>\n",
       "      <th>2022-04-11</th>\n",
       "      <td>1638.426488</td>\n",
       "      <td>1208.317119</td>\n",
       "      <td>2658.783936</td>\n",
       "      <td>2592.350098</td>\n",
       "    </tr>\n",
       "    <tr>\n",
       "      <th>2022-04-12</th>\n",
       "      <td>1678.904768</td>\n",
       "      <td>1210.227003</td>\n",
       "      <td>2648.469971</td>\n",
       "      <td>2551.520020</td>\n",
       "    </tr>\n",
       "  </tbody>\n",
       "</table>\n",
       "</div>"
      ],
      "text/plain": [
       "              Pred High     Pred Low         High          Low\n",
       "Date                                                          \n",
       "2022-03-28  1983.364378  1926.600079  2839.530029  2796.562988\n",
       "2022-03-29  1613.067242  1528.991631  2883.250000  2849.679932\n",
       "2022-03-30  1465.861666  1347.364269  2869.610107  2843.360107\n",
       "2022-03-31  1421.089733  1265.030053  2852.889893  2792.379883\n",
       "2022-04-01  1423.278215  1228.340243  2819.000000  2775.939941\n",
       "2022-04-04  1446.923376  1212.629186  2880.875000  2816.489990\n",
       "2022-04-05  1480.300333  1206.556569  2871.800049  2818.870117\n",
       "2022-04-06  1518.019206  1204.908579  2796.969971  2728.362061\n",
       "2022-04-07  1557.602706  1205.288139  2754.030029  2697.145020\n",
       "2022-04-08  1597.912643  1206.593199  2725.000000  2675.050049\n",
       "2022-04-11  1638.426488  1208.317119  2658.783936  2592.350098\n",
       "2022-04-12  1678.904768  1210.227003  2648.469971  2551.520020"
      ]
     },
     "execution_count": 32,
     "metadata": {},
     "output_type": "execute_result"
    }
   ],
   "source": [
    "predict = fitted.get_prediction(start=len(train), end=len(train)+len(test)-1)\n",
    "predictions = predict.predicted_mean\n",
    "predictions.index = test.index\n",
    "predictions.columns = ['Pred High', 'Pred Low']\n",
    "predictions = pd.concat([predictions, test], axis=1)\n",
    "predictions"
   ]
  },
  {
   "cell_type": "code",
   "execution_count": 33,
   "metadata": {
    "execution": {
     "iopub.execute_input": "2022-02-23T21:26:13.119993Z",
     "iopub.status.busy": "2022-02-23T21:26:13.119638Z",
     "iopub.status.idle": "2022-02-23T21:26:13.484099Z",
     "shell.execute_reply": "2022-02-23T21:26:13.483483Z",
     "shell.execute_reply.started": "2022-02-23T21:26:13.119956Z"
    }
   },
   "outputs": [
    {
     "data": {
      "text/plain": [
       "<matplotlib.axes._subplots.AxesSubplot at 0x1587132df48>"
      ]
     },
     "execution_count": 33,
     "metadata": {},
     "output_type": "execute_result"
    },
    {
     "data": {
      "image/png": "[encoded data removed]",
      "text/plain": [
       "<Figure size 1440x1080 with 1 Axes>"
      ]
     },
     "metadata": {},
     "output_type": "display_data"
    }
   ],
   "source": [
    "predictions.plot()"
   ]
  },
  {
   "cell_type": "code",
   "execution_count": 34,
   "metadata": {
    "execution": {
     "iopub.execute_input": "2022-02-23T21:34:00.661909Z",
     "iopub.status.busy": "2022-02-23T21:34:00.661621Z",
     "iopub.status.idle": "2022-02-23T21:34:00.673624Z",
     "shell.execute_reply": "2022-02-23T21:34:00.672560Z",
     "shell.execute_reply.started": "2022-02-23T21:34:00.661873Z"
    }
   },
   "outputs": [
    {
     "name": "stderr",
     "output_type": "stream",
     "text": [
      "d:\\Users\\kaasa\\Anaconda3\\lib\\site-packages\\statsmodels\\tsa\\base\\tsa_model.py:379: ValueWarning: No supported index is available. Prediction results will be given with an integer index beginning at `start`.\n",
      "  ValueWarning)\n"
     ]
    }
   ],
   "source": [
    "#prediction in future 10 days\n",
    "dates = pd.date_range(start=df.index[-1], periods=11)[1:]\n",
    "\n",
    "future = 10\n",
    "forecast = fitted.get_prediction(start=len(df), end=len(df)+future-1)\n",
    "forecast = forecast.predicted_mean\n",
    "forecast.set_index(dates, inplace=True)"
   ]
  },
  {
   "cell_type": "code",
   "execution_count": 35,
   "metadata": {
    "execution": {
     "iopub.execute_input": "2022-02-23T21:36:41.518748Z",
     "iopub.status.busy": "2022-02-23T21:36:41.518453Z",
     "iopub.status.idle": "2022-02-23T21:36:41.857982Z",
     "shell.execute_reply": "2022-02-23T21:36:41.856927Z",
     "shell.execute_reply.started": "2022-02-23T21:36:41.518718Z"
    }
   },
   "outputs": [
    {
     "data": {
      "text/plain": [
       "[<matplotlib.lines.Line2D at 0x15871030d08>,\n",
       " <matplotlib.lines.Line2D at 0x1587100b148>]"
      ]
     },
     "execution_count": 35,
     "metadata": {},
     "output_type": "execute_result"
    },
    {
     "data": {
      "image/png": "[encoded data removed]",
      "text/plain": [
       "<Figure size 1440x1080 with 1 Axes>"
      ]
     },
     "metadata": {},
     "output_type": "display_data"
    }
   ],
   "source": [
    "df[-10:].plot()\n",
    "plt.plot(forecast)"
   ]
  },
  {
   "cell_type": "markdown",
   "metadata": {},
   "source": [
    "That seems like terrible forecast. But we shall improve the model and see if it can help us, which is for the next time. Thanks."
   ]
  },
  {
   "cell_type": "code",
   "execution_count": null,
   "metadata": {},
   "outputs": [],
   "source": []
  }
 ],
 "metadata": {
  "kernelspec": {
   "display_name": "Python 3",
   "language": "python",
   "name": "python3"
  },
  "language_info": {
   "codemirror_mode": {
    "name": "ipython",
    "version": 3
   },
   "file_extension": ".py",
   "mimetype": "text/x-python",
   "name": "python",
   "nbconvert_exporter": "python",
   "pygments_lexer": "ipython3",
   "version": "3.7.6"
  }
 },
 "nbformat": 4,
 "nbformat_minor": 4
}
