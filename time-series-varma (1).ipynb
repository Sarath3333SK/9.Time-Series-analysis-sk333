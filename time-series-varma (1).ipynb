{
 "cells": [
  {
   "cell_type": "code",
   "execution_count": 1,
   "metadata": {
    "_cell_guid": "b1076dfc-b9ad-4769-8c92-a6c4dae69d19",
    "_uuid": "8f2839f25d086af736a60e9eeb907d3b93b6e0e5",
    "execution": {
     "iopub.execute_input": "2020-12-11T06:50:09.469693Z",
     "iopub.status.busy": "2020-12-11T06:50:09.468913Z",
     "iopub.status.idle": "2020-12-11T06:50:09.480814Z",
     "shell.execute_reply": "2020-12-11T06:50:09.479816Z"
    },
    "papermill": {
     "duration": 0.048549,
     "end_time": "2020-12-11T06:50:09.480968",
     "exception": false,
     "start_time": "2020-12-11T06:50:09.432419",
     "status": "completed"
    },
    "tags": []
   },
   "outputs": [],
   "source": [
    "# This Python 3 environment comes with many helpful analytics libraries installed\n",
    "# It is defined by the kaggle/python Docker image: https://github.com/kaggle/docker-python\n",
    "# For example, here's several helpful packages to load\n",
    "\n",
    "import numpy as np # linear algebra\n",
    "import pandas as pd # data processing, CSV file I/O (e.g. pd.read_csv)\n",
    "\n",
    "# Input data files are available in the read-only \"../input/\" directory\n",
    "# For example, running this (by clicking run or pressing Shift+Enter) will list all files under the input directory\n",
    "\n",
    "import os\n",
    "for dirname, _, filenames in os.walk('Tatacoffee13_21.csv'):\n",
    "    for filename in filenames:\n",
    "        print(os.path.join(dirname, filename))\n",
    "\n",
    "# You can write up to 20GB to the current directory (/kaggle/working/) that gets preserved as output when you create a version using \"Save & Run All\" \n",
    "# You can also write temporary files to /kaggle/temp/, but they won't be saved outside of the current session"
   ]
  },
  {
   "cell_type": "markdown",
   "metadata": {
    "_cell_guid": "79c7e3d0-c299-4dcb-8224-4455121ee9b0",
    "_uuid": "d629ff2d2480ee46fbb7e2d37f6b5fab8052498a",
    "collapsed": true,
    "papermill": {
     "duration": 0.028493,
     "end_time": "2020-12-11T06:50:09.538904",
     "exception": false,
     "start_time": "2020-12-11T06:50:09.510411",
     "status": "completed"
    },
    "tags": []
   },
   "source": [
    "# VARMA - Vector Autoregression with Moving Average\n",
    "The only difference with VAR model is that the error terms are given the moving averag representation of order(q)\n",
    "\n"
   ]
  },
  {
   "cell_type": "code",
   "execution_count": 27,
   "metadata": {
    "execution": {
     "iopub.execute_input": "2020-12-11T06:50:09.601313Z",
     "iopub.status.busy": "2020-12-11T06:50:09.600576Z",
     "iopub.status.idle": "2020-12-11T06:50:38.509609Z",
     "shell.execute_reply": "2020-12-11T06:50:38.508863Z"
    },
    "papermill": {
     "duration": 28.942203,
     "end_time": "2020-12-11T06:50:38.509738",
     "exception": false,
     "start_time": "2020-12-11T06:50:09.567535",
     "status": "completed"
    },
    "tags": []
   },
   "outputs": [],
   "source": [
    "#pip install pmdarima"
   ]
  },
  {
   "cell_type": "markdown",
   "metadata": {
    "papermill": {
     "duration": 0.040919,
     "end_time": "2020-12-11T06:50:38.591836",
     "exception": false,
     "start_time": "2020-12-11T06:50:38.550917",
     "status": "completed"
    },
    "tags": []
   },
   "source": [
    "## Import Libraries and Load the Data"
   ]
  },
  {
   "cell_type": "code",
   "execution_count": 3,
   "metadata": {
    "execution": {
     "iopub.execute_input": "2020-12-11T06:50:38.689204Z",
     "iopub.status.busy": "2020-12-11T06:50:38.688417Z",
     "iopub.status.idle": "2020-12-11T06:50:40.493674Z",
     "shell.execute_reply": "2020-12-11T06:50:40.494276Z"
    },
    "papermill": {
     "duration": 1.860981,
     "end_time": "2020-12-11T06:50:40.494429",
     "exception": false,
     "start_time": "2020-12-11T06:50:38.633448",
     "status": "completed"
    },
    "tags": []
   },
   "outputs": [],
   "source": [
    "import numpy as np \n",
    "import pandas as pd\n",
    "\n",
    "# visualizations\n",
    "import matplotlib.pyplot as plt\n",
    "import seaborn as sns\n",
    "from pylab import rcParams\n",
    "rcParams['figure.figsize'] = (12,5)\n",
    "%matplotlib inline\n",
    "\n",
    "# time series related \n",
    "from pmdarima import auto_arima\n",
    "from statsmodels.tsa.stattools import adfuller\n",
    "from statsmodels.tools.eval_measures import mse,rmse\n",
    "from statsmodels.tsa.statespace.varmax import VARMAX,VARMAXResults\n",
    "\n",
    "# handle warnings\n",
    "import warnings\n",
    "warnings.filterwarnings(action='ignore',category=DeprecationWarning)\n",
    "warnings.filterwarnings(action='ignore',category=FutureWarning)"
   ]
  },
  {
   "cell_type": "code",
   "execution_count": 4,
   "metadata": {
    "execution": {
     "iopub.execute_input": "2020-12-11T06:50:40.585744Z",
     "iopub.status.busy": "2020-12-11T06:50:40.584981Z",
     "iopub.status.idle": "2020-12-11T06:50:40.671076Z",
     "shell.execute_reply": "2020-12-11T06:50:40.671696Z"
    },
    "papermill": {
     "duration": 0.13638,
     "end_time": "2020-12-11T06:50:40.671871",
     "exception": false,
     "start_time": "2020-12-11T06:50:40.535491",
     "status": "completed"
    },
    "tags": []
   },
   "outputs": [],
   "source": [
    "# Load datasets\n",
    "df = pd.read_csv('Tatacoffee13_21.csv',index_col=0, parse_dates=True)\n",
    "\n",
    "sp = pd.read_csv('varforecasted_28.csv',index_col=0, parse_dates=True)\n"
   ]
  },
  {
   "cell_type": "code",
   "execution_count": 5,
   "metadata": {
    "execution": {
     "iopub.execute_input": "2020-12-11T06:50:40.765050Z",
     "iopub.status.busy": "2020-12-11T06:50:40.764188Z",
     "iopub.status.idle": "2020-12-11T06:50:40.773328Z",
     "shell.execute_reply": "2020-12-11T06:50:40.772623Z"
    },
    "papermill": {
     "duration": 0.060302,
     "end_time": "2020-12-11T06:50:40.773452",
     "exception": false,
     "start_time": "2020-12-11T06:50:40.713150",
     "status": "completed"
    },
    "tags": []
   },
   "outputs": [
    {
     "data": {
      "text/html": [
       "<div>\n",
       "<style scoped>\n",
       "    .dataframe tbody tr th:only-of-type {\n",
       "        vertical-align: middle;\n",
       "    }\n",
       "\n",
       "    .dataframe tbody tr th {\n",
       "        vertical-align: top;\n",
       "    }\n",
       "\n",
       "    .dataframe thead th {\n",
       "        text-align: right;\n",
       "    }\n",
       "</style>\n",
       "<table border=\"1\" class=\"dataframe\">\n",
       "  <thead>\n",
       "    <tr style=\"text-align: right;\">\n",
       "      <th></th>\n",
       "      <th>Open</th>\n",
       "      <th>High</th>\n",
       "      <th>Low</th>\n",
       "      <th>Close</th>\n",
       "    </tr>\n",
       "    <tr>\n",
       "      <th>Date</th>\n",
       "      <th></th>\n",
       "      <th></th>\n",
       "      <th></th>\n",
       "      <th></th>\n",
       "    </tr>\n",
       "  </thead>\n",
       "  <tbody>\n",
       "    <tr>\n",
       "      <th>2013-01-01</th>\n",
       "      <td>1410.60</td>\n",
       "      <td>1427.90</td>\n",
       "      <td>1408.30</td>\n",
       "      <td>1415.10</td>\n",
       "    </tr>\n",
       "    <tr>\n",
       "      <th>2013-01-02</th>\n",
       "      <td>1421.00</td>\n",
       "      <td>1626.60</td>\n",
       "      <td>1416.15</td>\n",
       "      <td>1607.40</td>\n",
       "    </tr>\n",
       "    <tr>\n",
       "      <th>2013-01-03</th>\n",
       "      <td>1632.55</td>\n",
       "      <td>1673.90</td>\n",
       "      <td>1613.05</td>\n",
       "      <td>1626.20</td>\n",
       "    </tr>\n",
       "    <tr>\n",
       "      <th>2013-01-04</th>\n",
       "      <td>1627.75</td>\n",
       "      <td>1627.75</td>\n",
       "      <td>1574.60</td>\n",
       "      <td>1579.05</td>\n",
       "    </tr>\n",
       "    <tr>\n",
       "      <th>2013-01-07</th>\n",
       "      <td>1580.00</td>\n",
       "      <td>1639.50</td>\n",
       "      <td>1565.50</td>\n",
       "      <td>1595.65</td>\n",
       "    </tr>\n",
       "  </tbody>\n",
       "</table>\n",
       "</div>"
      ],
      "text/plain": [
       "               Open     High      Low    Close\n",
       "Date                                          \n",
       "2013-01-01  1410.60  1427.90  1408.30  1415.10\n",
       "2013-01-02  1421.00  1626.60  1416.15  1607.40\n",
       "2013-01-03  1632.55  1673.90  1613.05  1626.20\n",
       "2013-01-04  1627.75  1627.75  1574.60  1579.05\n",
       "2013-01-07  1580.00  1639.50  1565.50  1595.65"
      ]
     },
     "execution_count": 5,
     "metadata": {},
     "output_type": "execute_result"
    }
   ],
   "source": [
    "df.head()"
   ]
  },
  {
   "cell_type": "code",
   "execution_count": 6,
   "metadata": {
    "execution": {
     "iopub.execute_input": "2020-12-11T06:50:40.867654Z",
     "iopub.status.busy": "2020-12-11T06:50:40.866719Z",
     "iopub.status.idle": "2020-12-11T06:50:40.871142Z",
     "shell.execute_reply": "2020-12-11T06:50:40.870399Z"
    },
    "papermill": {
     "duration": 0.055872,
     "end_time": "2020-12-11T06:50:40.871262",
     "exception": false,
     "start_time": "2020-12-11T06:50:40.815390",
     "status": "completed"
    },
    "tags": []
   },
   "outputs": [
    {
     "data": {
      "text/html": [
       "<div>\n",
       "<style scoped>\n",
       "    .dataframe tbody tr th:only-of-type {\n",
       "        vertical-align: middle;\n",
       "    }\n",
       "\n",
       "    .dataframe tbody tr th {\n",
       "        vertical-align: top;\n",
       "    }\n",
       "\n",
       "    .dataframe thead th {\n",
       "        text-align: right;\n",
       "    }\n",
       "</style>\n",
       "<table border=\"1\" class=\"dataframe\">\n",
       "  <thead>\n",
       "    <tr style=\"text-align: right;\">\n",
       "      <th></th>\n",
       "      <th>Close</th>\n",
       "      <th>High</th>\n",
       "      <th>Open</th>\n",
       "      <th>Low</th>\n",
       "    </tr>\n",
       "  </thead>\n",
       "  <tbody>\n",
       "    <tr>\n",
       "      <th>0</th>\n",
       "      <td>0.651947</td>\n",
       "      <td>0.540348</td>\n",
       "      <td>0.637173</td>\n",
       "      <td>0.684598</td>\n",
       "    </tr>\n",
       "    <tr>\n",
       "      <th>1</th>\n",
       "      <td>0.646940</td>\n",
       "      <td>0.541544</td>\n",
       "      <td>0.631281</td>\n",
       "      <td>0.672035</td>\n",
       "    </tr>\n",
       "    <tr>\n",
       "      <th>2</th>\n",
       "      <td>0.640741</td>\n",
       "      <td>0.539336</td>\n",
       "      <td>0.626666</td>\n",
       "      <td>0.664086</td>\n",
       "    </tr>\n",
       "    <tr>\n",
       "      <th>3</th>\n",
       "      <td>0.634307</td>\n",
       "      <td>0.534927</td>\n",
       "      <td>0.621015</td>\n",
       "      <td>0.656887</td>\n",
       "    </tr>\n",
       "    <tr>\n",
       "      <th>4</th>\n",
       "      <td>0.628102</td>\n",
       "      <td>0.529992</td>\n",
       "      <td>0.615234</td>\n",
       "      <td>0.650382</td>\n",
       "    </tr>\n",
       "  </tbody>\n",
       "</table>\n",
       "</div>"
      ],
      "text/plain": [
       "      Close      High      Open       Low\n",
       "0  0.651947  0.540348  0.637173  0.684598\n",
       "1  0.646940  0.541544  0.631281  0.672035\n",
       "2  0.640741  0.539336  0.626666  0.664086\n",
       "3  0.634307  0.534927  0.621015  0.656887\n",
       "4  0.628102  0.529992  0.615234  0.650382"
      ]
     },
     "execution_count": 6,
     "metadata": {},
     "output_type": "execute_result"
    }
   ],
   "source": [
    "sp.head()"
   ]
  },
  {
   "cell_type": "code",
   "execution_count": 7,
   "metadata": {
    "execution": {
     "iopub.execute_input": "2020-12-11T06:50:40.969386Z",
     "iopub.status.busy": "2020-12-11T06:50:40.968491Z",
     "iopub.status.idle": "2020-12-11T06:50:40.972156Z",
     "shell.execute_reply": "2020-12-11T06:50:40.972684Z"
    },
    "papermill": {
     "duration": 0.059254,
     "end_time": "2020-12-11T06:50:40.972837",
     "exception": false,
     "start_time": "2020-12-11T06:50:40.913583",
     "status": "completed"
    },
    "tags": []
   },
   "outputs": [
    {
     "data": {
      "text/html": [
       "<div>\n",
       "<style scoped>\n",
       "    .dataframe tbody tr th:only-of-type {\n",
       "        vertical-align: middle;\n",
       "    }\n",
       "\n",
       "    .dataframe tbody tr th {\n",
       "        vertical-align: top;\n",
       "    }\n",
       "\n",
       "    .dataframe thead th {\n",
       "        text-align: right;\n",
       "    }\n",
       "</style>\n",
       "<table border=\"1\" class=\"dataframe\">\n",
       "  <thead>\n",
       "    <tr style=\"text-align: right;\">\n",
       "      <th></th>\n",
       "      <th>Open</th>\n",
       "      <th>High</th>\n",
       "      <th>Low</th>\n",
       "      <th>Close</th>\n",
       "    </tr>\n",
       "    <tr>\n",
       "      <th>Date</th>\n",
       "      <th></th>\n",
       "      <th></th>\n",
       "      <th></th>\n",
       "      <th></th>\n",
       "    </tr>\n",
       "  </thead>\n",
       "  <tbody>\n",
       "    <tr>\n",
       "      <th>2013-01-01</th>\n",
       "      <td>1410.60</td>\n",
       "      <td>1427.90</td>\n",
       "      <td>1408.30</td>\n",
       "      <td>1415.10</td>\n",
       "    </tr>\n",
       "    <tr>\n",
       "      <th>2013-01-02</th>\n",
       "      <td>1421.00</td>\n",
       "      <td>1626.60</td>\n",
       "      <td>1416.15</td>\n",
       "      <td>1607.40</td>\n",
       "    </tr>\n",
       "    <tr>\n",
       "      <th>2013-01-03</th>\n",
       "      <td>1632.55</td>\n",
       "      <td>1673.90</td>\n",
       "      <td>1613.05</td>\n",
       "      <td>1626.20</td>\n",
       "    </tr>\n",
       "    <tr>\n",
       "      <th>2013-01-04</th>\n",
       "      <td>1627.75</td>\n",
       "      <td>1627.75</td>\n",
       "      <td>1574.60</td>\n",
       "      <td>1579.05</td>\n",
       "    </tr>\n",
       "    <tr>\n",
       "      <th>2013-01-07</th>\n",
       "      <td>1580.00</td>\n",
       "      <td>1639.50</td>\n",
       "      <td>1565.50</td>\n",
       "      <td>1595.65</td>\n",
       "    </tr>\n",
       "  </tbody>\n",
       "</table>\n",
       "</div>"
      ],
      "text/plain": [
       "               Open     High      Low    Close\n",
       "Date                                          \n",
       "2013-01-01  1410.60  1427.90  1408.30  1415.10\n",
       "2013-01-02  1421.00  1626.60  1416.15  1607.40\n",
       "2013-01-03  1632.55  1673.90  1613.05  1626.20\n",
       "2013-01-04  1627.75  1627.75  1574.60  1579.05\n",
       "2013-01-07  1580.00  1639.50  1565.50  1595.65"
      ]
     },
     "execution_count": 7,
     "metadata": {},
     "output_type": "execute_result"
    }
   ],
   "source": [
    "df = df\n",
    "df.head()"
   ]
  },
  {
   "cell_type": "code",
   "execution_count": 8,
   "metadata": {
    "execution": {
     "iopub.execute_input": "2020-12-11T06:50:41.065835Z",
     "iopub.status.busy": "2020-12-11T06:50:41.065091Z",
     "iopub.status.idle": "2020-12-11T06:50:41.087332Z",
     "shell.execute_reply": "2020-12-11T06:50:41.087911Z"
    },
    "papermill": {
     "duration": 0.072102,
     "end_time": "2020-12-11T06:50:41.088076",
     "exception": false,
     "start_time": "2020-12-11T06:50:41.015974",
     "status": "completed"
    },
    "tags": []
   },
   "outputs": [
    {
     "data": {
      "text/plain": [
       "(2225, 4)"
      ]
     },
     "execution_count": 8,
     "metadata": {},
     "output_type": "execute_result"
    }
   ],
   "source": [
    "# drop the null values if any\n",
    "df.dropna(inplace=True)\n",
    "df.shape"
   ]
  },
  {
   "cell_type": "markdown",
   "metadata": {
    "papermill": {
     "duration": 0.043401,
     "end_time": "2020-12-11T06:50:41.175901",
     "exception": false,
     "start_time": "2020-12-11T06:50:41.132500",
     "status": "completed"
    },
    "tags": []
   },
   "source": [
    "## Plot the data"
   ]
  },
  {
   "cell_type": "code",
   "execution_count": 9,
   "metadata": {
    "execution": {
     "iopub.execute_input": "2020-12-11T06:50:41.278160Z",
     "iopub.status.busy": "2020-12-11T06:50:41.277122Z",
     "iopub.status.idle": "2020-12-11T06:50:41.587083Z",
     "shell.execute_reply": "2020-12-11T06:50:41.586319Z"
    },
    "papermill": {
     "duration": 0.367677,
     "end_time": "2020-12-11T06:50:41.587205",
     "exception": false,
     "start_time": "2020-12-11T06:50:41.219528",
     "status": "completed"
    },
    "tags": []
   },
   "outputs": [
    {
     "data": {
      "image/png": "[encoded data removed]",
      "text/plain": [
       "<Figure size 864x360 with 1 Axes>"
      ]
     },
     "metadata": {
      "needs_background": "light"
     },
     "output_type": "display_data"
    }
   ],
   "source": [
    "title = 'M2 Money Stock vs. Personal Consumption Expenditures'\n",
    "ylabel= 'Billions of dollars'\n",
    "xlabel= ''\n",
    "\n",
    "ax = df['High'].plot(figsize=(12,5),title=title,legend=True)\n",
    "ax.autoscale(axis='x',tight=True)\n",
    "ax.set(xlabel=xlabel, ylabel=ylabel)\n",
    "df['Low'].plot(legend=True);"
   ]
  },
  {
   "cell_type": "markdown",
   "metadata": {
    "papermill": {
     "duration": 0.04517,
     "end_time": "2020-12-11T06:50:41.678344",
     "exception": false,
     "start_time": "2020-12-11T06:50:41.633174",
     "status": "completed"
    },
    "tags": []
   },
   "source": [
    "## Test for Stationarity"
   ]
  },
  {
   "cell_type": "markdown",
   "metadata": {
    "papermill": {
     "duration": 0.045213,
     "end_time": "2020-12-11T06:50:41.768757",
     "exception": false,
     "start_time": "2020-12-11T06:50:41.723544",
     "status": "completed"
    },
    "tags": []
   },
   "source": [
    "Refer the other notebook https://www.kaggle.com/prakharprasad/time-series-vector-autoregression where the test for stationarity was done on both Money as well as the Spending feature. Order 2 difference makes the data stationary. For sake of brevity, I am skipping this step. "
   ]
  },
  {
   "cell_type": "markdown",
   "metadata": {
    "papermill": {
     "duration": 0.045568,
     "end_time": "2020-12-11T06:50:41.860457",
     "exception": false,
     "start_time": "2020-12-11T06:50:41.814889",
     "status": "completed"
    },
    "tags": []
   },
   "source": [
    "## Decide the order of the VARMA(p,q) "
   ]
  },
  {
   "cell_type": "code",
   "execution_count": 11,
   "metadata": {
    "execution": {
     "iopub.execute_input": "2020-12-11T06:50:41.999228Z",
     "iopub.status.busy": "2020-12-11T06:50:41.998347Z",
     "iopub.status.idle": "2020-12-11T06:50:43.348615Z",
     "shell.execute_reply": "2020-12-11T06:50:43.347891Z"
    },
    "papermill": {
     "duration": 1.442705,
     "end_time": "2020-12-11T06:50:43.348734",
     "exception": false,
     "start_time": "2020-12-11T06:50:41.906029",
     "status": "completed"
    },
    "tags": []
   },
   "outputs": [
    {
     "name": "stderr",
     "output_type": "stream",
     "text": [
      "d:\\Users\\kaasa\\Anaconda3\\lib\\site-packages\\pmdarima\\arima\\_auto_solvers.py:207: ModelFitWarning: Unable to fit ARIMA for order=(2, 1, 2) seasonal_order=(0, 0, 0, 1); data is likely non-stationary. (if you do not want to see these warnings, run with error_action=\"ignore\")\n",
      "  ModelFitWarning)\n",
      "d:\\Users\\kaasa\\Anaconda3\\lib\\site-packages\\pmdarima\\arima\\_auto_solvers.py:207: ModelFitWarning: Unable to fit ARIMA for order=(0, 1, 0) seasonal_order=(0, 0, 0, 1); data is likely non-stationary. (if you do not want to see these warnings, run with error_action=\"ignore\")\n",
      "  ModelFitWarning)\n",
      "d:\\Users\\kaasa\\Anaconda3\\lib\\site-packages\\pmdarima\\arima\\_auto_solvers.py:207: ModelFitWarning: Unable to fit ARIMA for order=(1, 1, 0) seasonal_order=(0, 0, 0, 1); data is likely non-stationary. (if you do not want to see these warnings, run with error_action=\"ignore\")\n",
      "  ModelFitWarning)\n",
      "d:\\Users\\kaasa\\Anaconda3\\lib\\site-packages\\pmdarima\\arima\\_auto_solvers.py:207: ModelFitWarning: Unable to fit ARIMA for order=(0, 1, 1) seasonal_order=(0, 0, 0, 1); data is likely non-stationary. (if you do not want to see these warnings, run with error_action=\"ignore\")\n",
      "  ModelFitWarning)\n",
      "d:\\Users\\kaasa\\Anaconda3\\lib\\site-packages\\pmdarima\\arima\\_auto_solvers.py:207: ModelFitWarning: Unable to fit ARIMA for order=(1, 1, 1) seasonal_order=(0, 0, 0, 1); data is likely non-stationary. (if you do not want to see these warnings, run with error_action=\"ignore\")\n",
      "  ModelFitWarning)\n",
      "d:\\Users\\kaasa\\Anaconda3\\lib\\site-packages\\pmdarima\\arima\\_auto_solvers.py:207: ModelFitWarning: Unable to fit ARIMA for order=(1, 1, 2) seasonal_order=(0, 0, 0, 1); data is likely non-stationary. (if you do not want to see these warnings, run with error_action=\"ignore\")\n",
      "  ModelFitWarning)\n",
      "d:\\Users\\kaasa\\Anaconda3\\lib\\site-packages\\pmdarima\\arima\\_auto_solvers.py:207: ModelFitWarning: Unable to fit ARIMA for order=(2, 1, 3) seasonal_order=(0, 0, 0, 1); data is likely non-stationary. (if you do not want to see these warnings, run with error_action=\"ignore\")\n",
      "  ModelFitWarning)\n",
      "d:\\Users\\kaasa\\Anaconda3\\lib\\site-packages\\pmdarima\\arima\\_auto_solvers.py:207: ModelFitWarning: Unable to fit ARIMA for order=(1, 1, 3) seasonal_order=(0, 0, 0, 1); data is likely non-stationary. (if you do not want to see these warnings, run with error_action=\"ignore\")\n",
      "  ModelFitWarning)\n",
      "d:\\Users\\kaasa\\Anaconda3\\lib\\site-packages\\pmdarima\\arima\\_auto_solvers.py:207: ModelFitWarning: Unable to fit ARIMA for order=(1, 1, 4) seasonal_order=(0, 0, 0, 1); data is likely non-stationary. (if you do not want to see these warnings, run with error_action=\"ignore\")\n",
      "  ModelFitWarning)\n",
      "d:\\Users\\kaasa\\Anaconda3\\lib\\site-packages\\pmdarima\\arima\\_auto_solvers.py:207: ModelFitWarning: Unable to fit ARIMA for order=(0, 1, 3) seasonal_order=(0, 0, 0, 1); data is likely non-stationary. (if you do not want to see these warnings, run with error_action=\"ignore\")\n",
      "  ModelFitWarning)\n",
      "d:\\Users\\kaasa\\Anaconda3\\lib\\site-packages\\pmdarima\\arima\\_auto_solvers.py:207: ModelFitWarning: Unable to fit ARIMA for order=(0, 1, 2) seasonal_order=(0, 0, 0, 1); data is likely non-stationary. (if you do not want to see these warnings, run with error_action=\"ignore\")\n",
      "  ModelFitWarning)\n"
     ]
    },
    {
     "ename": "ValueError",
     "evalue": "Could not successfully fit ARIMA to input data. It is likely your data is non-stationary. Please induce stationarity or try a different range of model order params. If your data is seasonal, check the period (m) of the data.",
     "output_type": "error",
     "traceback": [
      "\u001b[1;31m---------------------------------------------------------------------------\u001b[0m",
      "\u001b[1;31mValueError\u001b[0m                                Traceback (most recent call last)",
      "\u001b[1;32m<ipython-input-11-61411f2ffb1a>\u001b[0m in \u001b[0;36m<module>\u001b[1;34m\u001b[0m\n\u001b[1;32m----> 1\u001b[1;33m \u001b[0mauto_arima\u001b[0m\u001b[1;33m(\u001b[0m\u001b[0mdf\u001b[0m\u001b[1;33m[\u001b[0m\u001b[1;34m'High'\u001b[0m\u001b[1;33m]\u001b[0m\u001b[1;33m,\u001b[0m\u001b[0mmaxiter\u001b[0m\u001b[1;33m=\u001b[0m\u001b[1;36m100\u001b[0m\u001b[1;33m)\u001b[0m\u001b[1;33m\u001b[0m\u001b[1;33m\u001b[0m\u001b[0m\n\u001b[0m",
      "\u001b[1;32md:\\Users\\kaasa\\Anaconda3\\lib\\site-packages\\pmdarima\\arima\\auto.py\u001b[0m in \u001b[0;36mauto_arima\u001b[1;34m(y, exogenous, start_p, d, start_q, max_p, max_d, max_q, start_P, D, start_Q, max_P, max_D, max_Q, max_order, m, seasonal, stationary, information_criterion, alpha, test, seasonal_test, stepwise, n_jobs, start_params, trend, method, transparams, solver, maxiter, disp, callback, offset_test_args, seasonal_test_args, suppress_warnings, error_action, trace, random, random_state, n_fits, return_valid_fits, out_of_sample_size, scoring, scoring_args, with_intercept, **fit_args)\u001b[0m\n\u001b[0;32m    508\u001b[0m \u001b[1;33m\u001b[0m\u001b[0m\n\u001b[0;32m    509\u001b[0m     \u001b[1;31m# filter the non-successful ones\u001b[0m\u001b[1;33m\u001b[0m\u001b[1;33m\u001b[0m\u001b[1;33m\u001b[0m\u001b[0m\n\u001b[1;32m--> 510\u001b[1;33m     \u001b[0mfiltered\u001b[0m \u001b[1;33m=\u001b[0m \u001b[0m_post_ppc_arima\u001b[0m\u001b[1;33m(\u001b[0m\u001b[0mall_res\u001b[0m\u001b[1;33m)\u001b[0m\u001b[1;33m\u001b[0m\u001b[1;33m\u001b[0m\u001b[0m\n\u001b[0m\u001b[0;32m    511\u001b[0m \u001b[1;33m\u001b[0m\u001b[0m\n\u001b[0;32m    512\u001b[0m     \u001b[1;31m# sort by the criteria - lower is better for both AIC and BIC\u001b[0m\u001b[1;33m\u001b[0m\u001b[1;33m\u001b[0m\u001b[1;33m\u001b[0m\u001b[0m\n",
      "\u001b[1;32md:\\Users\\kaasa\\Anaconda3\\lib\\site-packages\\pmdarima\\arima\\auto.py\u001b[0m in \u001b[0;36m_post_ppc_arima\u001b[1;34m(a)\u001b[0m\n\u001b[0;32m    552\u001b[0m     \u001b[1;31m# if the list is empty, or if it was an ARIMA and it's None\u001b[0m\u001b[1;33m\u001b[0m\u001b[1;33m\u001b[0m\u001b[1;33m\u001b[0m\u001b[0m\n\u001b[0;32m    553\u001b[0m     \u001b[1;32mif\u001b[0m \u001b[1;32mnot\u001b[0m \u001b[0ma\u001b[0m\u001b[1;33m:\u001b[0m  \u001b[1;31m# check for truthiness rather than None explicitly\u001b[0m\u001b[1;33m\u001b[0m\u001b[1;33m\u001b[0m\u001b[0m\n\u001b[1;32m--> 554\u001b[1;33m         raise ValueError('Could not successfully fit ARIMA to input data. '\n\u001b[0m\u001b[0;32m    555\u001b[0m                          \u001b[1;34m'It is likely your data is non-stationary. Please '\u001b[0m\u001b[1;33m\u001b[0m\u001b[1;33m\u001b[0m\u001b[0m\n\u001b[0;32m    556\u001b[0m                          \u001b[1;34m'induce stationarity or try a different '\u001b[0m\u001b[1;33m\u001b[0m\u001b[1;33m\u001b[0m\u001b[0m\n",
      "\u001b[1;31mValueError\u001b[0m: Could not successfully fit ARIMA to input data. It is likely your data is non-stationary. Please induce stationarity or try a different range of model order params. If your data is seasonal, check the period (m) of the data."
     ]
    }
   ],
   "source": [
    "auto_arima(df['High'],maxiter=100)"
   ]
  },
  {
   "cell_type": "code",
   "execution_count": 12,
   "metadata": {
    "execution": {
     "iopub.execute_input": "2020-12-11T06:50:43.452049Z",
     "iopub.status.busy": "2020-12-11T06:50:43.451299Z",
     "iopub.status.idle": "2020-12-11T06:50:47.221031Z",
     "shell.execute_reply": "2020-12-11T06:50:47.220309Z"
    },
    "papermill": {
     "duration": 3.825494,
     "end_time": "2020-12-11T06:50:47.221184",
     "exception": false,
     "start_time": "2020-12-11T06:50:43.395690",
     "status": "completed"
    },
    "tags": []
   },
   "outputs": [
    {
     "name": "stderr",
     "output_type": "stream",
     "text": [
      "d:\\Users\\kaasa\\Anaconda3\\lib\\site-packages\\pmdarima\\arima\\_auto_solvers.py:207: ModelFitWarning: Unable to fit ARIMA for order=(2, 1, 2) seasonal_order=(0, 0, 0, 1); data is likely non-stationary. (if you do not want to see these warnings, run with error_action=\"ignore\")\n",
      "  ModelFitWarning)\n",
      "d:\\Users\\kaasa\\Anaconda3\\lib\\site-packages\\pmdarima\\arima\\_auto_solvers.py:207: ModelFitWarning: Unable to fit ARIMA for order=(0, 1, 0) seasonal_order=(0, 0, 0, 1); data is likely non-stationary. (if you do not want to see these warnings, run with error_action=\"ignore\")\n",
      "  ModelFitWarning)\n",
      "d:\\Users\\kaasa\\Anaconda3\\lib\\site-packages\\pmdarima\\arima\\_auto_solvers.py:207: ModelFitWarning: Unable to fit ARIMA for order=(1, 1, 0) seasonal_order=(0, 0, 0, 1); data is likely non-stationary. (if you do not want to see these warnings, run with error_action=\"ignore\")\n",
      "  ModelFitWarning)\n",
      "d:\\Users\\kaasa\\Anaconda3\\lib\\site-packages\\pmdarima\\arima\\_auto_solvers.py:207: ModelFitWarning: Unable to fit ARIMA for order=(0, 1, 1) seasonal_order=(0, 0, 0, 1); data is likely non-stationary. (if you do not want to see these warnings, run with error_action=\"ignore\")\n",
      "  ModelFitWarning)\n",
      "d:\\Users\\kaasa\\Anaconda3\\lib\\site-packages\\pmdarima\\arima\\_auto_solvers.py:207: ModelFitWarning: Unable to fit ARIMA for order=(1, 1, 1) seasonal_order=(0, 0, 0, 1); data is likely non-stationary. (if you do not want to see these warnings, run with error_action=\"ignore\")\n",
      "  ModelFitWarning)\n",
      "d:\\Users\\kaasa\\Anaconda3\\lib\\site-packages\\pmdarima\\arima\\_auto_solvers.py:207: ModelFitWarning: Unable to fit ARIMA for order=(1, 1, 2) seasonal_order=(0, 0, 0, 1); data is likely non-stationary. (if you do not want to see these warnings, run with error_action=\"ignore\")\n",
      "  ModelFitWarning)\n",
      "d:\\Users\\kaasa\\Anaconda3\\lib\\site-packages\\pmdarima\\arima\\_auto_solvers.py:207: ModelFitWarning: Unable to fit ARIMA for order=(2, 1, 3) seasonal_order=(0, 0, 0, 1); data is likely non-stationary. (if you do not want to see these warnings, run with error_action=\"ignore\")\n",
      "  ModelFitWarning)\n",
      "d:\\Users\\kaasa\\Anaconda3\\lib\\site-packages\\pmdarima\\arima\\_auto_solvers.py:207: ModelFitWarning: Unable to fit ARIMA for order=(1, 1, 3) seasonal_order=(0, 0, 0, 1); data is likely non-stationary. (if you do not want to see these warnings, run with error_action=\"ignore\")\n",
      "  ModelFitWarning)\n",
      "d:\\Users\\kaasa\\Anaconda3\\lib\\site-packages\\pmdarima\\arima\\_auto_solvers.py:207: ModelFitWarning: Unable to fit ARIMA for order=(1, 1, 4) seasonal_order=(0, 0, 0, 1); data is likely non-stationary. (if you do not want to see these warnings, run with error_action=\"ignore\")\n",
      "  ModelFitWarning)\n",
      "d:\\Users\\kaasa\\Anaconda3\\lib\\site-packages\\pmdarima\\arima\\_auto_solvers.py:207: ModelFitWarning: Unable to fit ARIMA for order=(0, 1, 3) seasonal_order=(0, 0, 0, 1); data is likely non-stationary. (if you do not want to see these warnings, run with error_action=\"ignore\")\n",
      "  ModelFitWarning)\n",
      "d:\\Users\\kaasa\\Anaconda3\\lib\\site-packages\\pmdarima\\arima\\_auto_solvers.py:207: ModelFitWarning: Unable to fit ARIMA for order=(0, 1, 2) seasonal_order=(0, 0, 0, 1); data is likely non-stationary. (if you do not want to see these warnings, run with error_action=\"ignore\")\n",
      "  ModelFitWarning)\n"
     ]
    },
    {
     "ename": "ValueError",
     "evalue": "Could not successfully fit ARIMA to input data. It is likely your data is non-stationary. Please induce stationarity or try a different range of model order params. If your data is seasonal, check the period (m) of the data.",
     "output_type": "error",
     "traceback": [
      "\u001b[1;31m---------------------------------------------------------------------------\u001b[0m",
      "\u001b[1;31mValueError\u001b[0m                                Traceback (most recent call last)",
      "\u001b[1;32m<ipython-input-12-61411f2ffb1a>\u001b[0m in \u001b[0;36m<module>\u001b[1;34m\u001b[0m\n\u001b[1;32m----> 1\u001b[1;33m \u001b[0mauto_arima\u001b[0m\u001b[1;33m(\u001b[0m\u001b[0mdf\u001b[0m\u001b[1;33m[\u001b[0m\u001b[1;34m'High'\u001b[0m\u001b[1;33m]\u001b[0m\u001b[1;33m,\u001b[0m\u001b[0mmaxiter\u001b[0m\u001b[1;33m=\u001b[0m\u001b[1;36m100\u001b[0m\u001b[1;33m)\u001b[0m\u001b[1;33m\u001b[0m\u001b[1;33m\u001b[0m\u001b[0m\n\u001b[0m",
      "\u001b[1;32md:\\Users\\kaasa\\Anaconda3\\lib\\site-packages\\pmdarima\\arima\\auto.py\u001b[0m in \u001b[0;36mauto_arima\u001b[1;34m(y, exogenous, start_p, d, start_q, max_p, max_d, max_q, start_P, D, start_Q, max_P, max_D, max_Q, max_order, m, seasonal, stationary, information_criterion, alpha, test, seasonal_test, stepwise, n_jobs, start_params, trend, method, transparams, solver, maxiter, disp, callback, offset_test_args, seasonal_test_args, suppress_warnings, error_action, trace, random, random_state, n_fits, return_valid_fits, out_of_sample_size, scoring, scoring_args, with_intercept, **fit_args)\u001b[0m\n\u001b[0;32m    508\u001b[0m \u001b[1;33m\u001b[0m\u001b[0m\n\u001b[0;32m    509\u001b[0m     \u001b[1;31m# filter the non-successful ones\u001b[0m\u001b[1;33m\u001b[0m\u001b[1;33m\u001b[0m\u001b[1;33m\u001b[0m\u001b[0m\n\u001b[1;32m--> 510\u001b[1;33m     \u001b[0mfiltered\u001b[0m \u001b[1;33m=\u001b[0m \u001b[0m_post_ppc_arima\u001b[0m\u001b[1;33m(\u001b[0m\u001b[0mall_res\u001b[0m\u001b[1;33m)\u001b[0m\u001b[1;33m\u001b[0m\u001b[1;33m\u001b[0m\u001b[0m\n\u001b[0m\u001b[0;32m    511\u001b[0m \u001b[1;33m\u001b[0m\u001b[0m\n\u001b[0;32m    512\u001b[0m     \u001b[1;31m# sort by the criteria - lower is better for both AIC and BIC\u001b[0m\u001b[1;33m\u001b[0m\u001b[1;33m\u001b[0m\u001b[1;33m\u001b[0m\u001b[0m\n",
      "\u001b[1;32md:\\Users\\kaasa\\Anaconda3\\lib\\site-packages\\pmdarima\\arima\\auto.py\u001b[0m in \u001b[0;36m_post_ppc_arima\u001b[1;34m(a)\u001b[0m\n\u001b[0;32m    552\u001b[0m     \u001b[1;31m# if the list is empty, or if it was an ARIMA and it's None\u001b[0m\u001b[1;33m\u001b[0m\u001b[1;33m\u001b[0m\u001b[1;33m\u001b[0m\u001b[0m\n\u001b[0;32m    553\u001b[0m     \u001b[1;32mif\u001b[0m \u001b[1;32mnot\u001b[0m \u001b[0ma\u001b[0m\u001b[1;33m:\u001b[0m  \u001b[1;31m# check for truthiness rather than None explicitly\u001b[0m\u001b[1;33m\u001b[0m\u001b[1;33m\u001b[0m\u001b[0m\n\u001b[1;32m--> 554\u001b[1;33m         raise ValueError('Could not successfully fit ARIMA to input data. '\n\u001b[0m\u001b[0;32m    555\u001b[0m                          \u001b[1;34m'It is likely your data is non-stationary. Please '\u001b[0m\u001b[1;33m\u001b[0m\u001b[1;33m\u001b[0m\u001b[0m\n\u001b[0;32m    556\u001b[0m                          \u001b[1;34m'induce stationarity or try a different '\u001b[0m\u001b[1;33m\u001b[0m\u001b[1;33m\u001b[0m\u001b[0m\n",
      "\u001b[1;31mValueError\u001b[0m: Could not successfully fit ARIMA to input data. It is likely your data is non-stationary. Please induce stationarity or try a different range of model order params. If your data is seasonal, check the period (m) of the data."
     ]
    }
   ],
   "source": [
    "auto_arima(df['High'],maxiter=100)"
   ]
  },
  {
   "cell_type": "markdown",
   "metadata": {
    "papermill": {
     "duration": 0.046516,
     "end_time": "2020-12-11T06:50:47.318193",
     "exception": false,
     "start_time": "2020-12-11T06:50:47.271677",
     "status": "completed"
    },
    "tags": []
   },
   "source": [
    "Order (1,2) is preferred for VARMA. The last term or the third terms is the differencing which will be applied already using differencing. "
   ]
  },
  {
   "cell_type": "code",
   "execution_count": 13,
   "metadata": {
    "execution": {
     "iopub.execute_input": "2020-12-11T06:50:47.426265Z",
     "iopub.status.busy": "2020-12-11T06:50:47.425163Z",
     "iopub.status.idle": "2020-12-11T06:50:47.428820Z",
     "shell.execute_reply": "2020-12-11T06:50:47.429392Z"
    },
    "papermill": {
     "duration": 0.064797,
     "end_time": "2020-12-11T06:50:47.429566",
     "exception": false,
     "start_time": "2020-12-11T06:50:47.364769",
     "status": "completed"
    },
    "tags": []
   },
   "outputs": [
    {
     "data": {
      "text/html": [
       "<div>\n",
       "<style scoped>\n",
       "    .dataframe tbody tr th:only-of-type {\n",
       "        vertical-align: middle;\n",
       "    }\n",
       "\n",
       "    .dataframe tbody tr th {\n",
       "        vertical-align: top;\n",
       "    }\n",
       "\n",
       "    .dataframe thead th {\n",
       "        text-align: right;\n",
       "    }\n",
       "</style>\n",
       "<table border=\"1\" class=\"dataframe\">\n",
       "  <thead>\n",
       "    <tr style=\"text-align: right;\">\n",
       "      <th></th>\n",
       "      <th>Open</th>\n",
       "      <th>High</th>\n",
       "      <th>Low</th>\n",
       "      <th>Close</th>\n",
       "    </tr>\n",
       "    <tr>\n",
       "      <th>Date</th>\n",
       "      <th></th>\n",
       "      <th></th>\n",
       "      <th></th>\n",
       "      <th></th>\n",
       "    </tr>\n",
       "  </thead>\n",
       "  <tbody>\n",
       "    <tr>\n",
       "      <th>2013-01-03</th>\n",
       "      <td>201.15</td>\n",
       "      <td>-151.40</td>\n",
       "      <td>189.05</td>\n",
       "      <td>-173.50</td>\n",
       "    </tr>\n",
       "    <tr>\n",
       "      <th>2013-01-04</th>\n",
       "      <td>-216.35</td>\n",
       "      <td>-93.45</td>\n",
       "      <td>-235.35</td>\n",
       "      <td>-65.95</td>\n",
       "    </tr>\n",
       "    <tr>\n",
       "      <th>2013-01-07</th>\n",
       "      <td>-42.95</td>\n",
       "      <td>57.90</td>\n",
       "      <td>29.35</td>\n",
       "      <td>63.75</td>\n",
       "    </tr>\n",
       "    <tr>\n",
       "      <th>2013-01-08</th>\n",
       "      <td>67.75</td>\n",
       "      <td>4.75</td>\n",
       "      <td>36.40</td>\n",
       "      <td>12.95</td>\n",
       "    </tr>\n",
       "    <tr>\n",
       "      <th>2013-01-09</th>\n",
       "      <td>13.10</td>\n",
       "      <td>-36.80</td>\n",
       "      <td>-24.55</td>\n",
       "      <td>-51.80</td>\n",
       "    </tr>\n",
       "  </tbody>\n",
       "</table>\n",
       "</div>"
      ],
      "text/plain": [
       "              Open    High     Low   Close\n",
       "Date                                      \n",
       "2013-01-03  201.15 -151.40  189.05 -173.50\n",
       "2013-01-04 -216.35  -93.45 -235.35  -65.95\n",
       "2013-01-07  -42.95   57.90   29.35   63.75\n",
       "2013-01-08   67.75    4.75   36.40   12.95\n",
       "2013-01-09   13.10  -36.80  -24.55  -51.80"
      ]
     },
     "execution_count": 13,
     "metadata": {},
     "output_type": "execute_result"
    }
   ],
   "source": [
    "df_transformed = df.diff().diff() # 2nd order difference\n",
    "df_transformed = df_transformed.dropna() # remove the NaNs introduced due to differencing\n",
    "df_transformed.head()"
   ]
  },
  {
   "cell_type": "code",
   "execution_count": 14,
   "metadata": {
    "execution": {
     "iopub.execute_input": "2020-12-11T06:50:47.530272Z",
     "iopub.status.busy": "2020-12-11T06:50:47.529135Z",
     "iopub.status.idle": "2020-12-11T06:50:47.533437Z",
     "shell.execute_reply": "2020-12-11T06:50:47.532720Z"
    },
    "papermill": {
     "duration": 0.05662,
     "end_time": "2020-12-11T06:50:47.533575",
     "exception": false,
     "start_time": "2020-12-11T06:50:47.476955",
     "status": "completed"
    },
    "tags": []
   },
   "outputs": [
    {
     "data": {
      "text/plain": [
       "2223"
      ]
     },
     "execution_count": 14,
     "metadata": {},
     "output_type": "execute_result"
    }
   ],
   "source": [
    "len(df_transformed)"
   ]
  },
  {
   "cell_type": "markdown",
   "metadata": {
    "papermill": {
     "duration": 0.047327,
     "end_time": "2020-12-11T06:50:47.628594",
     "exception": false,
     "start_time": "2020-12-11T06:50:47.581267",
     "status": "completed"
    },
    "tags": []
   },
   "source": [
    "## Train Test Split"
   ]
  },
  {
   "cell_type": "code",
   "execution_count": 15,
   "metadata": {
    "execution": {
     "iopub.execute_input": "2020-12-11T06:50:47.731239Z",
     "iopub.status.busy": "2020-12-11T06:50:47.730522Z",
     "iopub.status.idle": "2020-12-11T06:50:47.733724Z",
     "shell.execute_reply": "2020-12-11T06:50:47.732987Z"
    },
    "papermill": {
     "duration": 0.056601,
     "end_time": "2020-12-11T06:50:47.733844",
     "exception": false,
     "start_time": "2020-12-11T06:50:47.677243",
     "status": "completed"
    },
    "tags": []
   },
   "outputs": [],
   "source": [
    "nobs = 12 # The last 12 months will be the test data. At least 1 year would be a good choice\n",
    "train = df_transformed[0:-nobs]\n",
    "test = df_transformed[-nobs:]"
   ]
  },
  {
   "cell_type": "markdown",
   "metadata": {
    "papermill": {
     "duration": 0.047635,
     "end_time": "2020-12-11T06:50:47.829556",
     "exception": false,
     "start_time": "2020-12-11T06:50:47.781921",
     "status": "completed"
    },
    "tags": []
   },
   "source": [
    "## Fit the VARMA(1,2) Model"
   ]
  },
  {
   "cell_type": "code",
   "execution_count": 16,
   "metadata": {
    "execution": {
     "iopub.execute_input": "2020-12-11T06:50:47.931874Z",
     "iopub.status.busy": "2020-12-11T06:50:47.931084Z",
     "iopub.status.idle": "2020-12-11T06:51:01.736507Z",
     "shell.execute_reply": "2020-12-11T06:51:01.737176Z"
    },
    "papermill": {
     "duration": 13.859822,
     "end_time": "2020-12-11T06:51:01.737361",
     "exception": false,
     "start_time": "2020-12-11T06:50:47.877539",
     "status": "completed"
    },
    "tags": []
   },
   "outputs": [
    {
     "name": "stderr",
     "output_type": "stream",
     "text": [
      "d:\\Users\\kaasa\\Anaconda3\\lib\\site-packages\\statsmodels\\tsa\\statespace\\varmax.py:163: EstimationWarning: Estimation of VARMA(p,q) models is not generically robust, due especially to identification issues.\n",
      "  EstimationWarning)\n",
      "d:\\Users\\kaasa\\Anaconda3\\lib\\site-packages\\statsmodels\\tsa\\base\\tsa_model.py:583: ValueWarning: A date index has been provided, but it has no associated frequency information and so will be ignored when e.g. forecasting.\n",
      "  ' ignored when e.g. forecasting.', ValueWarning)\n"
     ]
    },
    {
     "data": {
      "text/html": [
       "<table class=\"simpletable\">\n",
       "<caption>Statespace Model Results</caption>\n",
       "<tr>\n",
       "  <th>Dep. Variable:</th>   <td>['Open', 'High', 'Low', 'Close']</td> <th>  No. Observations:  </th>    <td>2211</td>   \n",
       "</tr>\n",
       "<tr>\n",
       "  <th>Model:</th>                      <td>VARMA(1,2)</td>            <th>  Log Likelihood     </th> <td>-34054.317</td>\n",
       "</tr>\n",
       "<tr>\n",
       "  <th></th>                            <td>+ intercept</td>           <th>  AIC                </th>  <td>68232.634</td>\n",
       "</tr>\n",
       "<tr>\n",
       "  <th>Date:</th>                    <td>Tue, 12 Apr 2022</td>         <th>  BIC                </th>  <td>68586.108</td>\n",
       "</tr>\n",
       "<tr>\n",
       "  <th>Time:</th>                        <td>15:28:29</td>             <th>  HQIC               </th>  <td>68361.764</td>\n",
       "</tr>\n",
       "<tr>\n",
       "  <th>Sample:</th>                          <td>0</td>                <th>                     </th>      <td> </td>    \n",
       "</tr>\n",
       "<tr>\n",
       "  <th></th>                              <td> - 2211</td>             <th>                     </th>      <td> </td>    \n",
       "</tr>\n",
       "<tr>\n",
       "  <th>Covariance Type:</th>                <td>opg</td>               <th>                     </th>      <td> </td>    \n",
       "</tr>\n",
       "</table>\n",
       "<table class=\"simpletable\">\n",
       "<tr>\n",
       "  <th>Ljung-Box (L1) (Q):</th>     <td>6.98, 57.83, 127.53, 191.07</td> <th>  Jarque-Bera (JB):  </th> <td>146253142.49, 618223.36, 2159833.80, 73997.35</td>\n",
       "</tr>\n",
       "<tr>\n",
       "  <th>Prob(Q):</th>                  <td>0.01, 0.00, 0.00, 0.00</td>    <th>  Prob(JB):          </th>            <td>0.00, 0.00, 0.00, 0.00</td>            \n",
       "</tr>\n",
       "<tr>\n",
       "  <th>Heteroskedasticity (H):</th>   <td>0.01, 0.03, 0.02, 0.03</td>    <th>  Skew:              </th>          <td>-31.08, -3.60, -3.48, -1.20</td>         \n",
       "</tr>\n",
       "<tr>\n",
       "  <th>Prob(H) (two-sided):</th>      <td>0.00, 0.00, 0.00, 0.00</td>    <th>  Kurtosis:          </th>         <td>1261.45, 84.60, 155.96, 31.24</td>        \n",
       "</tr>\n",
       "</table>\n",
       "<table class=\"simpletable\">\n",
       "<caption>Results for equation Open</caption>\n",
       "<tr>\n",
       "       <td></td>          <th>coef</th>     <th>std err</th>      <th>z</th>      <th>P>|z|</th>  <th>[0.025</th>    <th>0.975]</th>  \n",
       "</tr>\n",
       "<tr>\n",
       "  <th>intercept</th>   <td>    0.0022</td> <td>    0.538</td> <td>    0.004</td> <td> 0.997</td> <td>   -1.052</td> <td>    1.056</td>\n",
       "</tr>\n",
       "<tr>\n",
       "  <th>L1.Open</th>     <td>   -0.6229</td> <td>    0.317</td> <td>   -1.966</td> <td> 0.049</td> <td>   -1.244</td> <td>   -0.002</td>\n",
       "</tr>\n",
       "<tr>\n",
       "  <th>L1.High</th>     <td>   -0.4136</td> <td>    0.725</td> <td>   -0.570</td> <td> 0.569</td> <td>   -1.835</td> <td>    1.008</td>\n",
       "</tr>\n",
       "<tr>\n",
       "  <th>L1.Low</th>      <td>    0.0695</td> <td>    0.358</td> <td>    0.194</td> <td> 0.846</td> <td>   -0.633</td> <td>    0.772</td>\n",
       "</tr>\n",
       "<tr>\n",
       "  <th>L1.Close</th>    <td>    0.6328</td> <td>    0.839</td> <td>    0.754</td> <td> 0.451</td> <td>   -1.012</td> <td>    2.278</td>\n",
       "</tr>\n",
       "<tr>\n",
       "  <th>L1.e(Open)</th>  <td>   -0.6221</td> <td>    0.407</td> <td>   -1.530</td> <td> 0.126</td> <td>   -1.419</td> <td>    0.175</td>\n",
       "</tr>\n",
       "<tr>\n",
       "  <th>L1.e(High)</th>  <td>   -0.1752</td> <td>    0.779</td> <td>   -0.225</td> <td> 0.822</td> <td>   -1.702</td> <td>    1.351</td>\n",
       "</tr>\n",
       "<tr>\n",
       "  <th>L1.e(Low)</th>   <td>   -0.0870</td> <td>    0.477</td> <td>   -0.182</td> <td> 0.855</td> <td>   -1.022</td> <td>    0.848</td>\n",
       "</tr>\n",
       "<tr>\n",
       "  <th>L1.e(Close)</th> <td>    0.3472</td> <td>    0.916</td> <td>    0.379</td> <td> 0.705</td> <td>   -1.448</td> <td>    2.142</td>\n",
       "</tr>\n",
       "<tr>\n",
       "  <th>L2.e(Open)</th>  <td>   -0.5996</td> <td>    0.424</td> <td>   -1.415</td> <td> 0.157</td> <td>   -1.430</td> <td>    0.231</td>\n",
       "</tr>\n",
       "<tr>\n",
       "  <th>L2.e(High)</th>  <td>   -0.2062</td> <td>    0.739</td> <td>   -0.279</td> <td> 0.780</td> <td>   -1.655</td> <td>    1.243</td>\n",
       "</tr>\n",
       "<tr>\n",
       "  <th>L2.e(Low)</th>   <td>    0.0948</td> <td>    0.490</td> <td>    0.193</td> <td> 0.847</td> <td>   -0.865</td> <td>    1.055</td>\n",
       "</tr>\n",
       "<tr>\n",
       "  <th>L2.e(Close)</th> <td>    0.3427</td> <td>    0.799</td> <td>    0.429</td> <td> 0.668</td> <td>   -1.223</td> <td>    1.909</td>\n",
       "</tr>\n",
       "</table>\n",
       "<table class=\"simpletable\">\n",
       "<caption>Results for equation High</caption>\n",
       "<tr>\n",
       "       <td></td>          <th>coef</th>     <th>std err</th>      <th>z</th>      <th>P>|z|</th>  <th>[0.025</th>    <th>0.975]</th>  \n",
       "</tr>\n",
       "<tr>\n",
       "  <th>intercept</th>   <td>   -0.1408</td> <td>    0.472</td> <td>   -0.299</td> <td> 0.765</td> <td>   -1.065</td> <td>    0.783</td>\n",
       "</tr>\n",
       "<tr>\n",
       "  <th>L1.Open</th>     <td>    0.0455</td> <td>    0.282</td> <td>    0.162</td> <td> 0.872</td> <td>   -0.507</td> <td>    0.598</td>\n",
       "</tr>\n",
       "<tr>\n",
       "  <th>L1.High</th>     <td>   -0.9394</td> <td>    0.692</td> <td>   -1.358</td> <td> 0.174</td> <td>   -2.295</td> <td>    0.416</td>\n",
       "</tr>\n",
       "<tr>\n",
       "  <th>L1.Low</th>      <td>   -0.0593</td> <td>    0.328</td> <td>   -0.181</td> <td> 0.856</td> <td>   -0.701</td> <td>    0.583</td>\n",
       "</tr>\n",
       "<tr>\n",
       "  <th>L1.Close</th>    <td>    0.5306</td> <td>    0.800</td> <td>    0.663</td> <td> 0.507</td> <td>   -1.038</td> <td>    2.099</td>\n",
       "</tr>\n",
       "<tr>\n",
       "  <th>L1.e(Open)</th>  <td>   -0.0930</td> <td>    0.334</td> <td>   -0.278</td> <td> 0.781</td> <td>   -0.748</td> <td>    0.562</td>\n",
       "</tr>\n",
       "<tr>\n",
       "  <th>L1.e(High)</th>  <td>   -0.6101</td> <td>    0.741</td> <td>   -0.823</td> <td> 0.410</td> <td>   -2.063</td> <td>    0.843</td>\n",
       "</tr>\n",
       "<tr>\n",
       "  <th>L1.e(Low)</th>   <td>    0.0018</td> <td>    0.399</td> <td>    0.005</td> <td> 0.996</td> <td>   -0.780</td> <td>    0.784</td>\n",
       "</tr>\n",
       "<tr>\n",
       "  <th>L1.e(Close)</th> <td>    0.1977</td> <td>    0.877</td> <td>    0.226</td> <td> 0.822</td> <td>   -1.520</td> <td>    1.916</td>\n",
       "</tr>\n",
       "<tr>\n",
       "  <th>L2.e(Open)</th>  <td>   -0.1034</td> <td>    0.376</td> <td>   -0.275</td> <td> 0.783</td> <td>   -0.840</td> <td>    0.633</td>\n",
       "</tr>\n",
       "<tr>\n",
       "  <th>L2.e(High)</th>  <td>   -0.6401</td> <td>    0.711</td> <td>   -0.900</td> <td> 0.368</td> <td>   -2.033</td> <td>    0.753</td>\n",
       "</tr>\n",
       "<tr>\n",
       "  <th>L2.e(Low)</th>   <td>   -0.0097</td> <td>    0.441</td> <td>   -0.022</td> <td> 0.983</td> <td>   -0.875</td> <td>    0.856</td>\n",
       "</tr>\n",
       "<tr>\n",
       "  <th>L2.e(Close)</th> <td>    0.3640</td> <td>    0.779</td> <td>    0.467</td> <td> 0.640</td> <td>   -1.163</td> <td>    1.891</td>\n",
       "</tr>\n",
       "</table>\n",
       "<table class=\"simpletable\">\n",
       "<caption>Results for equation Low</caption>\n",
       "<tr>\n",
       "       <td></td>          <th>coef</th>     <th>std err</th>      <th>z</th>      <th>P>|z|</th>  <th>[0.025</th>    <th>0.975]</th>  \n",
       "</tr>\n",
       "<tr>\n",
       "  <th>intercept</th>   <td>   -0.0263</td> <td>    0.552</td> <td>   -0.048</td> <td> 0.962</td> <td>   -1.108</td> <td>    1.056</td>\n",
       "</tr>\n",
       "<tr>\n",
       "  <th>L1.Open</th>     <td>   -0.0457</td> <td>    0.268</td> <td>   -0.171</td> <td> 0.865</td> <td>   -0.571</td> <td>    0.480</td>\n",
       "</tr>\n",
       "<tr>\n",
       "  <th>L1.High</th>     <td>   -0.3316</td> <td>    0.612</td> <td>   -0.542</td> <td> 0.588</td> <td>   -1.532</td> <td>    0.869</td>\n",
       "</tr>\n",
       "<tr>\n",
       "  <th>L1.Low</th>      <td>   -0.6054</td> <td>    0.292</td> <td>   -2.077</td> <td> 0.038</td> <td>   -1.177</td> <td>   -0.034</td>\n",
       "</tr>\n",
       "<tr>\n",
       "  <th>L1.Close</th>    <td>    0.5411</td> <td>    0.709</td> <td>    0.763</td> <td> 0.446</td> <td>   -0.849</td> <td>    1.931</td>\n",
       "</tr>\n",
       "<tr>\n",
       "  <th>L1.e(Open)</th>  <td>   -0.0777</td> <td>    0.356</td> <td>   -0.218</td> <td> 0.827</td> <td>   -0.775</td> <td>    0.620</td>\n",
       "</tr>\n",
       "<tr>\n",
       "  <th>L1.e(High)</th>  <td>   -0.2036</td> <td>    0.666</td> <td>   -0.306</td> <td> 0.760</td> <td>   -1.510</td> <td>    1.102</td>\n",
       "</tr>\n",
       "<tr>\n",
       "  <th>L1.e(Low)</th>   <td>   -0.5802</td> <td>    0.404</td> <td>   -1.437</td> <td> 0.151</td> <td>   -1.371</td> <td>    0.211</td>\n",
       "</tr>\n",
       "<tr>\n",
       "  <th>L1.e(Close)</th> <td>    0.3933</td> <td>    0.791</td> <td>    0.497</td> <td> 0.619</td> <td>   -1.158</td> <td>    1.944</td>\n",
       "</tr>\n",
       "<tr>\n",
       "  <th>L2.e(Open)</th>  <td>   -0.1470</td> <td>    0.382</td> <td>   -0.385</td> <td> 0.700</td> <td>   -0.896</td> <td>    0.602</td>\n",
       "</tr>\n",
       "<tr>\n",
       "  <th>L2.e(High)</th>  <td>   -0.1794</td> <td>    0.642</td> <td>   -0.279</td> <td> 0.780</td> <td>   -1.438</td> <td>    1.079</td>\n",
       "</tr>\n",
       "<tr>\n",
       "  <th>L2.e(Low)</th>   <td>   -0.4183</td> <td>    0.419</td> <td>   -0.998</td> <td> 0.318</td> <td>   -1.240</td> <td>    0.403</td>\n",
       "</tr>\n",
       "<tr>\n",
       "  <th>L2.e(Close)</th> <td>    0.3156</td> <td>    0.690</td> <td>    0.458</td> <td> 0.647</td> <td>   -1.036</td> <td>    1.667</td>\n",
       "</tr>\n",
       "</table>\n",
       "<table class=\"simpletable\">\n",
       "<caption>Results for equation Close</caption>\n",
       "<tr>\n",
       "       <td></td>          <th>coef</th>     <th>std err</th>      <th>z</th>      <th>P>|z|</th>  <th>[0.025</th>    <th>0.975]</th>  \n",
       "</tr>\n",
       "<tr>\n",
       "  <th>intercept</th>   <td>   -0.0663</td> <td>    0.544</td> <td>   -0.122</td> <td> 0.903</td> <td>   -1.133</td> <td>    1.000</td>\n",
       "</tr>\n",
       "<tr>\n",
       "  <th>L1.Open</th>     <td>   -0.0628</td> <td>    0.261</td> <td>   -0.240</td> <td> 0.810</td> <td>   -0.575</td> <td>    0.450</td>\n",
       "</tr>\n",
       "<tr>\n",
       "  <th>L1.High</th>     <td>   -0.2177</td> <td>    0.623</td> <td>   -0.350</td> <td> 0.727</td> <td>   -1.439</td> <td>    1.003</td>\n",
       "</tr>\n",
       "<tr>\n",
       "  <th>L1.Low</th>      <td>    0.0075</td> <td>    0.304</td> <td>    0.025</td> <td> 0.980</td> <td>   -0.588</td> <td>    0.603</td>\n",
       "</tr>\n",
       "<tr>\n",
       "  <th>L1.Close</th>    <td>   -0.2393</td> <td>    0.733</td> <td>   -0.326</td> <td> 0.744</td> <td>   -1.676</td> <td>    1.198</td>\n",
       "</tr>\n",
       "<tr>\n",
       "  <th>L1.e(Open)</th>  <td>   -0.0885</td> <td>    0.310</td> <td>   -0.285</td> <td> 0.776</td> <td>   -0.697</td> <td>    0.520</td>\n",
       "</tr>\n",
       "<tr>\n",
       "  <th>L1.e(High)</th>  <td>   -0.1532</td> <td>    0.674</td> <td>   -0.227</td> <td> 0.820</td> <td>   -1.473</td> <td>    1.167</td>\n",
       "</tr>\n",
       "<tr>\n",
       "  <th>L1.e(Low)</th>   <td>    0.0508</td> <td>    0.362</td> <td>    0.140</td> <td> 0.888</td> <td>   -0.658</td> <td>    0.760</td>\n",
       "</tr>\n",
       "<tr>\n",
       "  <th>L1.e(Close)</th> <td>   -0.2547</td> <td>    0.813</td> <td>   -0.313</td> <td> 0.754</td> <td>   -1.848</td> <td>    1.339</td>\n",
       "</tr>\n",
       "<tr>\n",
       "  <th>L2.e(Open)</th>  <td>   -0.1699</td> <td>    0.356</td> <td>   -0.477</td> <td> 0.633</td> <td>   -0.868</td> <td>    0.528</td>\n",
       "</tr>\n",
       "<tr>\n",
       "  <th>L2.e(High)</th>  <td>   -0.1513</td> <td>    0.651</td> <td>   -0.233</td> <td> 0.816</td> <td>   -1.426</td> <td>    1.124</td>\n",
       "</tr>\n",
       "<tr>\n",
       "  <th>L2.e(Low)</th>   <td>   -0.0196</td> <td>    0.408</td> <td>   -0.048</td> <td> 0.962</td> <td>   -0.819</td> <td>    0.780</td>\n",
       "</tr>\n",
       "<tr>\n",
       "  <th>L2.e(Close)</th> <td>   -0.1054</td> <td>    0.720</td> <td>   -0.146</td> <td> 0.884</td> <td>   -1.516</td> <td>    1.305</td>\n",
       "</tr>\n",
       "</table>\n",
       "<table class=\"simpletable\">\n",
       "<caption>Error covariance matrix</caption>\n",
       "<tr>\n",
       "           <td></td>              <th>coef</th>     <th>std err</th>      <th>z</th>      <th>P>|z|</th>  <th>[0.025</th>    <th>0.975]</th>  \n",
       "</tr>\n",
       "<tr>\n",
       "  <th>sqrt.var.Open</th>       <td>   28.2862</td> <td>    0.873</td> <td>   32.399</td> <td> 0.000</td> <td>   26.575</td> <td>   29.997</td>\n",
       "</tr>\n",
       "<tr>\n",
       "  <th>sqrt.cov.Open.High</th>  <td>   22.9999</td> <td>    1.004</td> <td>   22.903</td> <td> 0.000</td> <td>   21.032</td> <td>   24.968</td>\n",
       "</tr>\n",
       "<tr>\n",
       "  <th>sqrt.var.High</th>       <td>   14.4244</td> <td>    0.313</td> <td>   46.091</td> <td> 0.000</td> <td>   13.811</td> <td>   15.038</td>\n",
       "</tr>\n",
       "<tr>\n",
       "  <th>sqrt.cov.Open.Low</th>   <td>   23.2150</td> <td>    1.165</td> <td>   19.919</td> <td> 0.000</td> <td>   20.931</td> <td>   25.499</td>\n",
       "</tr>\n",
       "<tr>\n",
       "  <th>sqrt.cov.High.Low</th>   <td>    5.4102</td> <td>    0.718</td> <td>    7.539</td> <td> 0.000</td> <td>    4.004</td> <td>    6.817</td>\n",
       "</tr>\n",
       "<tr>\n",
       "  <th>sqrt.var.Low</th>        <td>   12.7823</td> <td>    0.235</td> <td>   54.294</td> <td> 0.000</td> <td>   12.321</td> <td>   13.244</td>\n",
       "</tr>\n",
       "<tr>\n",
       "  <th>sqrt.cov.Open.Close</th> <td>   19.5048</td> <td>    0.643</td> <td>   30.324</td> <td> 0.000</td> <td>   18.244</td> <td>   20.765</td>\n",
       "</tr>\n",
       "<tr>\n",
       "  <th>sqrt.cov.High.Close</th> <td>   13.7035</td> <td>    0.752</td> <td>   18.218</td> <td> 0.000</td> <td>   12.229</td> <td>   15.178</td>\n",
       "</tr>\n",
       "<tr>\n",
       "  <th>sqrt.cov.Low.Close</th>  <td>    9.7810</td> <td>    0.097</td> <td>  100.484</td> <td> 0.000</td> <td>    9.590</td> <td>    9.972</td>\n",
       "</tr>\n",
       "<tr>\n",
       "  <th>sqrt.var.Close</th>      <td>    6.8153</td> <td>    0.148</td> <td>   46.083</td> <td> 0.000</td> <td>    6.525</td> <td>    7.105</td>\n",
       "</tr>\n",
       "</table><br/><br/>Warnings:<br/>[1] Covariance matrix calculated using the outer product of gradients (complex-step)."
      ],
      "text/plain": [
       "<class 'statsmodels.iolib.summary.Summary'>\n",
       "\"\"\"\n",
       "                                  Statespace Model Results                                  \n",
       "============================================================================================\n",
       "Dep. Variable:     ['Open', 'High', 'Low', 'Close']   No. Observations:                 2211\n",
       "Model:                                   VARMA(1,2)   Log Likelihood              -34054.317\n",
       "                                        + intercept   AIC                          68232.634\n",
       "Date:                              Tue, 12 Apr 2022   BIC                          68586.108\n",
       "Time:                                      15:28:29   HQIC                         68361.764\n",
       "Sample:                                           0                                         \n",
       "                                             - 2211                                         \n",
       "Covariance Type:                                opg                                         \n",
       "=======================================================================================================================\n",
       "Ljung-Box (L1) (Q):     6.98, 57.83, 127.53, 191.07   Jarque-Bera (JB):   146253142.49, 618223.36, 2159833.80, 73997.35\n",
       "Prob(Q):                     0.01, 0.00, 0.00, 0.00   Prob(JB):                                  0.00, 0.00, 0.00, 0.00\n",
       "Heteroskedasticity (H):      0.01, 0.03, 0.02, 0.03   Skew:                                 -31.08, -3.60, -3.48, -1.20\n",
       "Prob(H) (two-sided):         0.00, 0.00, 0.00, 0.00   Kurtosis:                           1261.45, 84.60, 155.96, 31.24\n",
       "                           Results for equation Open                           \n",
       "===============================================================================\n",
       "                  coef    std err          z      P>|z|      [0.025      0.975]\n",
       "-------------------------------------------------------------------------------\n",
       "intercept       0.0022      0.538      0.004      0.997      -1.052       1.056\n",
       "L1.Open        -0.6229      0.317     -1.966      0.049      -1.244      -0.002\n",
       "L1.High        -0.4136      0.725     -0.570      0.569      -1.835       1.008\n",
       "L1.Low          0.0695      0.358      0.194      0.846      -0.633       0.772\n",
       "L1.Close        0.6328      0.839      0.754      0.451      -1.012       2.278\n",
       "L1.e(Open)     -0.6221      0.407     -1.530      0.126      -1.419       0.175\n",
       "L1.e(High)     -0.1752      0.779     -0.225      0.822      -1.702       1.351\n",
       "L1.e(Low)      -0.0870      0.477     -0.182      0.855      -1.022       0.848\n",
       "L1.e(Close)     0.3472      0.916      0.379      0.705      -1.448       2.142\n",
       "L2.e(Open)     -0.5996      0.424     -1.415      0.157      -1.430       0.231\n",
       "L2.e(High)     -0.2062      0.739     -0.279      0.780      -1.655       1.243\n",
       "L2.e(Low)       0.0948      0.490      0.193      0.847      -0.865       1.055\n",
       "L2.e(Close)     0.3427      0.799      0.429      0.668      -1.223       1.909\n",
       "                           Results for equation High                           \n",
       "===============================================================================\n",
       "                  coef    std err          z      P>|z|      [0.025      0.975]\n",
       "-------------------------------------------------------------------------------\n",
       "intercept      -0.1408      0.472     -0.299      0.765      -1.065       0.783\n",
       "L1.Open         0.0455      0.282      0.162      0.872      -0.507       0.598\n",
       "L1.High        -0.9394      0.692     -1.358      0.174      -2.295       0.416\n",
       "L1.Low         -0.0593      0.328     -0.181      0.856      -0.701       0.583\n",
       "L1.Close        0.5306      0.800      0.663      0.507      -1.038       2.099\n",
       "L1.e(Open)     -0.0930      0.334     -0.278      0.781      -0.748       0.562\n",
       "L1.e(High)     -0.6101      0.741     -0.823      0.410      -2.063       0.843\n",
       "L1.e(Low)       0.0018      0.399      0.005      0.996      -0.780       0.784\n",
       "L1.e(Close)     0.1977      0.877      0.226      0.822      -1.520       1.916\n",
       "L2.e(Open)     -0.1034      0.376     -0.275      0.783      -0.840       0.633\n",
       "L2.e(High)     -0.6401      0.711     -0.900      0.368      -2.033       0.753\n",
       "L2.e(Low)      -0.0097      0.441     -0.022      0.983      -0.875       0.856\n",
       "L2.e(Close)     0.3640      0.779      0.467      0.640      -1.163       1.891\n",
       "                            Results for equation Low                           \n",
       "===============================================================================\n",
       "                  coef    std err          z      P>|z|      [0.025      0.975]\n",
       "-------------------------------------------------------------------------------\n",
       "intercept      -0.0263      0.552     -0.048      0.962      -1.108       1.056\n",
       "L1.Open        -0.0457      0.268     -0.171      0.865      -0.571       0.480\n",
       "L1.High        -0.3316      0.612     -0.542      0.588      -1.532       0.869\n",
       "L1.Low         -0.6054      0.292     -2.077      0.038      -1.177      -0.034\n",
       "L1.Close        0.5411      0.709      0.763      0.446      -0.849       1.931\n",
       "L1.e(Open)     -0.0777      0.356     -0.218      0.827      -0.775       0.620\n",
       "L1.e(High)     -0.2036      0.666     -0.306      0.760      -1.510       1.102\n",
       "L1.e(Low)      -0.5802      0.404     -1.437      0.151      -1.371       0.211\n",
       "L1.e(Close)     0.3933      0.791      0.497      0.619      -1.158       1.944\n",
       "L2.e(Open)     -0.1470      0.382     -0.385      0.700      -0.896       0.602\n",
       "L2.e(High)     -0.1794      0.642     -0.279      0.780      -1.438       1.079\n",
       "L2.e(Low)      -0.4183      0.419     -0.998      0.318      -1.240       0.403\n",
       "L2.e(Close)     0.3156      0.690      0.458      0.647      -1.036       1.667\n",
       "                           Results for equation Close                          \n",
       "===============================================================================\n",
       "                  coef    std err          z      P>|z|      [0.025      0.975]\n",
       "-------------------------------------------------------------------------------\n",
       "intercept      -0.0663      0.544     -0.122      0.903      -1.133       1.000\n",
       "L1.Open        -0.0628      0.261     -0.240      0.810      -0.575       0.450\n",
       "L1.High        -0.2177      0.623     -0.350      0.727      -1.439       1.003\n",
       "L1.Low          0.0075      0.304      0.025      0.980      -0.588       0.603\n",
       "L1.Close       -0.2393      0.733     -0.326      0.744      -1.676       1.198\n",
       "L1.e(Open)     -0.0885      0.310     -0.285      0.776      -0.697       0.520\n",
       "L1.e(High)     -0.1532      0.674     -0.227      0.820      -1.473       1.167\n",
       "L1.e(Low)       0.0508      0.362      0.140      0.888      -0.658       0.760\n",
       "L1.e(Close)    -0.2547      0.813     -0.313      0.754      -1.848       1.339\n",
       "L2.e(Open)     -0.1699      0.356     -0.477      0.633      -0.868       0.528\n",
       "L2.e(High)     -0.1513      0.651     -0.233      0.816      -1.426       1.124\n",
       "L2.e(Low)      -0.0196      0.408     -0.048      0.962      -0.819       0.780\n",
       "L2.e(Close)    -0.1054      0.720     -0.146      0.884      -1.516       1.305\n",
       "                                Error covariance matrix                                \n",
       "=======================================================================================\n",
       "                          coef    std err          z      P>|z|      [0.025      0.975]\n",
       "---------------------------------------------------------------------------------------\n",
       "sqrt.var.Open          28.2862      0.873     32.399      0.000      26.575      29.997\n",
       "sqrt.cov.Open.High     22.9999      1.004     22.903      0.000      21.032      24.968\n",
       "sqrt.var.High          14.4244      0.313     46.091      0.000      13.811      15.038\n",
       "sqrt.cov.Open.Low      23.2150      1.165     19.919      0.000      20.931      25.499\n",
       "sqrt.cov.High.Low       5.4102      0.718      7.539      0.000       4.004       6.817\n",
       "sqrt.var.Low           12.7823      0.235     54.294      0.000      12.321      13.244\n",
       "sqrt.cov.Open.Close    19.5048      0.643     30.324      0.000      18.244      20.765\n",
       "sqrt.cov.High.Close    13.7035      0.752     18.218      0.000      12.229      15.178\n",
       "sqrt.cov.Low.Close      9.7810      0.097    100.484      0.000       9.590       9.972\n",
       "sqrt.var.Close          6.8153      0.148     46.083      0.000       6.525       7.105\n",
       "=======================================================================================\n",
       "\n",
       "Warnings:\n",
       "[1] Covariance matrix calculated using the outer product of gradients (complex-step).\n",
       "\"\"\""
      ]
     },
     "execution_count": 16,
     "metadata": {},
     "output_type": "execute_result"
    }
   ],
   "source": [
    "model = VARMAX(train, order=(1,2), trend='c') # c indicates a constant trend\n",
    "results = model.fit(maxiter=1000, disp=False)\n",
    "results.summary()"
   ]
  },
  {
   "cell_type": "markdown",
   "metadata": {
    "papermill": {
     "duration": 0.049385,
     "end_time": "2020-12-11T06:51:01.839260",
     "exception": false,
     "start_time": "2020-12-11T06:51:01.789875",
     "status": "completed"
    },
    "tags": []
   },
   "source": [
    "## Predict the next 12 values"
   ]
  },
  {
   "cell_type": "code",
   "execution_count": 17,
   "metadata": {
    "execution": {
     "iopub.execute_input": "2020-12-11T06:51:01.949617Z",
     "iopub.status.busy": "2020-12-11T06:51:01.948521Z",
     "iopub.status.idle": "2020-12-11T06:51:01.988943Z",
     "shell.execute_reply": "2020-12-11T06:51:01.989551Z"
    },
    "papermill": {
     "duration": 0.10073,
     "end_time": "2020-12-11T06:51:01.989703",
     "exception": false,
     "start_time": "2020-12-11T06:51:01.888973",
     "status": "completed"
    },
    "tags": []
   },
   "outputs": [
    {
     "name": "stderr",
     "output_type": "stream",
     "text": [
      "d:\\Users\\kaasa\\Anaconda3\\lib\\site-packages\\statsmodels\\tsa\\base\\tsa_model.py:379: ValueWarning: No supported index is available. Prediction results will be given with an integer index beginning at `start`.\n",
      "  ValueWarning)\n"
     ]
    },
    {
     "data": {
      "text/html": [
       "<div>\n",
       "<style scoped>\n",
       "    .dataframe tbody tr th:only-of-type {\n",
       "        vertical-align: middle;\n",
       "    }\n",
       "\n",
       "    .dataframe tbody tr th {\n",
       "        vertical-align: top;\n",
       "    }\n",
       "\n",
       "    .dataframe thead th {\n",
       "        text-align: right;\n",
       "    }\n",
       "</style>\n",
       "<table border=\"1\" class=\"dataframe\">\n",
       "  <thead>\n",
       "    <tr style=\"text-align: right;\">\n",
       "      <th></th>\n",
       "      <th>Open</th>\n",
       "      <th>High</th>\n",
       "      <th>Low</th>\n",
       "      <th>Close</th>\n",
       "    </tr>\n",
       "  </thead>\n",
       "  <tbody>\n",
       "    <tr>\n",
       "      <th>2211</th>\n",
       "      <td>-1.605172</td>\n",
       "      <td>-7.617211</td>\n",
       "      <td>-2.259483</td>\n",
       "      <td>-6.227433</td>\n",
       "    </tr>\n",
       "    <tr>\n",
       "      <th>2212</th>\n",
       "      <td>-0.261216</td>\n",
       "      <td>1.033175</td>\n",
       "      <td>-0.023944</td>\n",
       "      <td>1.030947</td>\n",
       "    </tr>\n",
       "    <tr>\n",
       "      <th>2213</th>\n",
       "      <td>0.388332</td>\n",
       "      <td>-0.574869</td>\n",
       "      <td>0.215381</td>\n",
       "      <td>-0.521733</td>\n",
       "    </tr>\n",
       "    <tr>\n",
       "      <th>2214</th>\n",
       "      <td>-0.317146</td>\n",
       "      <td>0.127284</td>\n",
       "      <td>-0.266073</td>\n",
       "      <td>0.160945</td>\n",
       "    </tr>\n",
       "    <tr>\n",
       "      <th>2215</th>\n",
       "      <td>0.230474</td>\n",
       "      <td>-0.173669</td>\n",
       "      <td>0.194198</td>\n",
       "      <td>-0.114628</td>\n",
       "    </tr>\n",
       "    <tr>\n",
       "      <th>2216</th>\n",
       "      <td>-0.128595</td>\n",
       "      <td>-0.039532</td>\n",
       "      <td>-0.158799</td>\n",
       "      <td>-0.014071</td>\n",
       "    </tr>\n",
       "    <tr>\n",
       "      <th>2217</th>\n",
       "      <td>0.078713</td>\n",
       "      <td>-0.107599</td>\n",
       "      <td>0.081253</td>\n",
       "      <td>-0.047458</td>\n",
       "    </tr>\n",
       "    <tr>\n",
       "      <th>2218</th>\n",
       "      <td>-0.026724</td>\n",
       "      <td>-0.066169</td>\n",
       "      <td>-0.069047</td>\n",
       "      <td>-0.035853</td>\n",
       "    </tr>\n",
       "    <tr>\n",
       "      <th>2219</th>\n",
       "      <td>0.018723</td>\n",
       "      <td>-0.094818</td>\n",
       "      <td>0.019306</td>\n",
       "      <td>-0.042165</td>\n",
       "    </tr>\n",
       "    <tr>\n",
       "      <th>2220</th>\n",
       "      <td>0.004405</td>\n",
       "      <td>-0.074426</td>\n",
       "      <td>-0.030176</td>\n",
       "      <td>-0.036603</td>\n",
       "    </tr>\n",
       "    <tr>\n",
       "      <th>2221</th>\n",
       "      <td>0.004972</td>\n",
       "      <td>-0.088348</td>\n",
       "      <td>-0.003318</td>\n",
       "      <td>-0.041849</td>\n",
       "    </tr>\n",
       "    <tr>\n",
       "      <th>2222</th>\n",
       "      <td>0.008924</td>\n",
       "      <td>-0.079620</td>\n",
       "      <td>-0.017825</td>\n",
       "      <td>-0.037395</td>\n",
       "    </tr>\n",
       "  </tbody>\n",
       "</table>\n",
       "</div>"
      ],
      "text/plain": [
       "          Open      High       Low     Close\n",
       "2211 -1.605172 -7.617211 -2.259483 -6.227433\n",
       "2212 -0.261216  1.033175 -0.023944  1.030947\n",
       "2213  0.388332 -0.574869  0.215381 -0.521733\n",
       "2214 -0.317146  0.127284 -0.266073  0.160945\n",
       "2215  0.230474 -0.173669  0.194198 -0.114628\n",
       "2216 -0.128595 -0.039532 -0.158799 -0.014071\n",
       "2217  0.078713 -0.107599  0.081253 -0.047458\n",
       "2218 -0.026724 -0.066169 -0.069047 -0.035853\n",
       "2219  0.018723 -0.094818  0.019306 -0.042165\n",
       "2220  0.004405 -0.074426 -0.030176 -0.036603\n",
       "2221  0.004972 -0.088348 -0.003318 -0.041849\n",
       "2222  0.008924 -0.079620 -0.017825 -0.037395"
      ]
     },
     "execution_count": 17,
     "metadata": {},
     "output_type": "execute_result"
    }
   ],
   "source": [
    "df_forecast = results.forecast(12)\n",
    "df_forecast"
   ]
  },
  {
   "cell_type": "markdown",
   "metadata": {
    "papermill": {
     "duration": 0.050303,
     "end_time": "2020-12-11T06:51:02.090762",
     "exception": false,
     "start_time": "2020-12-11T06:51:02.040459",
     "status": "completed"
    },
    "tags": []
   },
   "source": [
    "## Invert the Transformations \n",
    "The data used for prediction was of 2nd order difference. The forecast would also be similar and hence it needs to be inverted to retrieve the true values which we can compare the original Money and Spending in the last 12 months dataframe. "
   ]
  },
  {
   "cell_type": "markdown",
   "metadata": {
    "papermill": {
     "duration": 0.05051,
     "end_time": "2020-12-11T06:51:02.195795",
     "exception": false,
     "start_time": "2020-12-11T06:51:02.145285",
     "status": "completed"
    },
    "tags": []
   },
   "source": [
    "To roll back a first-order difference we take the most recent value on the training side of the original series, and add it to a cumulative sum of forecasted values. When working with second-order differences we first must perform this operation on the most recent first-order difference.\n",
    "\n",
    "Here we'll use the <tt>nobs</tt> variable we defined during the train/test/split step.\n",
    "\n",
    "**This was the toughest part to figure out. Best way is to take a small dataset and try this out manually, come out with the step or formula and generalize on the entire dataframe.**"
   ]
  },
  {
   "cell_type": "code",
   "execution_count": 18,
   "metadata": {
    "execution": {
     "iopub.execute_input": "2020-12-11T06:51:02.308891Z",
     "iopub.status.busy": "2020-12-11T06:51:02.308017Z",
     "iopub.status.idle": "2020-12-11T06:51:02.311197Z",
     "shell.execute_reply": "2020-12-11T06:51:02.310454Z"
    },
    "papermill": {
     "duration": 0.064694,
     "end_time": "2020-12-11T06:51:02.311324",
     "exception": false,
     "start_time": "2020-12-11T06:51:02.246630",
     "status": "completed"
    },
    "tags": []
   },
   "outputs": [],
   "source": [
    "# Add the most recent first difference from the training side of the original dataset to the forecast cumulative sum\n",
    "df_forecast['Open'] = (df['High'].iloc[-nobs-1]-df['High'].iloc[-nobs-2]) + df_forecast['High'].cumsum()\n",
    "# Now build the forecast values from the first difference set\n",
    "df_forecast['Close'] = df['High'].iloc[-nobs-1] + df_forecast['High'].cumsum()"
   ]
  },
  {
   "cell_type": "code",
   "execution_count": 19,
   "metadata": {
    "execution": {
     "iopub.execute_input": "2020-12-11T06:51:02.423872Z",
     "iopub.status.busy": "2020-12-11T06:51:02.422918Z",
     "iopub.status.idle": "2020-12-11T06:51:02.425900Z",
     "shell.execute_reply": "2020-12-11T06:51:02.425213Z"
    },
    "papermill": {
     "duration": 0.06382,
     "end_time": "2020-12-11T06:51:02.426023",
     "exception": false,
     "start_time": "2020-12-11T06:51:02.362203",
     "status": "completed"
    },
    "tags": []
   },
   "outputs": [],
   "source": [
    "# Add the most recent first difference from the training side of the original dataset to the forecast cumulative sum\n",
    "df_forecast['Close'] = (df['Low'].iloc[-nobs-1]-df['Low'].iloc[-nobs-2]) + df_forecast['Low'].cumsum()\n",
    "\n",
    "# Now build the forecast values from the first difference set\n",
    "df_forecast['Close'] = df['Low'].iloc[-nobs-1] + df_forecast['Low'].cumsum()"
   ]
  },
  {
   "cell_type": "code",
   "execution_count": 20,
   "metadata": {
    "execution": {
     "iopub.execute_input": "2020-12-11T06:51:02.544930Z",
     "iopub.status.busy": "2020-12-11T06:51:02.543818Z",
     "iopub.status.idle": "2020-12-11T06:51:02.548835Z",
     "shell.execute_reply": "2020-12-11T06:51:02.548151Z"
    },
    "papermill": {
     "duration": 0.07176,
     "end_time": "2020-12-11T06:51:02.548959",
     "exception": false,
     "start_time": "2020-12-11T06:51:02.477199",
     "status": "completed"
    },
    "tags": []
   },
   "outputs": [
    {
     "data": {
      "text/html": [
       "<div>\n",
       "<style scoped>\n",
       "    .dataframe tbody tr th:only-of-type {\n",
       "        vertical-align: middle;\n",
       "    }\n",
       "\n",
       "    .dataframe tbody tr th {\n",
       "        vertical-align: top;\n",
       "    }\n",
       "\n",
       "    .dataframe thead th {\n",
       "        text-align: right;\n",
       "    }\n",
       "</style>\n",
       "<table border=\"1\" class=\"dataframe\">\n",
       "  <thead>\n",
       "    <tr style=\"text-align: right;\">\n",
       "      <th></th>\n",
       "      <th>Open</th>\n",
       "      <th>High</th>\n",
       "      <th>Low</th>\n",
       "      <th>Close</th>\n",
       "    </tr>\n",
       "  </thead>\n",
       "  <tbody>\n",
       "    <tr>\n",
       "      <th>2211</th>\n",
       "      <td>-3.367211</td>\n",
       "      <td>-7.617211</td>\n",
       "      <td>-2.259483</td>\n",
       "      <td>209.840517</td>\n",
       "    </tr>\n",
       "    <tr>\n",
       "      <th>2212</th>\n",
       "      <td>-2.334036</td>\n",
       "      <td>1.033175</td>\n",
       "      <td>-0.023944</td>\n",
       "      <td>209.816573</td>\n",
       "    </tr>\n",
       "    <tr>\n",
       "      <th>2213</th>\n",
       "      <td>-2.908905</td>\n",
       "      <td>-0.574869</td>\n",
       "      <td>0.215381</td>\n",
       "      <td>210.031954</td>\n",
       "    </tr>\n",
       "    <tr>\n",
       "      <th>2214</th>\n",
       "      <td>-2.781620</td>\n",
       "      <td>0.127284</td>\n",
       "      <td>-0.266073</td>\n",
       "      <td>209.765882</td>\n",
       "    </tr>\n",
       "    <tr>\n",
       "      <th>2215</th>\n",
       "      <td>-2.955289</td>\n",
       "      <td>-0.173669</td>\n",
       "      <td>0.194198</td>\n",
       "      <td>209.960079</td>\n",
       "    </tr>\n",
       "    <tr>\n",
       "      <th>2216</th>\n",
       "      <td>-2.994821</td>\n",
       "      <td>-0.039532</td>\n",
       "      <td>-0.158799</td>\n",
       "      <td>209.801280</td>\n",
       "    </tr>\n",
       "    <tr>\n",
       "      <th>2217</th>\n",
       "      <td>-3.102420</td>\n",
       "      <td>-0.107599</td>\n",
       "      <td>0.081253</td>\n",
       "      <td>209.882533</td>\n",
       "    </tr>\n",
       "    <tr>\n",
       "      <th>2218</th>\n",
       "      <td>-3.168590</td>\n",
       "      <td>-0.066169</td>\n",
       "      <td>-0.069047</td>\n",
       "      <td>209.813486</td>\n",
       "    </tr>\n",
       "    <tr>\n",
       "      <th>2219</th>\n",
       "      <td>-3.263407</td>\n",
       "      <td>-0.094818</td>\n",
       "      <td>0.019306</td>\n",
       "      <td>209.832792</td>\n",
       "    </tr>\n",
       "    <tr>\n",
       "      <th>2220</th>\n",
       "      <td>-3.337833</td>\n",
       "      <td>-0.074426</td>\n",
       "      <td>-0.030176</td>\n",
       "      <td>209.802617</td>\n",
       "    </tr>\n",
       "    <tr>\n",
       "      <th>2221</th>\n",
       "      <td>-3.426181</td>\n",
       "      <td>-0.088348</td>\n",
       "      <td>-0.003318</td>\n",
       "      <td>209.799298</td>\n",
       "    </tr>\n",
       "    <tr>\n",
       "      <th>2222</th>\n",
       "      <td>-3.505800</td>\n",
       "      <td>-0.079620</td>\n",
       "      <td>-0.017825</td>\n",
       "      <td>209.781474</td>\n",
       "    </tr>\n",
       "  </tbody>\n",
       "</table>\n",
       "</div>"
      ],
      "text/plain": [
       "          Open      High       Low       Close\n",
       "2211 -3.367211 -7.617211 -2.259483  209.840517\n",
       "2212 -2.334036  1.033175 -0.023944  209.816573\n",
       "2213 -2.908905 -0.574869  0.215381  210.031954\n",
       "2214 -2.781620  0.127284 -0.266073  209.765882\n",
       "2215 -2.955289 -0.173669  0.194198  209.960079\n",
       "2216 -2.994821 -0.039532 -0.158799  209.801280\n",
       "2217 -3.102420 -0.107599  0.081253  209.882533\n",
       "2218 -3.168590 -0.066169 -0.069047  209.813486\n",
       "2219 -3.263407 -0.094818  0.019306  209.832792\n",
       "2220 -3.337833 -0.074426 -0.030176  209.802617\n",
       "2221 -3.426181 -0.088348 -0.003318  209.799298\n",
       "2222 -3.505800 -0.079620 -0.017825  209.781474"
      ]
     },
     "execution_count": 20,
     "metadata": {},
     "output_type": "execute_result"
    }
   ],
   "source": [
    "df_forecast"
   ]
  },
  {
   "cell_type": "code",
   "execution_count": 21,
   "metadata": {
    "execution": {
     "iopub.execute_input": "2020-12-11T06:51:02.672244Z",
     "iopub.status.busy": "2020-12-11T06:51:02.671308Z",
     "iopub.status.idle": "2020-12-11T06:51:02.675519Z",
     "shell.execute_reply": "2020-12-11T06:51:02.676036Z"
    },
    "papermill": {
     "duration": 0.074994,
     "end_time": "2020-12-11T06:51:02.676193",
     "exception": false,
     "start_time": "2020-12-11T06:51:02.601199",
     "status": "completed"
    },
    "tags": []
   },
   "outputs": [
    {
     "data": {
      "text/html": [
       "<div>\n",
       "<style scoped>\n",
       "    .dataframe tbody tr th:only-of-type {\n",
       "        vertical-align: middle;\n",
       "    }\n",
       "\n",
       "    .dataframe tbody tr th {\n",
       "        vertical-align: top;\n",
       "    }\n",
       "\n",
       "    .dataframe thead th {\n",
       "        text-align: right;\n",
       "    }\n",
       "</style>\n",
       "<table border=\"1\" class=\"dataframe\">\n",
       "  <thead>\n",
       "    <tr style=\"text-align: right;\">\n",
       "      <th></th>\n",
       "      <th>Open</th>\n",
       "      <th>High</th>\n",
       "      <th>Low</th>\n",
       "      <th>Close</th>\n",
       "      <th>Low</th>\n",
       "      <th>Close</th>\n",
       "    </tr>\n",
       "  </thead>\n",
       "  <tbody>\n",
       "    <tr>\n",
       "      <th>1970-01-01 00:00:00.000002211</th>\n",
       "      <td>NaN</td>\n",
       "      <td>NaN</td>\n",
       "      <td>NaN</td>\n",
       "      <td>NaN</td>\n",
       "      <td>NaN</td>\n",
       "      <td>NaN</td>\n",
       "    </tr>\n",
       "    <tr>\n",
       "      <th>1970-01-01 00:00:00.000002212</th>\n",
       "      <td>NaN</td>\n",
       "      <td>NaN</td>\n",
       "      <td>NaN</td>\n",
       "      <td>NaN</td>\n",
       "      <td>NaN</td>\n",
       "      <td>NaN</td>\n",
       "    </tr>\n",
       "    <tr>\n",
       "      <th>1970-01-01 00:00:00.000002213</th>\n",
       "      <td>NaN</td>\n",
       "      <td>NaN</td>\n",
       "      <td>NaN</td>\n",
       "      <td>NaN</td>\n",
       "      <td>NaN</td>\n",
       "      <td>NaN</td>\n",
       "    </tr>\n",
       "    <tr>\n",
       "      <th>1970-01-01 00:00:00.000002214</th>\n",
       "      <td>NaN</td>\n",
       "      <td>NaN</td>\n",
       "      <td>NaN</td>\n",
       "      <td>NaN</td>\n",
       "      <td>NaN</td>\n",
       "      <td>NaN</td>\n",
       "    </tr>\n",
       "    <tr>\n",
       "      <th>1970-01-01 00:00:00.000002215</th>\n",
       "      <td>NaN</td>\n",
       "      <td>NaN</td>\n",
       "      <td>NaN</td>\n",
       "      <td>NaN</td>\n",
       "      <td>NaN</td>\n",
       "      <td>NaN</td>\n",
       "    </tr>\n",
       "    <tr>\n",
       "      <th>1970-01-01 00:00:00.000002216</th>\n",
       "      <td>NaN</td>\n",
       "      <td>NaN</td>\n",
       "      <td>NaN</td>\n",
       "      <td>NaN</td>\n",
       "      <td>NaN</td>\n",
       "      <td>NaN</td>\n",
       "    </tr>\n",
       "    <tr>\n",
       "      <th>1970-01-01 00:00:00.000002217</th>\n",
       "      <td>NaN</td>\n",
       "      <td>NaN</td>\n",
       "      <td>NaN</td>\n",
       "      <td>NaN</td>\n",
       "      <td>NaN</td>\n",
       "      <td>NaN</td>\n",
       "    </tr>\n",
       "    <tr>\n",
       "      <th>1970-01-01 00:00:00.000002218</th>\n",
       "      <td>NaN</td>\n",
       "      <td>NaN</td>\n",
       "      <td>NaN</td>\n",
       "      <td>NaN</td>\n",
       "      <td>NaN</td>\n",
       "      <td>NaN</td>\n",
       "    </tr>\n",
       "    <tr>\n",
       "      <th>1970-01-01 00:00:00.000002219</th>\n",
       "      <td>NaN</td>\n",
       "      <td>NaN</td>\n",
       "      <td>NaN</td>\n",
       "      <td>NaN</td>\n",
       "      <td>NaN</td>\n",
       "      <td>NaN</td>\n",
       "    </tr>\n",
       "    <tr>\n",
       "      <th>1970-01-01 00:00:00.000002220</th>\n",
       "      <td>NaN</td>\n",
       "      <td>NaN</td>\n",
       "      <td>NaN</td>\n",
       "      <td>NaN</td>\n",
       "      <td>NaN</td>\n",
       "      <td>NaN</td>\n",
       "    </tr>\n",
       "    <tr>\n",
       "      <th>1970-01-01 00:00:00.000002221</th>\n",
       "      <td>NaN</td>\n",
       "      <td>NaN</td>\n",
       "      <td>NaN</td>\n",
       "      <td>NaN</td>\n",
       "      <td>NaN</td>\n",
       "      <td>NaN</td>\n",
       "    </tr>\n",
       "    <tr>\n",
       "      <th>1970-01-01 00:00:00.000002222</th>\n",
       "      <td>NaN</td>\n",
       "      <td>NaN</td>\n",
       "      <td>NaN</td>\n",
       "      <td>NaN</td>\n",
       "      <td>NaN</td>\n",
       "      <td>NaN</td>\n",
       "    </tr>\n",
       "    <tr>\n",
       "      <th>2021-12-13 00:00:00.000000000</th>\n",
       "      <td>218.25</td>\n",
       "      <td>218.25</td>\n",
       "      <td>213.10</td>\n",
       "      <td>214.65</td>\n",
       "      <td>NaN</td>\n",
       "      <td>NaN</td>\n",
       "    </tr>\n",
       "    <tr>\n",
       "      <th>2021-12-14 00:00:00.000000000</th>\n",
       "      <td>214.70</td>\n",
       "      <td>214.70</td>\n",
       "      <td>211.65</td>\n",
       "      <td>212.95</td>\n",
       "      <td>NaN</td>\n",
       "      <td>NaN</td>\n",
       "    </tr>\n",
       "    <tr>\n",
       "      <th>2021-12-15 00:00:00.000000000</th>\n",
       "      <td>213.90</td>\n",
       "      <td>213.90</td>\n",
       "      <td>210.00</td>\n",
       "      <td>211.10</td>\n",
       "      <td>NaN</td>\n",
       "      <td>NaN</td>\n",
       "    </tr>\n",
       "    <tr>\n",
       "      <th>2021-12-16 00:00:00.000000000</th>\n",
       "      <td>213.00</td>\n",
       "      <td>213.00</td>\n",
       "      <td>207.00</td>\n",
       "      <td>207.80</td>\n",
       "      <td>NaN</td>\n",
       "      <td>NaN</td>\n",
       "    </tr>\n",
       "    <tr>\n",
       "      <th>2021-12-17 00:00:00.000000000</th>\n",
       "      <td>208.00</td>\n",
       "      <td>208.00</td>\n",
       "      <td>203.05</td>\n",
       "      <td>204.25</td>\n",
       "      <td>NaN</td>\n",
       "      <td>NaN</td>\n",
       "    </tr>\n",
       "    <tr>\n",
       "      <th>2021-12-20 00:00:00.000000000</th>\n",
       "      <td>200.00</td>\n",
       "      <td>200.00</td>\n",
       "      <td>190.30</td>\n",
       "      <td>194.55</td>\n",
       "      <td>NaN</td>\n",
       "      <td>NaN</td>\n",
       "    </tr>\n",
       "    <tr>\n",
       "      <th>2021-12-21 00:00:00.000000000</th>\n",
       "      <td>196.00</td>\n",
       "      <td>204.05</td>\n",
       "      <td>196.00</td>\n",
       "      <td>199.65</td>\n",
       "      <td>NaN</td>\n",
       "      <td>NaN</td>\n",
       "    </tr>\n",
       "    <tr>\n",
       "      <th>2021-12-22 00:00:00.000000000</th>\n",
       "      <td>202.90</td>\n",
       "      <td>207.80</td>\n",
       "      <td>201.35</td>\n",
       "      <td>205.00</td>\n",
       "      <td>NaN</td>\n",
       "      <td>NaN</td>\n",
       "    </tr>\n",
       "    <tr>\n",
       "      <th>2021-12-23 00:00:00.000000000</th>\n",
       "      <td>206.00</td>\n",
       "      <td>206.85</td>\n",
       "      <td>202.05</td>\n",
       "      <td>202.95</td>\n",
       "      <td>NaN</td>\n",
       "      <td>NaN</td>\n",
       "    </tr>\n",
       "    <tr>\n",
       "      <th>2021-12-24 00:00:00.000000000</th>\n",
       "      <td>203.90</td>\n",
       "      <td>203.90</td>\n",
       "      <td>199.35</td>\n",
       "      <td>201.00</td>\n",
       "      <td>NaN</td>\n",
       "      <td>NaN</td>\n",
       "    </tr>\n",
       "    <tr>\n",
       "      <th>2021-12-27 00:00:00.000000000</th>\n",
       "      <td>200.00</td>\n",
       "      <td>222.00</td>\n",
       "      <td>196.00</td>\n",
       "      <td>218.35</td>\n",
       "      <td>NaN</td>\n",
       "      <td>NaN</td>\n",
       "    </tr>\n",
       "    <tr>\n",
       "      <th>2021-12-28 00:00:00.000000000</th>\n",
       "      <td>219.65</td>\n",
       "      <td>220.45</td>\n",
       "      <td>211.55</td>\n",
       "      <td>212.35</td>\n",
       "      <td>NaN</td>\n",
       "      <td>NaN</td>\n",
       "    </tr>\n",
       "  </tbody>\n",
       "</table>\n",
       "</div>"
      ],
      "text/plain": [
       "                                 Open    High     Low   Close  Low  Close\n",
       "1970-01-01 00:00:00.000002211     NaN     NaN     NaN     NaN  NaN    NaN\n",
       "1970-01-01 00:00:00.000002212     NaN     NaN     NaN     NaN  NaN    NaN\n",
       "1970-01-01 00:00:00.000002213     NaN     NaN     NaN     NaN  NaN    NaN\n",
       "1970-01-01 00:00:00.000002214     NaN     NaN     NaN     NaN  NaN    NaN\n",
       "1970-01-01 00:00:00.000002215     NaN     NaN     NaN     NaN  NaN    NaN\n",
       "1970-01-01 00:00:00.000002216     NaN     NaN     NaN     NaN  NaN    NaN\n",
       "1970-01-01 00:00:00.000002217     NaN     NaN     NaN     NaN  NaN    NaN\n",
       "1970-01-01 00:00:00.000002218     NaN     NaN     NaN     NaN  NaN    NaN\n",
       "1970-01-01 00:00:00.000002219     NaN     NaN     NaN     NaN  NaN    NaN\n",
       "1970-01-01 00:00:00.000002220     NaN     NaN     NaN     NaN  NaN    NaN\n",
       "1970-01-01 00:00:00.000002221     NaN     NaN     NaN     NaN  NaN    NaN\n",
       "1970-01-01 00:00:00.000002222     NaN     NaN     NaN     NaN  NaN    NaN\n",
       "2021-12-13 00:00:00.000000000  218.25  218.25  213.10  214.65  NaN    NaN\n",
       "2021-12-14 00:00:00.000000000  214.70  214.70  211.65  212.95  NaN    NaN\n",
       "2021-12-15 00:00:00.000000000  213.90  213.90  210.00  211.10  NaN    NaN\n",
       "2021-12-16 00:00:00.000000000  213.00  213.00  207.00  207.80  NaN    NaN\n",
       "2021-12-17 00:00:00.000000000  208.00  208.00  203.05  204.25  NaN    NaN\n",
       "2021-12-20 00:00:00.000000000  200.00  200.00  190.30  194.55  NaN    NaN\n",
       "2021-12-21 00:00:00.000000000  196.00  204.05  196.00  199.65  NaN    NaN\n",
       "2021-12-22 00:00:00.000000000  202.90  207.80  201.35  205.00  NaN    NaN\n",
       "2021-12-23 00:00:00.000000000  206.00  206.85  202.05  202.95  NaN    NaN\n",
       "2021-12-24 00:00:00.000000000  203.90  203.90  199.35  201.00  NaN    NaN\n",
       "2021-12-27 00:00:00.000000000  200.00  222.00  196.00  218.35  NaN    NaN\n",
       "2021-12-28 00:00:00.000000000  219.65  220.45  211.55  212.35  NaN    NaN"
      ]
     },
     "execution_count": 21,
     "metadata": {},
     "output_type": "execute_result"
    }
   ],
   "source": [
    "pd.concat([df.iloc[-12:],df_forecast[['Low','Close']]],axis=1)"
   ]
  },
  {
   "cell_type": "code",
   "execution_count": 22,
   "metadata": {},
   "outputs": [
    {
     "data": {
      "text/html": [
       "<div>\n",
       "<style scoped>\n",
       "    .dataframe tbody tr th:only-of-type {\n",
       "        vertical-align: middle;\n",
       "    }\n",
       "\n",
       "    .dataframe tbody tr th {\n",
       "        vertical-align: top;\n",
       "    }\n",
       "\n",
       "    .dataframe thead th {\n",
       "        text-align: right;\n",
       "    }\n",
       "</style>\n",
       "<table border=\"1\" class=\"dataframe\">\n",
       "  <thead>\n",
       "    <tr style=\"text-align: right;\">\n",
       "      <th></th>\n",
       "      <th>Open</th>\n",
       "      <th>High</th>\n",
       "      <th>Low</th>\n",
       "      <th>Close</th>\n",
       "    </tr>\n",
       "  </thead>\n",
       "  <tbody>\n",
       "    <tr>\n",
       "      <th>count</th>\n",
       "      <td>2225.0</td>\n",
       "      <td>2225.0</td>\n",
       "      <td>2225.0</td>\n",
       "      <td>2225.0</td>\n",
       "    </tr>\n",
       "    <tr>\n",
       "      <th>mean</th>\n",
       "      <td>341.0</td>\n",
       "      <td>346.0</td>\n",
       "      <td>336.0</td>\n",
       "      <td>340.0</td>\n",
       "    </tr>\n",
       "    <tr>\n",
       "      <th>std</th>\n",
       "      <td>430.0</td>\n",
       "      <td>437.0</td>\n",
       "      <td>424.0</td>\n",
       "      <td>429.0</td>\n",
       "    </tr>\n",
       "    <tr>\n",
       "      <th>min</th>\n",
       "      <td>49.0</td>\n",
       "      <td>51.0</td>\n",
       "      <td>48.0</td>\n",
       "      <td>49.0</td>\n",
       "    </tr>\n",
       "    <tr>\n",
       "      <th>25%</th>\n",
       "      <td>93.0</td>\n",
       "      <td>94.0</td>\n",
       "      <td>91.0</td>\n",
       "      <td>92.0</td>\n",
       "    </tr>\n",
       "    <tr>\n",
       "      <th>50%</th>\n",
       "      <td>119.0</td>\n",
       "      <td>121.0</td>\n",
       "      <td>117.0</td>\n",
       "      <td>119.0</td>\n",
       "    </tr>\n",
       "    <tr>\n",
       "      <th>75%</th>\n",
       "      <td>212.0</td>\n",
       "      <td>215.0</td>\n",
       "      <td>208.0</td>\n",
       "      <td>212.0</td>\n",
       "    </tr>\n",
       "    <tr>\n",
       "      <th>max</th>\n",
       "      <td>1651.0</td>\n",
       "      <td>1680.0</td>\n",
       "      <td>1637.0</td>\n",
       "      <td>1648.0</td>\n",
       "    </tr>\n",
       "  </tbody>\n",
       "</table>\n",
       "</div>"
      ],
      "text/plain": [
       "         Open    High     Low   Close\n",
       "count  2225.0  2225.0  2225.0  2225.0\n",
       "mean    341.0   346.0   336.0   340.0\n",
       "std     430.0   437.0   424.0   429.0\n",
       "min      49.0    51.0    48.0    49.0\n",
       "25%      93.0    94.0    91.0    92.0\n",
       "50%     119.0   121.0   117.0   119.0\n",
       "75%     212.0   215.0   208.0   212.0\n",
       "max    1651.0  1680.0  1637.0  1648.0"
      ]
     },
     "execution_count": 22,
     "metadata": {},
     "output_type": "execute_result"
    }
   ],
   "source": [
    "df.describe().round()"
   ]
  },
  {
   "cell_type": "code",
   "execution_count": null,
   "metadata": {},
   "outputs": [],
   "source": []
  },
  {
   "cell_type": "markdown",
   "metadata": {
    "papermill": {
     "duration": 0.052515,
     "end_time": "2020-12-11T06:51:02.781616",
     "exception": false,
     "start_time": "2020-12-11T06:51:02.729101",
     "status": "completed"
    },
    "tags": []
   },
   "source": [
    "## Plot the results"
   ]
  },
  {
   "cell_type": "code",
   "execution_count": 23,
   "metadata": {
    "execution": {
     "iopub.execute_input": "2020-12-11T06:51:02.903120Z",
     "iopub.status.busy": "2020-12-11T06:51:02.896934Z",
     "iopub.status.idle": "2020-12-11T06:51:03.111523Z",
     "shell.execute_reply": "2020-12-11T06:51:03.110795Z"
    },
    "papermill": {
     "duration": 0.277306,
     "end_time": "2020-12-11T06:51:03.111645",
     "exception": false,
     "start_time": "2020-12-11T06:51:02.834339",
     "status": "completed"
    },
    "tags": []
   },
   "outputs": [
    {
     "data": {
      "image/png": "[encoded data removed]",
      "text/plain": [
       "<Figure size 864x360 with 1 Axes>"
      ]
     },
     "metadata": {
      "needs_background": "light"
     },
     "output_type": "display_data"
    }
   ],
   "source": [
    "df['Low'][-nobs:].plot(figsize=(12,5),legend=True).autoscale(axis='x',tight=True)\n"
   ]
  },
  {
   "cell_type": "code",
   "execution_count": 24,
   "metadata": {
    "execution": {
     "iopub.execute_input": "2020-12-11T06:51:03.235317Z",
     "iopub.status.busy": "2020-12-11T06:51:03.230867Z",
     "iopub.status.idle": "2020-12-11T06:51:03.429044Z",
     "shell.execute_reply": "2020-12-11T06:51:03.428262Z"
    },
    "papermill": {
     "duration": 0.262523,
     "end_time": "2020-12-11T06:51:03.429171",
     "exception": false,
     "start_time": "2020-12-11T06:51:03.166648",
     "status": "completed"
    },
    "tags": []
   },
   "outputs": [
    {
     "data": {
      "image/png": "[encoded data removed]",
      "text/plain": [
       "<Figure size 864x360 with 1 Axes>"
      ]
     },
     "metadata": {
      "needs_background": "light"
     },
     "output_type": "display_data"
    }
   ],
   "source": [
    "df['High'][-nobs:].plot(figsize=(12,5),legend=True).autoscale(axis='x',tight=True)\n"
   ]
  },
  {
   "cell_type": "markdown",
   "metadata": {
    "papermill": {
     "duration": 0.055652,
     "end_time": "2020-12-11T06:51:03.540725",
     "exception": false,
     "start_time": "2020-12-11T06:51:03.485073",
     "status": "completed"
    },
    "tags": []
   },
   "source": [
    "## Model Evaluation"
   ]
  },
  {
   "cell_type": "code",
   "execution_count": 25,
   "metadata": {
    "execution": {
     "iopub.execute_input": "2020-12-11T06:51:03.658345Z",
     "iopub.status.busy": "2020-12-11T06:51:03.657458Z",
     "iopub.status.idle": "2020-12-11T06:51:03.661625Z",
     "shell.execute_reply": "2020-12-11T06:51:03.660921Z"
    },
    "papermill": {
     "duration": 0.065775,
     "end_time": "2020-12-11T06:51:03.661743",
     "exception": false,
     "start_time": "2020-12-11T06:51:03.595968",
     "status": "completed"
    },
    "tags": []
   },
   "outputs": [
    {
     "name": "stdout",
     "output_type": "stream",
     "text": [
      "Money VAR(5) RMSE: 211.383\n"
     ]
    }
   ],
   "source": [
    "RMSE1 = rmse(df['High'][-nobs:], df_forecast['Low'])\n",
    "print(f'Money VAR(5) RMSE: {RMSE1:.3f}')"
   ]
  },
  {
   "cell_type": "code",
   "execution_count": 26,
   "metadata": {
    "execution": {
     "iopub.execute_input": "2020-12-11T06:51:03.781312Z",
     "iopub.status.busy": "2020-12-11T06:51:03.780436Z",
     "iopub.status.idle": "2020-12-11T06:51:03.784676Z",
     "shell.execute_reply": "2020-12-11T06:51:03.783826Z"
    },
    "papermill": {
     "duration": 0.066502,
     "end_time": "2020-12-11T06:51:03.784828",
     "exception": false,
     "start_time": "2020-12-11T06:51:03.718326",
     "status": "completed"
    },
    "tags": []
   },
   "outputs": [
    {
     "name": "stdout",
     "output_type": "stream",
     "text": [
      "Spending VAR(5) RMSE: 7.656\n"
     ]
    }
   ],
   "source": [
    "RMSE2 = rmse(df['Open'][-nobs:], df_forecast['Close'])\n",
    "print(f'Spending VAR(5) RMSE: {RMSE2:.3f}')"
   ]
  },
  {
   "cell_type": "markdown",
   "metadata": {
    "papermill": {
     "duration": 0.05633,
     "end_time": "2020-12-11T06:51:03.898789",
     "exception": false,
     "start_time": "2020-12-11T06:51:03.842459",
     "status": "completed"
    },
    "tags": []
   },
   "source": [
    "# Summary"
   ]
  },
  {
   "cell_type": "markdown",
   "metadata": {
    "papermill": {
     "duration": 0.056611,
     "end_time": "2020-12-11T06:51:04.012649",
     "exception": false,
     "start_time": "2020-12-11T06:51:03.956038",
     "status": "completed"
    },
    "tags": []
   },
   "source": [
    "**The VARMA model fits very poorly for this dataset. Perhaps there is no good relationship between the Spending and and the Personal Disposable Income atleast for the period that I investigated here. Next step could be to compare the results to the ARMA or other models.**"
   ]
  },
  {
   "cell_type": "code",
   "execution_count": null,
   "metadata": {
    "papermill": {
     "duration": 0.056243,
     "end_time": "2020-12-11T06:51:04.125587",
     "exception": false,
     "start_time": "2020-12-11T06:51:04.069344",
     "status": "completed"
    },
    "tags": []
   },
   "outputs": [],
   "source": []
  }
 ],
 "metadata": {
  "kernelspec": {
   "display_name": "Python 3",
   "language": "python",
   "name": "python3"
  },
  "language_info": {
   "codemirror_mode": {
    "name": "ipython",
    "version": 3
   },
   "file_extension": ".py",
   "mimetype": "text/x-python",
   "name": "python",
   "nbconvert_exporter": "python",
   "pygments_lexer": "ipython3",
   "version": "3.7.6"
  },
  "papermill": {
   "duration": 59.521535,
   "end_time": "2020-12-11T06:51:04.290297",
   "environment_variables": {},
   "exception": null,
   "input_path": "__notebook__.ipynb",
   "output_path": "__notebook__.ipynb",
   "parameters": {},
   "start_time": "2020-12-11T06:50:04.768762",
   "version": "2.1.0"
  }
 },
 "nbformat": 4,
 "nbformat_minor": 4
}
