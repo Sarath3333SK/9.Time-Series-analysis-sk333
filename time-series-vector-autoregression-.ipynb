{
 "cells": [
  {
   "cell_type": "code",
   "execution_count": 1,
   "metadata": {
    "_cell_guid": "b1076dfc-b9ad-4769-8c92-a6c4dae69d19",
    "_uuid": "8f2839f25d086af736a60e9eeb907d3b93b6e0e5",
    "execution": {
     "iopub.execute_input": "2020-12-11T05:22:55.128376Z",
     "iopub.status.busy": "2020-12-11T05:22:55.127718Z",
     "iopub.status.idle": "2020-12-11T05:22:55.148032Z",
     "shell.execute_reply": "2020-12-11T05:22:55.148748Z"
    },
    "papermill": {
     "duration": 0.067008,
     "end_time": "2020-12-11T05:22:55.148916",
     "exception": false,
     "start_time": "2020-12-11T05:22:55.081908",
     "status": "completed"
    },
    "tags": []
   },
   "outputs": [],
   "source": [
    "# This Python 3 environment comes with many helpful analytics libraries installed\n",
    "# It is defined by the kaggle/python Docker image: https://github.com/kaggle/docker-python\n",
    "# For example, here's several helpful packages to load\n",
    "\n",
    "import numpy as np # linear algebra\n",
    "import pandas as pd # data processing, CSV file I/O (e.g. pd.read_csv)\n",
    "\n",
    "# Input data files are available in the read-only \"../input/\" directory\n",
    "# For example, running this (by clicking run or pressing Shift+Enter) will list all files under the input directory\n",
    "\n",
    "import os\n",
    "for dirname, _, filenames in os.walk('Tatacoffee13_21.csv'):\n",
    "    for filename in filenames:\n",
    "        print(os.path.join(dirname, filename))\n",
    "\n",
    "# You can write up to 20GB to the current directory (/kaggle/working/) that gets preserved as output when you create a version using \"Save & Run All\" \n",
    "# You can also write temporary files to /kaggle/temp/, but they won't be saved outside of the current session"
   ]
  },
  {
   "cell_type": "markdown",
   "metadata": {
    "_cell_guid": "79c7e3d0-c299-4dcb-8224-4455121ee9b0",
    "_uuid": "d629ff2d2480ee46fbb7e2d37f6b5fab8052498a",
    "collapsed": true,
    "papermill": {
     "duration": 0.037683,
     "end_time": "2020-12-11T05:22:55.227486",
     "exception": false,
     "start_time": "2020-12-11T05:22:55.189803",
     "status": "completed"
    },
    "tags": []
   },
   "source": [
    "# VAR - Vector AutoRegression\n",
    "VAR is used when there are variables which have an effect on each other. In case of restaurant visitors where the exogenous variable $holidays$ affected the $visitors$, it wasn't vice versa. However, there are many cases in which two variables have an effect on each other. Example is Personal Disposable Income affects the Spending and the amount of Spending is affected by the available Personal Disposable income in the hands of the people. The dataset here contains the income in the hands of the people and another dataset contains the spending. "
   ]
  },
  {
   "cell_type": "markdown",
   "metadata": {
    "papermill": {
     "duration": 0.037158,
     "end_time": "2020-12-11T05:22:55.302556",
     "exception": false,
     "start_time": "2020-12-11T05:22:55.265398",
     "status": "completed"
    },
    "tags": []
   },
   "source": [
    "## Imports and Load the dataset"
   ]
  },
  {
   "cell_type": "code",
   "execution_count": 4,
   "metadata": {
    "execution": {
     "iopub.execute_input": "2020-12-11T05:22:55.392202Z",
     "iopub.status.busy": "2020-12-11T05:22:55.391558Z",
     "iopub.status.idle": "2020-12-11T05:22:56.726280Z",
     "shell.execute_reply": "2020-12-11T05:22:56.725558Z"
    },
    "papermill": {
     "duration": 1.386414,
     "end_time": "2020-12-11T05:22:56.726396",
     "exception": false,
     "start_time": "2020-12-11T05:22:55.339982",
     "status": "completed"
    },
    "tags": []
   },
   "outputs": [],
   "source": [
    "import numpy as np\n",
    "import pandas as pd\n",
    "\n",
    "# visualization import\n",
    "import matplotlib.pyplot as plt\n",
    "import seaborn as sns\n",
    "%matplotlib inline\n",
    "\n",
    "# define the plot size default\n",
    "from pylab import rcParams\n",
    "rcParams['figure.figsize'] = (12,5)\n",
    "\n",
    "# load specific forecasting tools\n",
    "from statsmodels.tsa.api import VAR\n",
    "from statsmodels.tsa.stattools import adfuller\n",
    "from statsmodels.tsa.seasonal import seasonal_decompose\n",
    "from statsmodels.tools.eval_measures import mse,rmse\n",
    "\n",
    "# Ignore harmless warnings\n",
    "import warnings\n",
    "warnings.filterwarnings(\"ignore\")\n",
    "\n",
    "# Load datasets\n",
    "df = pd.read_csv('Tatacoffee13_21.csv',index_col=0, parse_dates=True)\n",
    "\n",
    "\n",
    "sp = pd.read_csv('Tatacoffee13_21.csv',index_col=0, parse_dates=True)\n",
    "\n"
   ]
  },
  {
   "cell_type": "markdown",
   "metadata": {
    "papermill": {
     "duration": 0.039284,
     "end_time": "2020-12-11T05:22:56.804224",
     "exception": false,
     "start_time": "2020-12-11T05:22:56.764940",
     "status": "completed"
    },
    "tags": []
   },
   "source": [
    "## Inspect the data"
   ]
  },
  {
   "cell_type": "code",
   "execution_count": 5,
   "metadata": {
    "execution": {
     "iopub.execute_input": "2020-12-11T05:22:56.891069Z",
     "iopub.status.busy": "2020-12-11T05:22:56.890433Z",
     "iopub.status.idle": "2020-12-11T05:22:56.899840Z",
     "shell.execute_reply": "2020-12-11T05:22:56.899203Z"
    },
    "papermill": {
     "duration": 0.057278,
     "end_time": "2020-12-11T05:22:56.899953",
     "exception": false,
     "start_time": "2020-12-11T05:22:56.842675",
     "status": "completed"
    },
    "tags": []
   },
   "outputs": [
    {
     "data": {
      "text/html": [
       "<div>\n",
       "<style scoped>\n",
       "    .dataframe tbody tr th:only-of-type {\n",
       "        vertical-align: middle;\n",
       "    }\n",
       "\n",
       "    .dataframe tbody tr th {\n",
       "        vertical-align: top;\n",
       "    }\n",
       "\n",
       "    .dataframe thead th {\n",
       "        text-align: right;\n",
       "    }\n",
       "</style>\n",
       "<table border=\"1\" class=\"dataframe\">\n",
       "  <thead>\n",
       "    <tr style=\"text-align: right;\">\n",
       "      <th></th>\n",
       "      <th>Open</th>\n",
       "      <th>High</th>\n",
       "      <th>Low</th>\n",
       "      <th>Close</th>\n",
       "    </tr>\n",
       "    <tr>\n",
       "      <th>Date</th>\n",
       "      <th></th>\n",
       "      <th></th>\n",
       "      <th></th>\n",
       "      <th></th>\n",
       "    </tr>\n",
       "  </thead>\n",
       "  <tbody>\n",
       "    <tr>\n",
       "      <th>2013-01-01</th>\n",
       "      <td>1410.60</td>\n",
       "      <td>1427.90</td>\n",
       "      <td>1408.30</td>\n",
       "      <td>1415.10</td>\n",
       "    </tr>\n",
       "    <tr>\n",
       "      <th>2013-01-02</th>\n",
       "      <td>1421.00</td>\n",
       "      <td>1626.60</td>\n",
       "      <td>1416.15</td>\n",
       "      <td>1607.40</td>\n",
       "    </tr>\n",
       "    <tr>\n",
       "      <th>2013-01-03</th>\n",
       "      <td>1632.55</td>\n",
       "      <td>1673.90</td>\n",
       "      <td>1613.05</td>\n",
       "      <td>1626.20</td>\n",
       "    </tr>\n",
       "    <tr>\n",
       "      <th>2013-01-04</th>\n",
       "      <td>1627.75</td>\n",
       "      <td>1627.75</td>\n",
       "      <td>1574.60</td>\n",
       "      <td>1579.05</td>\n",
       "    </tr>\n",
       "    <tr>\n",
       "      <th>2013-01-07</th>\n",
       "      <td>1580.00</td>\n",
       "      <td>1639.50</td>\n",
       "      <td>1565.50</td>\n",
       "      <td>1595.65</td>\n",
       "    </tr>\n",
       "  </tbody>\n",
       "</table>\n",
       "</div>"
      ],
      "text/plain": [
       "               Open     High      Low    Close\n",
       "Date                                          \n",
       "2013-01-01  1410.60  1427.90  1408.30  1415.10\n",
       "2013-01-02  1421.00  1626.60  1416.15  1607.40\n",
       "2013-01-03  1632.55  1673.90  1613.05  1626.20\n",
       "2013-01-04  1627.75  1627.75  1574.60  1579.05\n",
       "2013-01-07  1580.00  1639.50  1565.50  1595.65"
      ]
     },
     "execution_count": 5,
     "metadata": {},
     "output_type": "execute_result"
    }
   ],
   "source": [
    "df.head()"
   ]
  },
  {
   "cell_type": "code",
   "execution_count": 6,
   "metadata": {
    "execution": {
     "iopub.execute_input": "2020-12-11T05:22:56.989278Z",
     "iopub.status.busy": "2020-12-11T05:22:56.988392Z",
     "iopub.status.idle": "2020-12-11T05:22:56.992865Z",
     "shell.execute_reply": "2020-12-11T05:22:56.992331Z"
    },
    "papermill": {
     "duration": 0.051944,
     "end_time": "2020-12-11T05:22:56.992978",
     "exception": false,
     "start_time": "2020-12-11T05:22:56.941034",
     "status": "completed"
    },
    "tags": []
   },
   "outputs": [
    {
     "data": {
      "text/html": [
       "<div>\n",
       "<style scoped>\n",
       "    .dataframe tbody tr th:only-of-type {\n",
       "        vertical-align: middle;\n",
       "    }\n",
       "\n",
       "    .dataframe tbody tr th {\n",
       "        vertical-align: top;\n",
       "    }\n",
       "\n",
       "    .dataframe thead th {\n",
       "        text-align: right;\n",
       "    }\n",
       "</style>\n",
       "<table border=\"1\" class=\"dataframe\">\n",
       "  <thead>\n",
       "    <tr style=\"text-align: right;\">\n",
       "      <th></th>\n",
       "      <th>Open</th>\n",
       "      <th>High</th>\n",
       "      <th>Low</th>\n",
       "      <th>Close</th>\n",
       "    </tr>\n",
       "    <tr>\n",
       "      <th>Date</th>\n",
       "      <th></th>\n",
       "      <th></th>\n",
       "      <th></th>\n",
       "      <th></th>\n",
       "    </tr>\n",
       "  </thead>\n",
       "  <tbody>\n",
       "    <tr>\n",
       "      <th>2013-01-01</th>\n",
       "      <td>1410.60</td>\n",
       "      <td>1427.90</td>\n",
       "      <td>1408.30</td>\n",
       "      <td>1415.10</td>\n",
       "    </tr>\n",
       "    <tr>\n",
       "      <th>2013-01-02</th>\n",
       "      <td>1421.00</td>\n",
       "      <td>1626.60</td>\n",
       "      <td>1416.15</td>\n",
       "      <td>1607.40</td>\n",
       "    </tr>\n",
       "    <tr>\n",
       "      <th>2013-01-03</th>\n",
       "      <td>1632.55</td>\n",
       "      <td>1673.90</td>\n",
       "      <td>1613.05</td>\n",
       "      <td>1626.20</td>\n",
       "    </tr>\n",
       "    <tr>\n",
       "      <th>2013-01-04</th>\n",
       "      <td>1627.75</td>\n",
       "      <td>1627.75</td>\n",
       "      <td>1574.60</td>\n",
       "      <td>1579.05</td>\n",
       "    </tr>\n",
       "    <tr>\n",
       "      <th>2013-01-07</th>\n",
       "      <td>1580.00</td>\n",
       "      <td>1639.50</td>\n",
       "      <td>1565.50</td>\n",
       "      <td>1595.65</td>\n",
       "    </tr>\n",
       "  </tbody>\n",
       "</table>\n",
       "</div>"
      ],
      "text/plain": [
       "               Open     High      Low    Close\n",
       "Date                                          \n",
       "2013-01-01  1410.60  1427.90  1408.30  1415.10\n",
       "2013-01-02  1421.00  1626.60  1416.15  1607.40\n",
       "2013-01-03  1632.55  1673.90  1613.05  1626.20\n",
       "2013-01-04  1627.75  1627.75  1574.60  1579.05\n",
       "2013-01-07  1580.00  1639.50  1565.50  1595.65"
      ]
     },
     "execution_count": 6,
     "metadata": {},
     "output_type": "execute_result"
    }
   ],
   "source": [
    "sp.head()"
   ]
  },
  {
   "cell_type": "markdown",
   "metadata": {
    "papermill": {
     "duration": 0.039718,
     "end_time": "2020-12-11T05:22:57.073547",
     "exception": false,
     "start_time": "2020-12-11T05:22:57.033829",
     "status": "completed"
    },
    "tags": []
   },
   "source": [
    "Spending is correlated with the money in hand and vice versa. We need to join these two dataframes into one for our model. The datetime index is the same and that makes the joining task easy. "
   ]
  },
  {
   "cell_type": "code",
   "execution_count": 8,
   "metadata": {
    "execution": {
     "iopub.execute_input": "2020-12-11T05:22:57.163504Z",
     "iopub.status.busy": "2020-12-11T05:22:57.162749Z",
     "iopub.status.idle": "2020-12-11T05:22:57.166198Z",
     "shell.execute_reply": "2020-12-11T05:22:57.166696Z"
    },
    "papermill": {
     "duration": 0.054177,
     "end_time": "2020-12-11T05:22:57.166895",
     "exception": false,
     "start_time": "2020-12-11T05:22:57.112718",
     "status": "completed"
    },
    "tags": []
   },
   "outputs": [
    {
     "data": {
      "text/html": [
       "<div>\n",
       "<style scoped>\n",
       "    .dataframe tbody tr th:only-of-type {\n",
       "        vertical-align: middle;\n",
       "    }\n",
       "\n",
       "    .dataframe tbody tr th {\n",
       "        vertical-align: top;\n",
       "    }\n",
       "\n",
       "    .dataframe thead th {\n",
       "        text-align: right;\n",
       "    }\n",
       "</style>\n",
       "<table border=\"1\" class=\"dataframe\">\n",
       "  <thead>\n",
       "    <tr style=\"text-align: right;\">\n",
       "      <th></th>\n",
       "      <th>Open</th>\n",
       "      <th>High</th>\n",
       "      <th>Low</th>\n",
       "      <th>Close</th>\n",
       "    </tr>\n",
       "    <tr>\n",
       "      <th>Date</th>\n",
       "      <th></th>\n",
       "      <th></th>\n",
       "      <th></th>\n",
       "      <th></th>\n",
       "    </tr>\n",
       "  </thead>\n",
       "  <tbody>\n",
       "    <tr>\n",
       "      <th>2013-01-01</th>\n",
       "      <td>1410.60</td>\n",
       "      <td>1427.90</td>\n",
       "      <td>1408.30</td>\n",
       "      <td>1415.10</td>\n",
       "    </tr>\n",
       "    <tr>\n",
       "      <th>2013-01-02</th>\n",
       "      <td>1421.00</td>\n",
       "      <td>1626.60</td>\n",
       "      <td>1416.15</td>\n",
       "      <td>1607.40</td>\n",
       "    </tr>\n",
       "    <tr>\n",
       "      <th>2013-01-03</th>\n",
       "      <td>1632.55</td>\n",
       "      <td>1673.90</td>\n",
       "      <td>1613.05</td>\n",
       "      <td>1626.20</td>\n",
       "    </tr>\n",
       "    <tr>\n",
       "      <th>2013-01-04</th>\n",
       "      <td>1627.75</td>\n",
       "      <td>1627.75</td>\n",
       "      <td>1574.60</td>\n",
       "      <td>1579.05</td>\n",
       "    </tr>\n",
       "    <tr>\n",
       "      <th>2013-01-07</th>\n",
       "      <td>1580.00</td>\n",
       "      <td>1639.50</td>\n",
       "      <td>1565.50</td>\n",
       "      <td>1595.65</td>\n",
       "    </tr>\n",
       "  </tbody>\n",
       "</table>\n",
       "</div>"
      ],
      "text/plain": [
       "               Open     High      Low    Close\n",
       "Date                                          \n",
       "2013-01-01  1410.60  1427.90  1408.30  1415.10\n",
       "2013-01-02  1421.00  1626.60  1416.15  1607.40\n",
       "2013-01-03  1632.55  1673.90  1613.05  1626.20\n",
       "2013-01-04  1627.75  1627.75  1574.60  1579.05\n",
       "2013-01-07  1580.00  1639.50  1565.50  1595.65"
      ]
     },
     "execution_count": 8,
     "metadata": {},
     "output_type": "execute_result"
    }
   ],
   "source": [
    "df = df\n",
    "df.head()"
   ]
  },
  {
   "cell_type": "code",
   "execution_count": 9,
   "metadata": {
    "execution": {
     "iopub.execute_input": "2020-12-11T05:22:57.251170Z",
     "iopub.status.busy": "2020-12-11T05:22:57.250444Z",
     "iopub.status.idle": "2020-12-11T05:22:57.254156Z",
     "shell.execute_reply": "2020-12-11T05:22:57.253571Z"
    },
    "papermill": {
     "duration": 0.047548,
     "end_time": "2020-12-11T05:22:57.254246",
     "exception": false,
     "start_time": "2020-12-11T05:22:57.206698",
     "status": "completed"
    },
    "tags": []
   },
   "outputs": [
    {
     "data": {
      "text/plain": [
       "Open     0\n",
       "High     0\n",
       "Low      0\n",
       "Close    0\n",
       "dtype: int64"
      ]
     },
     "execution_count": 9,
     "metadata": {},
     "output_type": "execute_result"
    }
   ],
   "source": [
    "# check for null or missing values\n",
    "df.isna().sum()"
   ]
  },
  {
   "cell_type": "markdown",
   "metadata": {
    "papermill": {
     "duration": 0.040432,
     "end_time": "2020-12-11T05:22:57.334219",
     "exception": false,
     "start_time": "2020-12-11T05:22:57.293787",
     "status": "completed"
    },
    "tags": []
   },
   "source": [
    "Cool, so we do not have any null values in the dataset."
   ]
  },
  {
   "cell_type": "code",
   "execution_count": 10,
   "metadata": {
    "execution": {
     "iopub.execute_input": "2020-12-11T05:22:57.419561Z",
     "iopub.status.busy": "2020-12-11T05:22:57.418715Z",
     "iopub.status.idle": "2020-12-11T05:22:57.422566Z",
     "shell.execute_reply": "2020-12-11T05:22:57.421957Z"
    },
    "papermill": {
     "duration": 0.04824,
     "end_time": "2020-12-11T05:22:57.422655",
     "exception": false,
     "start_time": "2020-12-11T05:22:57.374415",
     "status": "completed"
    },
    "tags": []
   },
   "outputs": [
    {
     "data": {
      "text/plain": [
       "2225"
      ]
     },
     "execution_count": 10,
     "metadata": {},
     "output_type": "execute_result"
    }
   ],
   "source": [
    "# the number of instances\n",
    "len(df)"
   ]
  },
  {
   "cell_type": "code",
   "execution_count": 12,
   "metadata": {
    "execution": {
     "iopub.execute_input": "2020-12-11T05:22:57.516610Z",
     "iopub.status.busy": "2020-12-11T05:22:57.515895Z",
     "iopub.status.idle": "2020-12-11T05:22:57.519078Z",
     "shell.execute_reply": "2020-12-11T05:22:57.519591Z"
    },
    "papermill": {
     "duration": 0.056047,
     "end_time": "2020-12-11T05:22:57.519706",
     "exception": false,
     "start_time": "2020-12-11T05:22:57.463659",
     "status": "completed"
    },
    "tags": []
   },
   "outputs": [
    {
     "name": "stdout",
     "output_type": "stream",
     "text": [
      "<class 'pandas.core.frame.DataFrame'>\n",
      "DatetimeIndex: 2225 entries, 2013-01-01 to 2021-12-28\n",
      "Data columns (total 4 columns):\n",
      " #   Column  Non-Null Count  Dtype  \n",
      "---  ------  --------------  -----  \n",
      " 0   Open    2225 non-null   float64\n",
      " 1   High    2225 non-null   float64\n",
      " 2   Low     2225 non-null   float64\n",
      " 3   Close   2225 non-null   float64\n",
      "dtypes: float64(4)\n",
      "memory usage: 166.9 KB\n"
     ]
    }
   ],
   "source": [
    "df.info()"
   ]
  },
  {
   "cell_type": "markdown",
   "metadata": {
    "papermill": {
     "duration": 0.041607,
     "end_time": "2020-12-11T05:22:57.602703",
     "exception": false,
     "start_time": "2020-12-11T05:22:57.561096",
     "status": "completed"
    },
    "tags": []
   },
   "source": [
    "The datatype of the two features is also fine. All hygiene checks done. we will test for stationarity using the augmented dikcey fuller test."
   ]
  },
  {
   "cell_type": "markdown",
   "metadata": {
    "papermill": {
     "duration": 0.042965,
     "end_time": "2020-12-11T05:22:57.688494",
     "exception": false,
     "start_time": "2020-12-11T05:22:57.645529",
     "status": "completed"
    },
    "tags": []
   },
   "source": [
    "## Plot the source data"
   ]
  },
  {
   "cell_type": "code",
   "execution_count": 16,
   "metadata": {
    "execution": {
     "iopub.execute_input": "2020-12-11T05:22:57.780800Z",
     "iopub.status.busy": "2020-12-11T05:22:57.779916Z",
     "iopub.status.idle": "2020-12-11T05:22:58.068335Z",
     "shell.execute_reply": "2020-12-11T05:22:58.067788Z"
    },
    "papermill": {
     "duration": 0.336603,
     "end_time": "2020-12-11T05:22:58.068456",
     "exception": false,
     "start_time": "2020-12-11T05:22:57.731853",
     "status": "completed"
    },
    "tags": []
   },
   "outputs": [
    {
     "data": {
      "image/png": "[encoded data removed]",
      "text/plain": [
       "<Figure size 864x360 with 1 Axes>"
      ]
     },
     "metadata": {
      "needs_background": "light"
     },
     "output_type": "display_data"
    }
   ],
   "source": [
    "title = 'M2 Money Stock vs Personal Consumption Expenditures'\n",
    "ylabel = 'Billions of Dollars'\n",
    "xlabel='' #xlabel is not required. The datetime indes will be taken as the points on the x axis\n",
    "\n",
    "ax = df['High'].plot(legend=True,title=title)\n",
    "ax.autoscale(axis='x',tight=True)\n",
    "ax.set(xlabel=xlabel,ylabel=ylabel)\n",
    "df['Low'].plot(legend=True);"
   ]
  },
  {
   "cell_type": "code",
   "execution_count": 14,
   "metadata": {
    "execution": {
     "iopub.execute_input": "2020-12-11T05:22:58.183750Z",
     "iopub.status.busy": "2020-12-11T05:22:58.182849Z",
     "iopub.status.idle": "2020-12-11T05:22:58.186132Z",
     "shell.execute_reply": "2020-12-11T05:22:58.185577Z"
    },
    "papermill": {
     "duration": 0.0691,
     "end_time": "2020-12-11T05:22:58.186300",
     "exception": false,
     "start_time": "2020-12-11T05:22:58.117200",
     "status": "completed"
    },
    "tags": []
   },
   "outputs": [],
   "source": [
    "def dickey_fuller(series,title='Your Dataset'):\n",
    "    '''Hypothesis Test for stationarity '''\n",
    "    print(f'Augmented Dickey Fuller Test for the dataset {title}')\n",
    "    \n",
    "    result = adfuller(series.dropna(),autolag='AIC')\n",
    "    labels = ['ADF test statistics','p-value','#lags','#observations'] # use help(adfuller) to understand why these labels are chosen\n",
    "    \n",
    "    outcome = pd.Series(result[0:4],index=labels)\n",
    "    \n",
    "    for key,val in result[4].items():\n",
    "        outcome[f'critical value ({key})'] = val\n",
    "        \n",
    "    print(outcome.to_string()) # this will not print the line 'dtype:float64'\n",
    "    \n",
    "    if result[1] <= 0.05:\n",
    "        print('Strong evidence against the null hypothesis') # Ho is Data is not stationary, check help(adfuller)\n",
    "        print('Reject the null hypothesis')\n",
    "        print('Data is Stationary')\n",
    "    else:\n",
    "        print('Weak evidence against the Null hypothesis')\n",
    "        print('Fail to reject the null hypothesis')\n",
    "        print('Data has a unit root and is non stationary')\n",
    "        \n",
    "    \n",
    "    \n",
    "    "
   ]
  },
  {
   "cell_type": "code",
   "execution_count": 18,
   "metadata": {
    "execution": {
     "iopub.execute_input": "2020-12-11T05:22:58.292592Z",
     "iopub.status.busy": "2020-12-11T05:22:58.291784Z",
     "iopub.status.idle": "2020-12-11T05:22:58.365465Z",
     "shell.execute_reply": "2020-12-11T05:22:58.366629Z"
    },
    "papermill": {
     "duration": 0.125643,
     "end_time": "2020-12-11T05:22:58.366865",
     "exception": false,
     "start_time": "2020-12-11T05:22:58.241222",
     "status": "completed"
    },
    "tags": []
   },
   "outputs": [
    {
     "name": "stdout",
     "output_type": "stream",
     "text": [
      "Augmented Dickey Fuller Test for the dataset High\n",
      "ADF test statistics       -2.462481\n",
      "p-value                    0.124872\n",
      "#lags                      0.000000\n",
      "#observations           2224.000000\n",
      "critical value (1%)       -3.433294\n",
      "critical value (5%)       -2.862840\n",
      "critical value (10%)      -2.567462\n",
      "Weak evidence against the Null hypothesis\n",
      "Fail to reject the null hypothesis\n",
      "Data has a unit root and is non stationary\n"
     ]
    }
   ],
   "source": [
    "dickey_fuller(df['High'],title='High')"
   ]
  },
  {
   "cell_type": "code",
   "execution_count": 19,
   "metadata": {
    "execution": {
     "iopub.execute_input": "2020-12-11T05:22:58.501350Z",
     "iopub.status.busy": "2020-12-11T05:22:58.500470Z",
     "iopub.status.idle": "2020-12-11T05:22:58.607042Z",
     "shell.execute_reply": "2020-12-11T05:22:58.607714Z"
    },
    "papermill": {
     "duration": 0.176147,
     "end_time": "2020-12-11T05:22:58.607889",
     "exception": false,
     "start_time": "2020-12-11T05:22:58.431742",
     "status": "completed"
    },
    "tags": []
   },
   "outputs": [
    {
     "name": "stdout",
     "output_type": "stream",
     "text": [
      "Augmented Dickey Fuller Test for the dataset Low\n",
      "ADF test statistics       -3.055296\n",
      "p-value                    0.030043\n",
      "#lags                      2.000000\n",
      "#observations           2222.000000\n",
      "critical value (1%)       -3.433296\n",
      "critical value (5%)       -2.862842\n",
      "critical value (10%)      -2.567463\n",
      "Strong evidence against the null hypothesis\n",
      "Reject the null hypothesis\n",
      "Data is Stationary\n"
     ]
    }
   ],
   "source": [
    "dickey_fuller(df['Low'],title='Low')"
   ]
  },
  {
   "cell_type": "markdown",
   "metadata": {
    "papermill": {
     "duration": 0.05221,
     "end_time": "2020-12-11T05:22:58.717035",
     "exception": false,
     "start_time": "2020-12-11T05:22:58.664825",
     "status": "completed"
    },
    "tags": []
   },
   "source": [
    "So both the Money and the Spending is non stationary. We will take the first order difference of the entire dataframe and re-run the dickey fuller test and store it in a separate dataframe so that the original dataframe is retained. "
   ]
  },
  {
   "cell_type": "code",
   "execution_count": 20,
   "metadata": {
    "execution": {
     "iopub.execute_input": "2020-12-11T05:22:58.808814Z",
     "iopub.status.busy": "2020-12-11T05:22:58.807801Z",
     "iopub.status.idle": "2020-12-11T05:22:58.810859Z",
     "shell.execute_reply": "2020-12-11T05:22:58.810188Z"
    },
    "papermill": {
     "duration": 0.05052,
     "end_time": "2020-12-11T05:22:58.810959",
     "exception": false,
     "start_time": "2020-12-11T05:22:58.760439",
     "status": "completed"
    },
    "tags": []
   },
   "outputs": [],
   "source": [
    "df_diff = df.diff() # by default, diff performs the first order difference"
   ]
  },
  {
   "cell_type": "code",
   "execution_count": 21,
   "metadata": {
    "execution": {
     "iopub.execute_input": "2020-12-11T05:22:58.907079Z",
     "iopub.status.busy": "2020-12-11T05:22:58.906289Z",
     "iopub.status.idle": "2020-12-11T05:22:58.910317Z",
     "shell.execute_reply": "2020-12-11T05:22:58.909819Z"
    },
    "papermill": {
     "duration": 0.056329,
     "end_time": "2020-12-11T05:22:58.910415",
     "exception": false,
     "start_time": "2020-12-11T05:22:58.854086",
     "status": "completed"
    },
    "tags": []
   },
   "outputs": [
    {
     "data": {
      "text/html": [
       "<div>\n",
       "<style scoped>\n",
       "    .dataframe tbody tr th:only-of-type {\n",
       "        vertical-align: middle;\n",
       "    }\n",
       "\n",
       "    .dataframe tbody tr th {\n",
       "        vertical-align: top;\n",
       "    }\n",
       "\n",
       "    .dataframe thead th {\n",
       "        text-align: right;\n",
       "    }\n",
       "</style>\n",
       "<table border=\"1\" class=\"dataframe\">\n",
       "  <thead>\n",
       "    <tr style=\"text-align: right;\">\n",
       "      <th></th>\n",
       "      <th>Open</th>\n",
       "      <th>High</th>\n",
       "      <th>Low</th>\n",
       "      <th>Close</th>\n",
       "    </tr>\n",
       "    <tr>\n",
       "      <th>Date</th>\n",
       "      <th></th>\n",
       "      <th></th>\n",
       "      <th></th>\n",
       "      <th></th>\n",
       "    </tr>\n",
       "  </thead>\n",
       "  <tbody>\n",
       "    <tr>\n",
       "      <th>2013-01-01</th>\n",
       "      <td>NaN</td>\n",
       "      <td>NaN</td>\n",
       "      <td>NaN</td>\n",
       "      <td>NaN</td>\n",
       "    </tr>\n",
       "    <tr>\n",
       "      <th>2013-01-02</th>\n",
       "      <td>10.40</td>\n",
       "      <td>198.70</td>\n",
       "      <td>7.85</td>\n",
       "      <td>192.30</td>\n",
       "    </tr>\n",
       "    <tr>\n",
       "      <th>2013-01-03</th>\n",
       "      <td>211.55</td>\n",
       "      <td>47.30</td>\n",
       "      <td>196.90</td>\n",
       "      <td>18.80</td>\n",
       "    </tr>\n",
       "    <tr>\n",
       "      <th>2013-01-04</th>\n",
       "      <td>-4.80</td>\n",
       "      <td>-46.15</td>\n",
       "      <td>-38.45</td>\n",
       "      <td>-47.15</td>\n",
       "    </tr>\n",
       "    <tr>\n",
       "      <th>2013-01-07</th>\n",
       "      <td>-47.75</td>\n",
       "      <td>11.75</td>\n",
       "      <td>-9.10</td>\n",
       "      <td>16.60</td>\n",
       "    </tr>\n",
       "  </tbody>\n",
       "</table>\n",
       "</div>"
      ],
      "text/plain": [
       "              Open    High     Low   Close\n",
       "Date                                      \n",
       "2013-01-01     NaN     NaN     NaN     NaN\n",
       "2013-01-02   10.40  198.70    7.85  192.30\n",
       "2013-01-03  211.55   47.30  196.90   18.80\n",
       "2013-01-04   -4.80  -46.15  -38.45  -47.15\n",
       "2013-01-07  -47.75   11.75   -9.10   16.60"
      ]
     },
     "execution_count": 21,
     "metadata": {},
     "output_type": "execute_result"
    }
   ],
   "source": [
    "df_diff.head()"
   ]
  },
  {
   "cell_type": "markdown",
   "metadata": {
    "papermill": {
     "duration": 0.045288,
     "end_time": "2020-12-11T05:22:58.999328",
     "exception": false,
     "start_time": "2020-12-11T05:22:58.954040",
     "status": "completed"
    },
    "tags": []
   },
   "source": [
    "There is NaN introduced due to the first order difference. So lets drop this missing value row."
   ]
  },
  {
   "cell_type": "code",
   "execution_count": 24,
   "metadata": {
    "execution": {
     "iopub.execute_input": "2020-12-11T05:22:59.094961Z",
     "iopub.status.busy": "2020-12-11T05:22:59.094282Z",
     "iopub.status.idle": "2020-12-11T05:22:59.114079Z",
     "shell.execute_reply": "2020-12-11T05:22:59.113557Z"
    },
    "papermill": {
     "duration": 0.06903,
     "end_time": "2020-12-11T05:22:59.114203",
     "exception": false,
     "start_time": "2020-12-11T05:22:59.045173",
     "status": "completed"
    },
    "tags": []
   },
   "outputs": [],
   "source": [
    "df_diff = df_diff.dropna()"
   ]
  },
  {
   "cell_type": "code",
   "execution_count": 25,
   "metadata": {
    "execution": {
     "iopub.execute_input": "2020-12-11T05:22:59.209285Z",
     "iopub.status.busy": "2020-12-11T05:22:59.208702Z",
     "iopub.status.idle": "2020-12-11T05:22:59.231917Z",
     "shell.execute_reply": "2020-12-11T05:22:59.232449Z"
    },
    "papermill": {
     "duration": 0.07416,
     "end_time": "2020-12-11T05:22:59.232584",
     "exception": false,
     "start_time": "2020-12-11T05:22:59.158424",
     "status": "completed"
    },
    "tags": []
   },
   "outputs": [
    {
     "name": "stdout",
     "output_type": "stream",
     "text": [
      "Augmented Dickey Fuller Test for the dataset Low\n",
      "ADF test statistics      -47.493742\n",
      "p-value                    0.000000\n",
      "#lags                      0.000000\n",
      "#observations           2223.000000\n",
      "critical value (1%)       -3.433295\n",
      "critical value (5%)       -2.862841\n",
      "critical value (10%)      -2.567463\n",
      "Strong evidence against the null hypothesis\n",
      "Reject the null hypothesis\n",
      "Data is Stationary\n"
     ]
    }
   ],
   "source": [
    "dickey_fuller(df_diff['High'],title='Low')"
   ]
  },
  {
   "cell_type": "code",
   "execution_count": 26,
   "metadata": {
    "execution": {
     "iopub.execute_input": "2020-12-11T05:22:59.330053Z",
     "iopub.status.busy": "2020-12-11T05:22:59.329500Z",
     "iopub.status.idle": "2020-12-11T05:22:59.349123Z",
     "shell.execute_reply": "2020-12-11T05:22:59.348439Z"
    },
    "papermill": {
     "duration": 0.069246,
     "end_time": "2020-12-11T05:22:59.349243",
     "exception": false,
     "start_time": "2020-12-11T05:22:59.279997",
     "status": "completed"
    },
    "tags": []
   },
   "outputs": [
    {
     "name": "stdout",
     "output_type": "stream",
     "text": [
      "Augmented Dickey Fuller Test for the dataset Close\n",
      "ADF test statistics      -49.233920\n",
      "p-value                    0.000000\n",
      "#lags                      0.000000\n",
      "#observations           2223.000000\n",
      "critical value (1%)       -3.433295\n",
      "critical value (5%)       -2.862841\n",
      "critical value (10%)      -2.567463\n",
      "Strong evidence against the null hypothesis\n",
      "Reject the null hypothesis\n",
      "Data is Stationary\n"
     ]
    }
   ],
   "source": [
    "dickey_fuller(df_diff['Open'],title='Close')"
   ]
  },
  {
   "cell_type": "markdown",
   "metadata": {
    "papermill": {
     "duration": 0.046652,
     "end_time": "2020-12-11T05:22:59.442543",
     "exception": false,
     "start_time": "2020-12-11T05:22:59.395891",
     "status": "completed"
    },
    "tags": []
   },
   "source": [
    "Money feature is still not stationary while Spending is stationary after the first order difference. I will take the second order difference of both the series so that they retain the same shape. Rerun the dickey fuller test for stationarity."
   ]
  },
  {
   "cell_type": "code",
   "execution_count": 27,
   "metadata": {
    "execution": {
     "iopub.execute_input": "2020-12-11T05:22:59.547041Z",
     "iopub.status.busy": "2020-12-11T05:22:59.546409Z",
     "iopub.status.idle": "2020-12-11T05:22:59.565680Z",
     "shell.execute_reply": "2020-12-11T05:22:59.566298Z"
    },
    "papermill": {
     "duration": 0.074752,
     "end_time": "2020-12-11T05:22:59.566455",
     "exception": false,
     "start_time": "2020-12-11T05:22:59.491703",
     "status": "completed"
    },
    "tags": []
   },
   "outputs": [
    {
     "name": "stdout",
     "output_type": "stream",
     "text": [
      "Augmented Dickey Fuller Test for the dataset Date\n",
      "ADF test statistics    -1.511403e+01\n",
      "p-value                 7.624128e-28\n",
      "#lags                   2.700000e+01\n",
      "#observations           2.195000e+03\n",
      "critical value (1%)    -3.433333e+00\n",
      "critical value (5%)    -2.862858e+00\n",
      "critical value (10%)   -2.567471e+00\n",
      "Strong evidence against the null hypothesis\n",
      "Reject the null hypothesis\n",
      "Data is Stationary\n"
     ]
    }
   ],
   "source": [
    "df_diff = df_diff.diff().dropna()\n",
    "dickey_fuller(df_diff['Open'],title='Date')"
   ]
  },
  {
   "cell_type": "code",
   "execution_count": 28,
   "metadata": {
    "execution": {
     "iopub.execute_input": "2020-12-11T05:22:59.665992Z",
     "iopub.status.busy": "2020-12-11T05:22:59.665392Z",
     "iopub.status.idle": "2020-12-11T05:22:59.684885Z",
     "shell.execute_reply": "2020-12-11T05:22:59.684196Z"
    },
    "papermill": {
     "duration": 0.071095,
     "end_time": "2020-12-11T05:22:59.684991",
     "exception": false,
     "start_time": "2020-12-11T05:22:59.613896",
     "status": "completed"
    },
    "tags": []
   },
   "outputs": [
    {
     "name": "stdout",
     "output_type": "stream",
     "text": [
      "Augmented Dickey Fuller Test for the dataset Date\n",
      "ADF test statistics    -1.519609e+01\n",
      "p-value                 5.917871e-28\n",
      "#lags                   2.700000e+01\n",
      "#observations           2.195000e+03\n",
      "critical value (1%)    -3.433333e+00\n",
      "critical value (5%)    -2.862858e+00\n",
      "critical value (10%)   -2.567471e+00\n",
      "Strong evidence against the null hypothesis\n",
      "Reject the null hypothesis\n",
      "Data is Stationary\n"
     ]
    }
   ],
   "source": [
    "dickey_fuller(df_diff['Close'],title='Date')"
   ]
  },
  {
   "cell_type": "markdown",
   "metadata": {
    "papermill": {
     "duration": 0.047358,
     "end_time": "2020-12-11T05:22:59.780707",
     "exception": false,
     "start_time": "2020-12-11T05:22:59.733349",
     "status": "completed"
    },
    "tags": []
   },
   "source": [
    "Now, both the correlated features - Money and Spending are stationary. Hence we are good to go with the remaining steps of training, test predictions and finally forecasting into the future."
   ]
  },
  {
   "cell_type": "code",
   "execution_count": 29,
   "metadata": {
    "execution": {
     "iopub.execute_input": "2020-12-11T05:22:59.885274Z",
     "iopub.status.busy": "2020-12-11T05:22:59.884404Z",
     "iopub.status.idle": "2020-12-11T05:22:59.888227Z",
     "shell.execute_reply": "2020-12-11T05:22:59.888736Z"
    },
    "papermill": {
     "duration": 0.060099,
     "end_time": "2020-12-11T05:22:59.888849",
     "exception": false,
     "start_time": "2020-12-11T05:22:59.828750",
     "status": "completed"
    },
    "tags": []
   },
   "outputs": [
    {
     "data": {
      "text/html": [
       "<div>\n",
       "<style scoped>\n",
       "    .dataframe tbody tr th:only-of-type {\n",
       "        vertical-align: middle;\n",
       "    }\n",
       "\n",
       "    .dataframe tbody tr th {\n",
       "        vertical-align: top;\n",
       "    }\n",
       "\n",
       "    .dataframe thead th {\n",
       "        text-align: right;\n",
       "    }\n",
       "</style>\n",
       "<table border=\"1\" class=\"dataframe\">\n",
       "  <thead>\n",
       "    <tr style=\"text-align: right;\">\n",
       "      <th></th>\n",
       "      <th>Open</th>\n",
       "      <th>High</th>\n",
       "      <th>Low</th>\n",
       "      <th>Close</th>\n",
       "    </tr>\n",
       "    <tr>\n",
       "      <th>Date</th>\n",
       "      <th></th>\n",
       "      <th></th>\n",
       "      <th></th>\n",
       "      <th></th>\n",
       "    </tr>\n",
       "  </thead>\n",
       "  <tbody>\n",
       "    <tr>\n",
       "      <th>2013-01-03</th>\n",
       "      <td>201.15</td>\n",
       "      <td>-151.40</td>\n",
       "      <td>189.05</td>\n",
       "      <td>-173.50</td>\n",
       "    </tr>\n",
       "    <tr>\n",
       "      <th>2013-01-04</th>\n",
       "      <td>-216.35</td>\n",
       "      <td>-93.45</td>\n",
       "      <td>-235.35</td>\n",
       "      <td>-65.95</td>\n",
       "    </tr>\n",
       "    <tr>\n",
       "      <th>2013-01-07</th>\n",
       "      <td>-42.95</td>\n",
       "      <td>57.90</td>\n",
       "      <td>29.35</td>\n",
       "      <td>63.75</td>\n",
       "    </tr>\n",
       "    <tr>\n",
       "      <th>2013-01-08</th>\n",
       "      <td>67.75</td>\n",
       "      <td>4.75</td>\n",
       "      <td>36.40</td>\n",
       "      <td>12.95</td>\n",
       "    </tr>\n",
       "    <tr>\n",
       "      <th>2013-01-09</th>\n",
       "      <td>13.10</td>\n",
       "      <td>-36.80</td>\n",
       "      <td>-24.55</td>\n",
       "      <td>-51.80</td>\n",
       "    </tr>\n",
       "  </tbody>\n",
       "</table>\n",
       "</div>"
      ],
      "text/plain": [
       "              Open    High     Low   Close\n",
       "Date                                      \n",
       "2013-01-03  201.15 -151.40  189.05 -173.50\n",
       "2013-01-04 -216.35  -93.45 -235.35  -65.95\n",
       "2013-01-07  -42.95   57.90   29.35   63.75\n",
       "2013-01-08   67.75    4.75   36.40   12.95\n",
       "2013-01-09   13.10  -36.80  -24.55  -51.80"
      ]
     },
     "execution_count": 29,
     "metadata": {},
     "output_type": "execute_result"
    }
   ],
   "source": [
    "df_diff.head()"
   ]
  },
  {
   "cell_type": "code",
   "execution_count": 30,
   "metadata": {
    "execution": {
     "iopub.execute_input": "2020-12-11T05:22:59.987444Z",
     "iopub.status.busy": "2020-12-11T05:22:59.986773Z",
     "iopub.status.idle": "2020-12-11T05:22:59.990805Z",
     "shell.execute_reply": "2020-12-11T05:22:59.990298Z"
    },
    "papermill": {
     "duration": 0.053958,
     "end_time": "2020-12-11T05:22:59.990898",
     "exception": false,
     "start_time": "2020-12-11T05:22:59.936940",
     "status": "completed"
    },
    "tags": []
   },
   "outputs": [
    {
     "data": {
      "text/plain": [
       "2223"
      ]
     },
     "execution_count": 30,
     "metadata": {},
     "output_type": "execute_result"
    }
   ],
   "source": [
    "# check the length of the transformed df -- > should be 2 rows lesser than the original\n",
    "len(df_diff)"
   ]
  },
  {
   "cell_type": "markdown",
   "metadata": {
    "papermill": {
     "duration": 0.048033,
     "end_time": "2020-12-11T05:23:00.087651",
     "exception": false,
     "start_time": "2020-12-11T05:23:00.039618",
     "status": "completed"
    },
    "tags": []
   },
   "source": [
    "## Train Test Split\n"
   ]
  },
  {
   "cell_type": "code",
   "execution_count": 31,
   "metadata": {
    "execution": {
     "iopub.execute_input": "2020-12-11T05:23:00.193851Z",
     "iopub.status.busy": "2020-12-11T05:23:00.193075Z",
     "iopub.status.idle": "2020-12-11T05:23:00.195846Z",
     "shell.execute_reply": "2020-12-11T05:23:00.195217Z"
    },
    "papermill": {
     "duration": 0.058098,
     "end_time": "2020-12-11T05:23:00.195955",
     "exception": false,
     "start_time": "2020-12-11T05:23:00.137857",
     "status": "completed"
    },
    "tags": []
   },
   "outputs": [],
   "source": [
    "nobs = 12\n",
    "train = df_diff[:-nobs]\n",
    "test = df_diff[-nobs:]"
   ]
  },
  {
   "cell_type": "code",
   "execution_count": 32,
   "metadata": {
    "execution": {
     "iopub.execute_input": "2020-12-11T05:23:00.320899Z",
     "iopub.status.busy": "2020-12-11T05:23:00.320022Z",
     "iopub.status.idle": "2020-12-11T05:23:00.324918Z",
     "shell.execute_reply": "2020-12-11T05:23:00.324439Z"
    },
    "papermill": {
     "duration": 0.071795,
     "end_time": "2020-12-11T05:23:00.325018",
     "exception": false,
     "start_time": "2020-12-11T05:23:00.253223",
     "status": "completed"
    },
    "tags": []
   },
   "outputs": [
    {
     "data": {
      "text/plain": [
       "(2211, 12)"
      ]
     },
     "execution_count": 32,
     "metadata": {},
     "output_type": "execute_result"
    }
   ],
   "source": [
    "len(train), len(test)"
   ]
  },
  {
   "cell_type": "markdown",
   "metadata": {
    "papermill": {
     "duration": 0.047418,
     "end_time": "2020-12-11T05:23:00.426007",
     "exception": false,
     "start_time": "2020-12-11T05:23:00.378589",
     "status": "completed"
    },
    "tags": []
   },
   "source": [
    "## VAR Model Order Selection \n",
    "VAR(p) of order p\n",
    "\n",
    "So far in my other notebooks on time series on ARIMA and SARIMA, I used the auto_arima from pmdarima library. That method won't work here to determine the order of the VAR model. I will test this manually with a list of order p values and select the p value which returns the minimum AIC or BIC metric. Check Akaike Information Criterion and Bayesian Information Criterion for more details."
   ]
  },
  {
   "cell_type": "code",
   "execution_count": 33,
   "metadata": {
    "execution": {
     "iopub.execute_input": "2020-12-11T05:23:00.535650Z",
     "iopub.status.busy": "2020-12-11T05:23:00.534843Z",
     "iopub.status.idle": "2020-12-11T05:23:00.577982Z",
     "shell.execute_reply": "2020-12-11T05:23:00.577360Z"
    },
    "papermill": {
     "duration": 0.103467,
     "end_time": "2020-12-11T05:23:00.578082",
     "exception": false,
     "start_time": "2020-12-11T05:23:00.474615",
     "status": "completed"
    },
    "tags": []
   },
   "outputs": [
    {
     "name": "stdout",
     "output_type": "stream",
     "text": [
      "VAR Order 1\n",
      "AIC 20.987776708902377\n",
      "BIC 21.039367186680764\n",
      "\n",
      "VAR Order 2\n",
      "AIC 19.967351222319028\n",
      "BIC 20.060248744873633\n",
      "\n",
      "VAR Order 3\n",
      "AIC 19.4310142265207\n",
      "BIC 19.56524964553548\n",
      "\n",
      "VAR Order 4\n",
      "AIC 19.088152734764158\n",
      "BIC 19.263756939397354\n",
      "\n",
      "VAR Order 5\n",
      "AIC 18.737559143047356\n",
      "BIC 18.954563059994015\n",
      "\n",
      "VAR Order 6\n",
      "AIC 18.44705720588393\n",
      "BIC 18.70549179943862\n",
      "\n",
      "VAR Order 7\n",
      "AIC 18.306654877365727\n",
      "BIC 18.606551149485348\n",
      "\n"
     ]
    }
   ],
   "source": [
    "p = [1,2,3,4,5,6,7]  # try with list of 7 p values\n",
    "\n",
    "for i in p:\n",
    "    model = VAR(train)\n",
    "    results = model.fit(i)\n",
    "    print(f'VAR Order {i}')\n",
    "    print('AIC {}'.format(results.aic))\n",
    "    print('BIC {}'.format(results.bic))\n",
    "    print()"
   ]
  },
  {
   "cell_type": "markdown",
   "metadata": {
    "papermill": {
     "duration": 0.050441,
     "end_time": "2020-12-11T05:23:00.680458",
     "exception": false,
     "start_time": "2020-12-11T05:23:00.630017",
     "status": "completed"
    },
    "tags": []
   },
   "source": [
    "Order 5 has the least AIC value. Lets select p = 5 in the modeling."
   ]
  },
  {
   "cell_type": "code",
   "execution_count": 34,
   "metadata": {
    "execution": {
     "iopub.execute_input": "2020-12-11T05:23:00.787427Z",
     "iopub.status.busy": "2020-12-11T05:23:00.786624Z",
     "iopub.status.idle": "2020-12-11T05:23:00.790246Z",
     "shell.execute_reply": "2020-12-11T05:23:00.790754Z"
    },
    "papermill": {
     "duration": 0.059485,
     "end_time": "2020-12-11T05:23:00.790877",
     "exception": false,
     "start_time": "2020-12-11T05:23:00.731392",
     "status": "completed"
    },
    "tags": []
   },
   "outputs": [
    {
     "data": {
      "text/plain": [
       "['Open', 'High', 'Low', 'Close']"
      ]
     },
     "execution_count": 34,
     "metadata": {},
     "output_type": "execute_result"
    }
   ],
   "source": [
    "# lets confirm that both the variables are included in the model\n",
    "model.endog_names"
   ]
  },
  {
   "cell_type": "markdown",
   "metadata": {
    "papermill": {
     "duration": 0.052572,
     "end_time": "2020-12-11T05:23:00.894914",
     "exception": false,
     "start_time": "2020-12-11T05:23:00.842342",
     "status": "completed"
    },
    "tags": []
   },
   "source": [
    "## Fit the VAR(5) model"
   ]
  },
  {
   "cell_type": "code",
   "execution_count": 35,
   "metadata": {
    "execution": {
     "iopub.execute_input": "2020-12-11T05:23:01.004034Z",
     "iopub.status.busy": "2020-12-11T05:23:01.003222Z",
     "iopub.status.idle": "2020-12-11T05:23:01.031877Z",
     "shell.execute_reply": "2020-12-11T05:23:01.031305Z"
    },
    "papermill": {
     "duration": 0.085582,
     "end_time": "2020-12-11T05:23:01.031973",
     "exception": false,
     "start_time": "2020-12-11T05:23:00.946391",
     "status": "completed"
    },
    "tags": []
   },
   "outputs": [
    {
     "data": {
      "text/plain": [
       "  Summary of Regression Results   \n",
       "==================================\n",
       "Model:                         VAR\n",
       "Method:                        OLS\n",
       "Date:           Thu, 07, Apr, 2022\n",
       "Time:                     13:09:34\n",
       "--------------------------------------------------------------------\n",
       "No. of Equations:         4.00000    BIC:                    18.9546\n",
       "Nobs:                     2206.00    HQIC:                   18.8168\n",
       "Log likelihood:          -33104.2    FPE:                1.37284e+08\n",
       "AIC:                      18.7376    Det(Omega_mle):     1.32178e+08\n",
       "--------------------------------------------------------------------\n",
       "Results for equation Open\n",
       "===========================================================================\n",
       "              coefficient       std. error           t-stat            prob\n",
       "---------------------------------------------------------------------------\n",
       "const           -0.036833         0.481875           -0.076           0.939\n",
       "L1.Open         -1.312833         0.066743          -19.670           0.000\n",
       "L1.High         -0.679604         0.076630           -8.869           0.000\n",
       "L1.Low          -0.091139         0.084807           -1.075           0.283\n",
       "L1.Close         1.367444         0.092388           14.801           0.000\n",
       "L2.Open         -1.258798         0.108269          -11.627           0.000\n",
       "L2.High         -0.888842         0.122787           -7.239           0.000\n",
       "L2.Low          -0.087737         0.136710           -0.642           0.521\n",
       "L2.Close         1.758728         0.157122           11.193           0.000\n",
       "L3.Open         -0.847171         0.122836           -6.897           0.000\n",
       "L3.High         -0.990719         0.139417           -7.106           0.000\n",
       "L3.Low          -0.074348         0.153902           -0.483           0.629\n",
       "L3.Close         1.625089         0.180165            9.020           0.000\n",
       "L4.Open         -0.387680         0.107315           -3.613           0.000\n",
       "L4.High         -0.834403         0.123252           -6.770           0.000\n",
       "L4.Low          -0.043320         0.134685           -0.322           0.748\n",
       "L4.Close         1.122640         0.157517            7.127           0.000\n",
       "L5.Open         -0.107926         0.065318           -1.652           0.098\n",
       "L5.High         -0.373246         0.077439           -4.820           0.000\n",
       "L5.Low           0.035184         0.080952            0.435           0.664\n",
       "L5.Close         0.400396         0.094351            4.244           0.000\n",
       "===========================================================================\n",
       "\n",
       "Results for equation High\n",
       "===========================================================================\n",
       "              coefficient       std. error           t-stat            prob\n",
       "---------------------------------------------------------------------------\n",
       "const           -0.001510         0.493148           -0.003           0.998\n",
       "L1.Open          0.106212         0.068305            1.555           0.120\n",
       "L1.High         -1.760026         0.078422          -22.443           0.000\n",
       "L1.Low          -0.171228         0.086791           -1.973           0.049\n",
       "L1.Close         1.063282         0.094549           11.246           0.000\n",
       "L2.Open          0.128956         0.110802            1.164           0.244\n",
       "L2.High         -1.800717         0.125659          -14.330           0.000\n",
       "L2.Low          -0.221766         0.139909           -1.585           0.113\n",
       "L2.Close         1.340504         0.160797            8.337           0.000\n",
       "L3.Open          0.232103         0.125710            1.846           0.065\n",
       "L3.High         -1.648026         0.142678          -11.551           0.000\n",
       "L3.Low          -0.206914         0.157503           -1.314           0.189\n",
       "L3.Close         1.252956         0.184379            6.796           0.000\n",
       "L4.Open          0.196087         0.109825            1.785           0.074\n",
       "L4.High         -1.090234         0.126136           -8.643           0.000\n",
       "L4.Low          -0.065864         0.137836           -0.478           0.633\n",
       "L4.Close         0.734426         0.161202            4.556           0.000\n",
       "L5.Open          0.093278         0.066846            1.395           0.163\n",
       "L5.High         -0.470121         0.079250           -5.932           0.000\n",
       "L5.Low           0.023550         0.082846            0.284           0.776\n",
       "L5.Close         0.262464         0.096558            2.718           0.007\n",
       "===========================================================================\n",
       "\n",
       "Results for equation Low\n",
       "===========================================================================\n",
       "              coefficient       std. error           t-stat            prob\n",
       "---------------------------------------------------------------------------\n",
       "const           -0.038138         0.490841           -0.078           0.938\n",
       "L1.Open         -0.091302         0.067985           -1.343           0.179\n",
       "L1.High         -0.580464         0.078056           -7.437           0.000\n",
       "L1.Low          -1.295103         0.086385          -14.992           0.000\n",
       "L1.Close         1.175138         0.094107           12.487           0.000\n",
       "L2.Open         -0.244128         0.110284           -2.214           0.027\n",
       "L2.High         -0.643692         0.125071           -5.147           0.000\n",
       "L2.Low          -1.166726         0.139254           -8.378           0.000\n",
       "L2.Close         1.451277         0.160045            9.068           0.000\n",
       "L3.Open         -0.269117         0.125122           -2.151           0.031\n",
       "L3.High         -0.649936         0.142011           -4.577           0.000\n",
       "L3.Low          -0.790340         0.156766           -5.042           0.000\n",
       "L3.Close         1.269149         0.183517            6.916           0.000\n",
       "L4.Open         -0.235622         0.109312           -2.156           0.031\n",
       "L4.High         -0.449670         0.125546           -3.582           0.000\n",
       "L4.Low          -0.390471         0.137191           -2.846           0.004\n",
       "L4.Close         0.801405         0.160448            4.995           0.000\n",
       "L5.Open         -0.232580         0.066534           -3.496           0.000\n",
       "L5.High         -0.065293         0.078879           -0.828           0.408\n",
       "L5.Low          -0.010142         0.082458           -0.123           0.902\n",
       "L5.Close         0.171058         0.096107            1.780           0.075\n",
       "===========================================================================\n",
       "\n",
       "Results for equation Close\n",
       "===========================================================================\n",
       "              coefficient       std. error           t-stat            prob\n",
       "---------------------------------------------------------------------------\n",
       "const           -0.009376         0.500597           -0.019           0.985\n",
       "L1.Open         -0.041679         0.069337           -0.601           0.548\n",
       "L1.High         -0.363293         0.079607           -4.564           0.000\n",
       "L1.Low           0.053227         0.088102            0.604           0.546\n",
       "L1.Close        -0.469040         0.095977           -4.887           0.000\n",
       "L2.Open         -0.125330         0.112476           -1.114           0.265\n",
       "L2.High         -0.361112         0.127557           -2.831           0.005\n",
       "L2.Low           0.050886         0.142022            0.358           0.720\n",
       "L2.Close        -0.217107         0.163226           -1.330           0.183\n",
       "L3.Open         -0.109712         0.127609           -0.860           0.390\n",
       "L3.High         -0.449559         0.144834           -3.104           0.002\n",
       "L3.Low           0.115362         0.159882            0.722           0.471\n",
       "L3.Close        -0.042676         0.187164           -0.228           0.820\n",
       "L4.Open         -0.148308         0.111484           -1.330           0.183\n",
       "L4.High         -0.263858         0.128041           -2.061           0.039\n",
       "L4.Low           0.215493         0.139918            1.540           0.124\n",
       "L4.Close        -0.122939         0.163637           -0.751           0.452\n",
       "L5.Open         -0.172711         0.067856           -2.545           0.011\n",
       "L5.High         -0.041229         0.080447           -0.513           0.608\n",
       "L5.Low           0.242588         0.084097            2.885           0.004\n",
       "L5.Close        -0.187364         0.098017           -1.912           0.056\n",
       "===========================================================================\n",
       "\n",
       "Correlation matrix of residuals\n",
       "             Open      High       Low     Close\n",
       "Open     1.000000  0.891133  0.885451  0.819875\n",
       "High     0.891133  1.000000  0.870844  0.920731\n",
       "Low      0.885451  0.870844  1.000000  0.942842\n",
       "Close    0.819875  0.920731  0.942842  1.000000\n",
       "\n"
      ]
     },
     "execution_count": 35,
     "metadata": {},
     "output_type": "execute_result"
    }
   ],
   "source": [
    "results = model.fit(5)\n",
    "results.summary()"
   ]
  },
  {
   "cell_type": "markdown",
   "metadata": {
    "papermill": {
     "duration": 0.050232,
     "end_time": "2020-12-11T05:23:01.134221",
     "exception": false,
     "start_time": "2020-12-11T05:23:01.083989",
     "status": "completed"
    },
    "tags": []
   },
   "source": [
    "Check the correlation matrix printed at the last. "
   ]
  },
  {
   "cell_type": "markdown",
   "metadata": {
    "papermill": {
     "duration": 0.060931,
     "end_time": "2020-12-11T05:23:01.246747",
     "exception": false,
     "start_time": "2020-12-11T05:23:01.185816",
     "status": "completed"
    },
    "tags": []
   },
   "source": [
    "## Predict the next 12 values\n",
    "For predictions, VAR model uses .forecast() instead of predictions. This is similar to theHolt Winters. One of the requirement for VAR model is that we need to pass the lag order of the number of previous observations as well. Unfortunately, this lag order does not have the datetime index and hence we will have to build this ourselves."
   ]
  },
  {
   "cell_type": "code",
   "execution_count": 36,
   "metadata": {
    "execution": {
     "iopub.execute_input": "2020-12-11T05:23:01.351996Z",
     "iopub.status.busy": "2020-12-11T05:23:01.351099Z",
     "iopub.status.idle": "2020-12-11T05:23:01.354992Z",
     "shell.execute_reply": "2020-12-11T05:23:01.354357Z"
    },
    "papermill": {
     "duration": 0.057889,
     "end_time": "2020-12-11T05:23:01.355095",
     "exception": false,
     "start_time": "2020-12-11T05:23:01.297206",
     "status": "completed"
    },
    "tags": []
   },
   "outputs": [
    {
     "data": {
      "text/plain": [
       "5"
      ]
     },
     "execution_count": 36,
     "metadata": {},
     "output_type": "execute_result"
    }
   ],
   "source": [
    "lag_order = results.k_ar\n",
    "lag_order"
   ]
  },
  {
   "cell_type": "code",
   "execution_count": 37,
   "metadata": {
    "execution": {
     "iopub.execute_input": "2020-12-11T05:23:01.462133Z",
     "iopub.status.busy": "2020-12-11T05:23:01.461541Z",
     "iopub.status.idle": "2020-12-11T05:23:01.466823Z",
     "shell.execute_reply": "2020-12-11T05:23:01.467431Z"
    },
    "papermill": {
     "duration": 0.060408,
     "end_time": "2020-12-11T05:23:01.467553",
     "exception": false,
     "start_time": "2020-12-11T05:23:01.407145",
     "status": "completed"
    },
    "tags": []
   },
   "outputs": [
    {
     "data": {
      "text/plain": [
       "array([[ 3.47114325, -2.65613096,  0.75263997, -2.46849187],\n",
       "       [-2.85974557,  0.25070745,  0.05703135,  1.76799221],\n",
       "       [ 2.90907967,  1.33313823,  1.43761089,  0.28056018],\n",
       "       [-0.85625082, -1.1130784 ,  0.07486385, -1.4678076 ],\n",
       "       [-1.57157966, -0.1579786 , -2.41839957,  0.24697093],\n",
       "       [ 1.2715297 ,  0.63119214,  0.7897666 ,  0.24408246],\n",
       "       [-0.73330354, -0.81369887,  0.76978606,  0.03707164],\n",
       "       [ 0.68782402,  0.85999621, -0.2192522 ,  0.25025081],\n",
       "       [ 0.16319644, -0.22680125,  0.37308683, -0.19502234],\n",
       "       [-0.67554684, -0.25013885, -0.82499037, -0.32116596],\n",
       "       [-0.01104164, -0.02229836, -0.04095429,  0.22610667],\n",
       "       [ 0.35874233,  0.22733801,  0.63763584,  0.16216582]])"
      ]
     },
     "execution_count": 37,
     "metadata": {},
     "output_type": "execute_result"
    }
   ],
   "source": [
    "z = results.forecast(y=train.values[-lag_order:],steps = 12)\n",
    "z"
   ]
  },
  {
   "cell_type": "code",
   "execution_count": 38,
   "metadata": {
    "execution": {
     "iopub.execute_input": "2020-12-11T05:23:01.583793Z",
     "iopub.status.busy": "2020-12-11T05:23:01.583012Z",
     "iopub.status.idle": "2020-12-11T05:23:01.586630Z",
     "shell.execute_reply": "2020-12-11T05:23:01.587098Z"
    },
    "papermill": {
     "duration": 0.064904,
     "end_time": "2020-12-11T05:23:01.587235",
     "exception": false,
     "start_time": "2020-12-11T05:23:01.522331",
     "status": "completed"
    },
    "tags": []
   },
   "outputs": [
    {
     "data": {
      "text/html": [
       "<div>\n",
       "<style scoped>\n",
       "    .dataframe tbody tr th:only-of-type {\n",
       "        vertical-align: middle;\n",
       "    }\n",
       "\n",
       "    .dataframe tbody tr th {\n",
       "        vertical-align: top;\n",
       "    }\n",
       "\n",
       "    .dataframe thead th {\n",
       "        text-align: right;\n",
       "    }\n",
       "</style>\n",
       "<table border=\"1\" class=\"dataframe\">\n",
       "  <thead>\n",
       "    <tr style=\"text-align: right;\">\n",
       "      <th></th>\n",
       "      <th>Open</th>\n",
       "      <th>High</th>\n",
       "      <th>Low</th>\n",
       "      <th>Close</th>\n",
       "    </tr>\n",
       "    <tr>\n",
       "      <th>Date</th>\n",
       "      <th></th>\n",
       "      <th></th>\n",
       "      <th></th>\n",
       "      <th></th>\n",
       "    </tr>\n",
       "  </thead>\n",
       "  <tbody>\n",
       "    <tr>\n",
       "      <th>2021-12-13</th>\n",
       "      <td>5.75</td>\n",
       "      <td>-5.25</td>\n",
       "      <td>0.15</td>\n",
       "      <td>-5.45</td>\n",
       "    </tr>\n",
       "    <tr>\n",
       "      <th>2021-12-14</th>\n",
       "      <td>-8.80</td>\n",
       "      <td>-2.55</td>\n",
       "      <td>-2.45</td>\n",
       "      <td>0.10</td>\n",
       "    </tr>\n",
       "    <tr>\n",
       "      <th>2021-12-15</th>\n",
       "      <td>2.75</td>\n",
       "      <td>2.75</td>\n",
       "      <td>-0.20</td>\n",
       "      <td>-0.15</td>\n",
       "    </tr>\n",
       "    <tr>\n",
       "      <th>2021-12-16</th>\n",
       "      <td>-0.10</td>\n",
       "      <td>-0.10</td>\n",
       "      <td>-1.35</td>\n",
       "      <td>-1.45</td>\n",
       "    </tr>\n",
       "    <tr>\n",
       "      <th>2021-12-17</th>\n",
       "      <td>-4.10</td>\n",
       "      <td>-4.10</td>\n",
       "      <td>-0.95</td>\n",
       "      <td>-0.25</td>\n",
       "    </tr>\n",
       "    <tr>\n",
       "      <th>2021-12-20</th>\n",
       "      <td>-3.00</td>\n",
       "      <td>-3.00</td>\n",
       "      <td>-8.80</td>\n",
       "      <td>-6.15</td>\n",
       "    </tr>\n",
       "    <tr>\n",
       "      <th>2021-12-21</th>\n",
       "      <td>4.00</td>\n",
       "      <td>12.05</td>\n",
       "      <td>18.45</td>\n",
       "      <td>14.80</td>\n",
       "    </tr>\n",
       "    <tr>\n",
       "      <th>2021-12-22</th>\n",
       "      <td>10.90</td>\n",
       "      <td>-0.30</td>\n",
       "      <td>-0.35</td>\n",
       "      <td>0.25</td>\n",
       "    </tr>\n",
       "    <tr>\n",
       "      <th>2021-12-23</th>\n",
       "      <td>-3.80</td>\n",
       "      <td>-4.70</td>\n",
       "      <td>-4.65</td>\n",
       "      <td>-7.40</td>\n",
       "    </tr>\n",
       "    <tr>\n",
       "      <th>2021-12-24</th>\n",
       "      <td>-5.20</td>\n",
       "      <td>-2.00</td>\n",
       "      <td>-3.40</td>\n",
       "      <td>0.10</td>\n",
       "    </tr>\n",
       "    <tr>\n",
       "      <th>2021-12-27</th>\n",
       "      <td>-1.80</td>\n",
       "      <td>21.05</td>\n",
       "      <td>-0.65</td>\n",
       "      <td>19.30</td>\n",
       "    </tr>\n",
       "    <tr>\n",
       "      <th>2021-12-28</th>\n",
       "      <td>23.55</td>\n",
       "      <td>-19.65</td>\n",
       "      <td>18.90</td>\n",
       "      <td>-23.35</td>\n",
       "    </tr>\n",
       "  </tbody>\n",
       "</table>\n",
       "</div>"
      ],
      "text/plain": [
       "             Open   High    Low  Close\n",
       "Date                                  \n",
       "2021-12-13   5.75  -5.25   0.15  -5.45\n",
       "2021-12-14  -8.80  -2.55  -2.45   0.10\n",
       "2021-12-15   2.75   2.75  -0.20  -0.15\n",
       "2021-12-16  -0.10  -0.10  -1.35  -1.45\n",
       "2021-12-17  -4.10  -4.10  -0.95  -0.25\n",
       "2021-12-20  -3.00  -3.00  -8.80  -6.15\n",
       "2021-12-21   4.00  12.05  18.45  14.80\n",
       "2021-12-22  10.90  -0.30  -0.35   0.25\n",
       "2021-12-23  -3.80  -4.70  -4.65  -7.40\n",
       "2021-12-24  -5.20  -2.00  -3.40   0.10\n",
       "2021-12-27  -1.80  21.05  -0.65  19.30\n",
       "2021-12-28  23.55 -19.65  18.90 -23.35"
      ]
     },
     "execution_count": 38,
     "metadata": {},
     "output_type": "execute_result"
    }
   ],
   "source": [
    "test"
   ]
  },
  {
   "cell_type": "code",
   "execution_count": 77,
   "metadata": {
    "execution": {
     "iopub.execute_input": "2020-12-11T05:23:01.818442Z",
     "iopub.status.busy": "2020-12-11T05:23:01.817558Z",
     "iopub.status.idle": "2020-12-11T05:23:01.821322Z",
     "shell.execute_reply": "2020-12-11T05:23:01.821868Z"
    },
    "papermill": {
     "duration": 0.065586,
     "end_time": "2020-12-11T05:23:01.821972",
     "exception": false,
     "start_time": "2020-12-11T05:23:01.756386",
     "status": "completed"
    },
    "tags": []
   },
   "outputs": [
    {
     "data": {
      "text/html": [
       "<div>\n",
       "<style scoped>\n",
       "    .dataframe tbody tr th:only-of-type {\n",
       "        vertical-align: middle;\n",
       "    }\n",
       "\n",
       "    .dataframe tbody tr th {\n",
       "        vertical-align: top;\n",
       "    }\n",
       "\n",
       "    .dataframe thead th {\n",
       "        text-align: right;\n",
       "    }\n",
       "</style>\n",
       "<table border=\"1\" class=\"dataframe\">\n",
       "  <thead>\n",
       "    <tr style=\"text-align: right;\">\n",
       "      <th></th>\n",
       "      <th>Open</th>\n",
       "      <th>High</th>\n",
       "      <th>Low</th>\n",
       "      <th>Close</th>\n",
       "    </tr>\n",
       "    <tr>\n",
       "      <th>Date</th>\n",
       "      <th></th>\n",
       "      <th></th>\n",
       "      <th></th>\n",
       "      <th></th>\n",
       "    </tr>\n",
       "  </thead>\n",
       "  <tbody>\n",
       "    <tr>\n",
       "      <th>2013-01-01</th>\n",
       "      <td>1634.35</td>\n",
       "      <td>1634.35</td>\n",
       "      <td>1408.30</td>\n",
       "      <td>1415.10</td>\n",
       "    </tr>\n",
       "    <tr>\n",
       "      <th>2013-01-02</th>\n",
       "      <td>3241.75</td>\n",
       "      <td>3241.75</td>\n",
       "      <td>1416.15</td>\n",
       "      <td>1607.40</td>\n",
       "    </tr>\n",
       "    <tr>\n",
       "      <th>2013-01-03</th>\n",
       "      <td>4867.95</td>\n",
       "      <td>4867.95</td>\n",
       "      <td>1613.05</td>\n",
       "      <td>1626.20</td>\n",
       "    </tr>\n",
       "    <tr>\n",
       "      <th>2013-01-04</th>\n",
       "      <td>6447.00</td>\n",
       "      <td>6447.00</td>\n",
       "      <td>1574.60</td>\n",
       "      <td>1579.05</td>\n",
       "    </tr>\n",
       "    <tr>\n",
       "      <th>2013-01-07</th>\n",
       "      <td>8042.65</td>\n",
       "      <td>8042.65</td>\n",
       "      <td>1565.50</td>\n",
       "      <td>1595.65</td>\n",
       "    </tr>\n",
       "  </tbody>\n",
       "</table>\n",
       "</div>"
      ],
      "text/plain": [
       "               Open     High      Low    Close\n",
       "Date                                          \n",
       "2013-01-01  1634.35  1634.35  1408.30  1415.10\n",
       "2013-01-02  3241.75  3241.75  1416.15  1607.40\n",
       "2013-01-03  4867.95  4867.95  1613.05  1626.20\n",
       "2013-01-04  6447.00  6447.00  1574.60  1579.05\n",
       "2013-01-07  8042.65  8042.65  1565.50  1595.65"
      ]
     },
     "execution_count": 77,
     "metadata": {},
     "output_type": "execute_result"
    }
   ],
   "source": [
    "df[:5]"
   ]
  },
  {
   "cell_type": "markdown",
   "metadata": {
    "papermill": {
     "duration": 0.056115,
     "end_time": "2020-12-11T05:23:01.934026",
     "exception": false,
     "start_time": "2020-12-11T05:23:01.877911",
     "status": "completed"
    },
    "tags": []
   },
   "source": [
    "## Invert the Transformations"
   ]
  },
  {
   "cell_type": "markdown",
   "metadata": {
    "papermill": {
     "duration": 0.053883,
     "end_time": "2020-12-11T05:23:02.042402",
     "exception": false,
     "start_time": "2020-12-11T05:23:01.988519",
     "status": "completed"
    },
    "tags": []
   },
   "source": [
    "The forecasted values represent the 2nd order difference forecast. To compare them to the original data we have to roll back each difference. To roll back a first-order difference we take the most recent value on the training side of the original series, and add it to a cumulative sum of forecasted values. When working with second-order differences we first must perform this operation on the most recent first-order difference."
   ]
  },
  {
   "cell_type": "code",
   "execution_count": 62,
   "metadata": {
    "execution": {
     "iopub.execute_input": "2020-12-11T05:23:02.153937Z",
     "iopub.status.busy": "2020-12-11T05:23:02.153157Z",
     "iopub.status.idle": "2020-12-11T05:23:02.156364Z",
     "shell.execute_reply": "2020-12-11T05:23:02.155857Z"
    },
    "papermill": {
     "duration": 0.061807,
     "end_time": "2020-12-11T05:23:02.156463",
     "exception": false,
     "start_time": "2020-12-11T05:23:02.094656",
     "status": "completed"
    },
    "tags": []
   },
   "outputs": [],
   "source": [
    "df['Open'] = (df['High'].iloc[-nobs-1] - df['Low'].iloc[-nobs-2]) + df['Close'].cumsum()\n"
   ]
  },
  {
   "cell_type": "code",
   "execution_count": 64,
   "metadata": {
    "execution": {
     "iopub.execute_input": "2020-12-11T05:23:02.266352Z",
     "iopub.status.busy": "2020-12-11T05:23:02.265588Z",
     "iopub.status.idle": "2020-12-11T05:23:02.268244Z",
     "shell.execute_reply": "2020-12-11T05:23:02.268756Z"
    },
    "papermill": {
     "duration": 0.060335,
     "end_time": "2020-12-11T05:23:02.268903",
     "exception": false,
     "start_time": "2020-12-11T05:23:02.208568",
     "status": "completed"
    },
    "tags": []
   },
   "outputs": [],
   "source": [
    "# Now build the forecast values from the first difference set\n",
    "df['Open'] = df['Close'].iloc[-nobs-1] + df['High'].cumsum()"
   ]
  },
  {
   "cell_type": "code",
   "execution_count": 65,
   "metadata": {
    "execution": {
     "iopub.execute_input": "2020-12-11T05:23:02.385720Z",
     "iopub.status.busy": "2020-12-11T05:23:02.385131Z",
     "iopub.status.idle": "2020-12-11T05:23:02.389347Z",
     "shell.execute_reply": "2020-12-11T05:23:02.388707Z"
    },
    "papermill": {
     "duration": 0.067163,
     "end_time": "2020-12-11T05:23:02.389438",
     "exception": false,
     "start_time": "2020-12-11T05:23:02.322275",
     "status": "completed"
    },
    "tags": []
   },
   "outputs": [
    {
     "data": {
      "text/html": [
       "<div>\n",
       "<style scoped>\n",
       "    .dataframe tbody tr th:only-of-type {\n",
       "        vertical-align: middle;\n",
       "    }\n",
       "\n",
       "    .dataframe tbody tr th {\n",
       "        vertical-align: top;\n",
       "    }\n",
       "\n",
       "    .dataframe thead th {\n",
       "        text-align: right;\n",
       "    }\n",
       "</style>\n",
       "<table border=\"1\" class=\"dataframe\">\n",
       "  <thead>\n",
       "    <tr style=\"text-align: right;\">\n",
       "      <th></th>\n",
       "      <th>Open</th>\n",
       "      <th>High</th>\n",
       "      <th>Low</th>\n",
       "      <th>Close</th>\n",
       "    </tr>\n",
       "    <tr>\n",
       "      <th>Date</th>\n",
       "      <th></th>\n",
       "      <th></th>\n",
       "      <th></th>\n",
       "      <th></th>\n",
       "    </tr>\n",
       "  </thead>\n",
       "  <tbody>\n",
       "    <tr>\n",
       "      <th>2013-01-01</th>\n",
       "      <td>1644.35</td>\n",
       "      <td>1427.90</td>\n",
       "      <td>1408.30</td>\n",
       "      <td>1415.10</td>\n",
       "    </tr>\n",
       "    <tr>\n",
       "      <th>2013-01-02</th>\n",
       "      <td>3270.95</td>\n",
       "      <td>1626.60</td>\n",
       "      <td>1416.15</td>\n",
       "      <td>1607.40</td>\n",
       "    </tr>\n",
       "    <tr>\n",
       "      <th>2013-01-03</th>\n",
       "      <td>4944.85</td>\n",
       "      <td>1673.90</td>\n",
       "      <td>1613.05</td>\n",
       "      <td>1626.20</td>\n",
       "    </tr>\n",
       "    <tr>\n",
       "      <th>2013-01-04</th>\n",
       "      <td>6572.60</td>\n",
       "      <td>1627.75</td>\n",
       "      <td>1574.60</td>\n",
       "      <td>1579.05</td>\n",
       "    </tr>\n",
       "    <tr>\n",
       "      <th>2013-01-07</th>\n",
       "      <td>8212.10</td>\n",
       "      <td>1639.50</td>\n",
       "      <td>1565.50</td>\n",
       "      <td>1595.65</td>\n",
       "    </tr>\n",
       "    <tr>\n",
       "      <th>...</th>\n",
       "      <td>...</td>\n",
       "      <td>...</td>\n",
       "      <td>...</td>\n",
       "      <td>...</td>\n",
       "    </tr>\n",
       "    <tr>\n",
       "      <th>2021-12-22</th>\n",
       "      <td>769423.15</td>\n",
       "      <td>207.80</td>\n",
       "      <td>201.35</td>\n",
       "      <td>205.00</td>\n",
       "    </tr>\n",
       "    <tr>\n",
       "      <th>2021-12-23</th>\n",
       "      <td>769630.00</td>\n",
       "      <td>206.85</td>\n",
       "      <td>202.05</td>\n",
       "      <td>202.95</td>\n",
       "    </tr>\n",
       "    <tr>\n",
       "      <th>2021-12-24</th>\n",
       "      <td>769833.90</td>\n",
       "      <td>203.90</td>\n",
       "      <td>199.35</td>\n",
       "      <td>201.00</td>\n",
       "    </tr>\n",
       "    <tr>\n",
       "      <th>2021-12-27</th>\n",
       "      <td>770055.90</td>\n",
       "      <td>222.00</td>\n",
       "      <td>196.00</td>\n",
       "      <td>218.35</td>\n",
       "    </tr>\n",
       "    <tr>\n",
       "      <th>2021-12-28</th>\n",
       "      <td>770276.35</td>\n",
       "      <td>220.45</td>\n",
       "      <td>211.55</td>\n",
       "      <td>212.35</td>\n",
       "    </tr>\n",
       "  </tbody>\n",
       "</table>\n",
       "<p>2225 rows × 4 columns</p>\n",
       "</div>"
      ],
      "text/plain": [
       "                 Open     High      Low    Close\n",
       "Date                                            \n",
       "2013-01-01    1644.35  1427.90  1408.30  1415.10\n",
       "2013-01-02    3270.95  1626.60  1416.15  1607.40\n",
       "2013-01-03    4944.85  1673.90  1613.05  1626.20\n",
       "2013-01-04    6572.60  1627.75  1574.60  1579.05\n",
       "2013-01-07    8212.10  1639.50  1565.50  1595.65\n",
       "...               ...      ...      ...      ...\n",
       "2021-12-22  769423.15   207.80   201.35   205.00\n",
       "2021-12-23  769630.00   206.85   202.05   202.95\n",
       "2021-12-24  769833.90   203.90   199.35   201.00\n",
       "2021-12-27  770055.90   222.00   196.00   218.35\n",
       "2021-12-28  770276.35   220.45   211.55   212.35\n",
       "\n",
       "[2225 rows x 4 columns]"
      ]
     },
     "execution_count": 65,
     "metadata": {},
     "output_type": "execute_result"
    }
   ],
   "source": [
    "df"
   ]
  },
  {
   "cell_type": "markdown",
   "metadata": {
    "papermill": {
     "duration": 0.052956,
     "end_time": "2020-12-11T05:23:02.494879",
     "exception": false,
     "start_time": "2020-12-11T05:23:02.441923",
     "status": "completed"
    },
    "tags": []
   },
   "source": [
    "Similarly,lets do this for the spending column"
   ]
  },
  {
   "cell_type": "code",
   "execution_count": 66,
   "metadata": {
    "execution": {
     "iopub.execute_input": "2020-12-11T05:23:02.613072Z",
     "iopub.status.busy": "2020-12-11T05:23:02.612465Z",
     "iopub.status.idle": "2020-12-11T05:23:02.615268Z",
     "shell.execute_reply": "2020-12-11T05:23:02.614673Z"
    },
    "papermill": {
     "duration": 0.065992,
     "end_time": "2020-12-11T05:23:02.615359",
     "exception": false,
     "start_time": "2020-12-11T05:23:02.549367",
     "status": "completed"
    },
    "tags": []
   },
   "outputs": [],
   "source": [
    "# Add the most recent first difference from the training side of the original dataset to the forecast cumulative sum\n",
    "df['Open'] = (df['Open'].iloc[-nobs-1]-df['Open'].iloc[-nobs-2]) + df['Close'].cumsum()\n",
    "\n",
    "# Now build the forecast values from the first difference set\n",
    "df['High'] = df['High'].iloc[-nobs-1] + df['Close'].cumsum()"
   ]
  },
  {
   "cell_type": "code",
   "execution_count": 67,
   "metadata": {
    "execution": {
     "iopub.execute_input": "2020-12-11T05:23:02.737450Z",
     "iopub.status.busy": "2020-12-11T05:23:02.736803Z",
     "iopub.status.idle": "2020-12-11T05:23:02.741034Z",
     "shell.execute_reply": "2020-12-11T05:23:02.740454Z"
    },
    "papermill": {
     "duration": 0.072723,
     "end_time": "2020-12-11T05:23:02.741156",
     "exception": false,
     "start_time": "2020-12-11T05:23:02.668433",
     "status": "completed"
    },
    "tags": []
   },
   "outputs": [
    {
     "data": {
      "text/html": [
       "<div>\n",
       "<style scoped>\n",
       "    .dataframe tbody tr th:only-of-type {\n",
       "        vertical-align: middle;\n",
       "    }\n",
       "\n",
       "    .dataframe tbody tr th {\n",
       "        vertical-align: top;\n",
       "    }\n",
       "\n",
       "    .dataframe thead th {\n",
       "        text-align: right;\n",
       "    }\n",
       "</style>\n",
       "<table border=\"1\" class=\"dataframe\">\n",
       "  <thead>\n",
       "    <tr style=\"text-align: right;\">\n",
       "      <th></th>\n",
       "      <th>Open</th>\n",
       "      <th>High</th>\n",
       "      <th>Low</th>\n",
       "      <th>Close</th>\n",
       "    </tr>\n",
       "    <tr>\n",
       "      <th>Date</th>\n",
       "      <th></th>\n",
       "      <th></th>\n",
       "      <th></th>\n",
       "      <th></th>\n",
       "    </tr>\n",
       "  </thead>\n",
       "  <tbody>\n",
       "    <tr>\n",
       "      <th>2013-01-01</th>\n",
       "      <td>1634.35</td>\n",
       "      <td>1634.35</td>\n",
       "      <td>1408.30</td>\n",
       "      <td>1415.10</td>\n",
       "    </tr>\n",
       "    <tr>\n",
       "      <th>2013-01-02</th>\n",
       "      <td>3241.75</td>\n",
       "      <td>3241.75</td>\n",
       "      <td>1416.15</td>\n",
       "      <td>1607.40</td>\n",
       "    </tr>\n",
       "    <tr>\n",
       "      <th>2013-01-03</th>\n",
       "      <td>4867.95</td>\n",
       "      <td>4867.95</td>\n",
       "      <td>1613.05</td>\n",
       "      <td>1626.20</td>\n",
       "    </tr>\n",
       "    <tr>\n",
       "      <th>2013-01-04</th>\n",
       "      <td>6447.00</td>\n",
       "      <td>6447.00</td>\n",
       "      <td>1574.60</td>\n",
       "      <td>1579.05</td>\n",
       "    </tr>\n",
       "    <tr>\n",
       "      <th>2013-01-07</th>\n",
       "      <td>8042.65</td>\n",
       "      <td>8042.65</td>\n",
       "      <td>1565.50</td>\n",
       "      <td>1595.65</td>\n",
       "    </tr>\n",
       "    <tr>\n",
       "      <th>...</th>\n",
       "      <td>...</td>\n",
       "      <td>...</td>\n",
       "      <td>...</td>\n",
       "      <td>...</td>\n",
       "    </tr>\n",
       "    <tr>\n",
       "      <th>2021-12-22</th>\n",
       "      <td>755207.45</td>\n",
       "      <td>755207.45</td>\n",
       "      <td>201.35</td>\n",
       "      <td>205.00</td>\n",
       "    </tr>\n",
       "    <tr>\n",
       "      <th>2021-12-23</th>\n",
       "      <td>755410.40</td>\n",
       "      <td>755410.40</td>\n",
       "      <td>202.05</td>\n",
       "      <td>202.95</td>\n",
       "    </tr>\n",
       "    <tr>\n",
       "      <th>2021-12-24</th>\n",
       "      <td>755611.40</td>\n",
       "      <td>755611.40</td>\n",
       "      <td>199.35</td>\n",
       "      <td>201.00</td>\n",
       "    </tr>\n",
       "    <tr>\n",
       "      <th>2021-12-27</th>\n",
       "      <td>755829.75</td>\n",
       "      <td>755829.75</td>\n",
       "      <td>196.00</td>\n",
       "      <td>218.35</td>\n",
       "    </tr>\n",
       "    <tr>\n",
       "      <th>2021-12-28</th>\n",
       "      <td>756042.10</td>\n",
       "      <td>756042.10</td>\n",
       "      <td>211.55</td>\n",
       "      <td>212.35</td>\n",
       "    </tr>\n",
       "  </tbody>\n",
       "</table>\n",
       "<p>2225 rows × 4 columns</p>\n",
       "</div>"
      ],
      "text/plain": [
       "                 Open       High      Low    Close\n",
       "Date                                              \n",
       "2013-01-01    1634.35    1634.35  1408.30  1415.10\n",
       "2013-01-02    3241.75    3241.75  1416.15  1607.40\n",
       "2013-01-03    4867.95    4867.95  1613.05  1626.20\n",
       "2013-01-04    6447.00    6447.00  1574.60  1579.05\n",
       "2013-01-07    8042.65    8042.65  1565.50  1595.65\n",
       "...               ...        ...      ...      ...\n",
       "2021-12-22  755207.45  755207.45   201.35   205.00\n",
       "2021-12-23  755410.40  755410.40   202.05   202.95\n",
       "2021-12-24  755611.40  755611.40   199.35   201.00\n",
       "2021-12-27  755829.75  755829.75   196.00   218.35\n",
       "2021-12-28  756042.10  756042.10   211.55   212.35\n",
       "\n",
       "[2225 rows x 4 columns]"
      ]
     },
     "execution_count": 67,
     "metadata": {},
     "output_type": "execute_result"
    }
   ],
   "source": [
    "df"
   ]
  },
  {
   "cell_type": "markdown",
   "metadata": {
    "papermill": {
     "duration": 0.057898,
     "end_time": "2020-12-11T05:23:02.855465",
     "exception": false,
     "start_time": "2020-12-11T05:23:02.797567",
     "status": "completed"
    },
    "tags": []
   },
   "source": [
    "\n",
    "## Plot the results"
   ]
  },
  {
   "cell_type": "code",
   "execution_count": 68,
   "metadata": {
    "execution": {
     "iopub.execute_input": "2020-12-11T05:23:02.979522Z",
     "iopub.status.busy": "2020-12-11T05:23:02.973208Z",
     "iopub.status.idle": "2020-12-11T05:23:03.234837Z",
     "shell.execute_reply": "2020-12-11T05:23:03.235415Z"
    },
    "papermill": {
     "duration": 0.321308,
     "end_time": "2020-12-11T05:23:03.235573",
     "exception": false,
     "start_time": "2020-12-11T05:23:02.914265",
     "status": "completed"
    },
    "tags": []
   },
   "outputs": [
    {
     "data": {
      "image/png": "[encoded data removed]",
      "text/plain": [
       "<Figure size 720x720 with 4 Axes>"
      ]
     },
     "metadata": {
      "needs_background": "light"
     },
     "output_type": "display_data"
    }
   ],
   "source": [
    "results.plot();"
   ]
  },
  {
   "cell_type": "code",
   "execution_count": 69,
   "metadata": {
    "execution": {
     "iopub.execute_input": "2020-12-11T05:23:03.355766Z",
     "iopub.status.busy": "2020-12-11T05:23:03.355187Z",
     "iopub.status.idle": "2020-12-11T05:23:03.673816Z",
     "shell.execute_reply": "2020-12-11T05:23:03.674361Z"
    },
    "papermill": {
     "duration": 0.380585,
     "end_time": "2020-12-11T05:23:03.674500",
     "exception": false,
     "start_time": "2020-12-11T05:23:03.293915",
     "status": "completed"
    },
    "tags": []
   },
   "outputs": [
    {
     "data": {
      "image/png": "[encoded data removed]",
      "text/plain": [
       "<Figure size 720x720 with 4 Axes>"
      ]
     },
     "metadata": {
      "needs_background": "light"
     },
     "output_type": "display_data"
    }
   ],
   "source": [
    "results.plot_forecast(12);"
   ]
  },
  {
   "cell_type": "code",
   "execution_count": 73,
   "metadata": {
    "execution": {
     "iopub.execute_input": "2020-12-11T05:23:03.807198Z",
     "iopub.status.busy": "2020-12-11T05:23:03.805801Z",
     "iopub.status.idle": "2020-12-11T05:23:03.983266Z",
     "shell.execute_reply": "2020-12-11T05:23:03.982720Z"
    },
    "papermill": {
     "duration": 0.249231,
     "end_time": "2020-12-11T05:23:03.983377",
     "exception": false,
     "start_time": "2020-12-11T05:23:03.734146",
     "status": "completed"
    },
    "tags": []
   },
   "outputs": [
    {
     "data": {
      "image/png": "[encoded data removed]",
      "text/plain": [
       "<Figure size 864x360 with 1 Axes>"
      ]
     },
     "metadata": {
      "needs_background": "light"
     },
     "output_type": "display_data"
    }
   ],
   "source": [
    "df['High'][-nobs:].plot(figsize=(12,5),legend=True).autoscale(axis='x',tight=True)\n",
    "df['High'].plot(legend=True);"
   ]
  },
  {
   "cell_type": "code",
   "execution_count": 75,
   "metadata": {
    "execution": {
     "iopub.execute_input": "2020-12-11T05:23:04.114931Z",
     "iopub.status.busy": "2020-12-11T05:23:04.114351Z",
     "iopub.status.idle": "2020-12-11T05:23:04.278547Z",
     "shell.execute_reply": "2020-12-11T05:23:04.277929Z"
    },
    "papermill": {
     "duration": 0.235351,
     "end_time": "2020-12-11T05:23:04.278666",
     "exception": false,
     "start_time": "2020-12-11T05:23:04.043315",
     "status": "completed"
    },
    "tags": []
   },
   "outputs": [
    {
     "data": {
      "image/png": "[encoded data removed]",
      "text/plain": [
       "<Figure size 864x360 with 1 Axes>"
      ]
     },
     "metadata": {
      "needs_background": "light"
     },
     "output_type": "display_data"
    }
   ],
   "source": [
    "df['Low'][-nobs:].plot(figsize=(12,5),legend=True).autoscale(axis='x',tight=True)\n",
    "df['Low'].plot(legend=True);"
   ]
  },
  {
   "cell_type": "code",
   "execution_count": null,
   "metadata": {
    "papermill": {
     "duration": 0.061557,
     "end_time": "2020-12-11T05:23:04.788012",
     "exception": false,
     "start_time": "2020-12-11T05:23:04.726455",
     "status": "completed"
    },
    "tags": []
   },
   "outputs": [],
   "source": []
  }
 ],
 "metadata": {
  "kernelspec": {
   "display_name": "Python 3",
   "language": "python",
   "name": "python3"
  },
  "language_info": {
   "codemirror_mode": {
    "name": "ipython",
    "version": 3
   },
   "file_extension": ".py",
   "mimetype": "text/x-python",
   "name": "python",
   "nbconvert_exporter": "python",
   "pygments_lexer": "ipython3",
   "version": "3.7.6"
  },
  "papermill": {
   "duration": 14.160001,
   "end_time": "2020-12-11T05:23:04.954869",
   "environment_variables": {},
   "exception": null,
   "input_path": "__notebook__.ipynb",
   "output_path": "__notebook__.ipynb",
   "parameters": {},
   "start_time": "2020-12-11T05:22:50.794868",
   "version": "2.1.0"
  }
 },
 "nbformat": 4,
 "nbformat_minor": 4
}
