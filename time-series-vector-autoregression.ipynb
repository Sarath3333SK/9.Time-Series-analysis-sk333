{
 "cells": [
  {
   "cell_type": "code",
   "execution_count": 1,
   "metadata": {
    "_cell_guid": "b1076dfc-b9ad-4769-8c92-a6c4dae69d19",
    "_uuid": "8f2839f25d086af736a60e9eeb907d3b93b6e0e5",
    "execution": {
     "iopub.execute_input": "2020-12-11T05:22:55.128376Z",
     "iopub.status.busy": "2020-12-11T05:22:55.127718Z",
     "iopub.status.idle": "2020-12-11T05:22:55.148032Z",
     "shell.execute_reply": "2020-12-11T05:22:55.148748Z"
    },
    "papermill": {
     "duration": 0.067008,
     "end_time": "2020-12-11T05:22:55.148916",
     "exception": false,
     "start_time": "2020-12-11T05:22:55.081908",
     "status": "completed"
    },
    "tags": []
   },
   "outputs": [
    {
     "name": "stdout",
     "output_type": "stream",
     "text": [
      "/kaggle/input/time-series-data-1/RestaurantVisitors.csv\n",
      "/kaggle/input/time-series-data-1/DailyTotalFemaleBirths.csv\n",
      "/kaggle/input/time-series-data-1/TradeInventories.csv\n",
      "/kaggle/input/time-series-data-1/M2SLMoneyStock.csv\n",
      "/kaggle/input/time-series-data-1/PCEPersonalSpending.csv\n",
      "/kaggle/input/time-series-data-1/uspopulation.csv\n",
      "/kaggle/input/time-series-data-1/macrodata.csv\n",
      "/kaggle/input/time-series-data-1/airline_passengers.csv\n",
      "/kaggle/input/time-series-data-1/co2_mm_mlo.csv\n"
     ]
    }
   ],
   "source": [
    "# This Python 3 environment comes with many helpful analytics libraries installed\n",
    "# It is defined by the kaggle/python Docker image: https://github.com/kaggle/docker-python\n",
    "# For example, here's several helpful packages to load\n",
    "\n",
    "import numpy as np # linear algebra\n",
    "import pandas as pd # data processing, CSV file I/O (e.g. pd.read_csv)\n",
    "\n",
    "# Input data files are available in the read-only \"../input/\" directory\n",
    "# For example, running this (by clicking run or pressing Shift+Enter) will list all files under the input directory\n",
    "\n",
    "import os\n",
    "for dirname, _, filenames in os.walk('/kaggle/input'):\n",
    "    for filename in filenames:\n",
    "        print(os.path.join(dirname, filename))\n",
    "\n",
    "# You can write up to 20GB to the current directory (/kaggle/working/) that gets preserved as output when you create a version using \"Save & Run All\" \n",
    "# You can also write temporary files to /kaggle/temp/, but they won't be saved outside of the current session"
   ]
  },
  {
   "cell_type": "markdown",
   "metadata": {
    "_cell_guid": "79c7e3d0-c299-4dcb-8224-4455121ee9b0",
    "_uuid": "d629ff2d2480ee46fbb7e2d37f6b5fab8052498a",
    "collapsed": true,
    "papermill": {
     "duration": 0.037683,
     "end_time": "2020-12-11T05:22:55.227486",
     "exception": false,
     "start_time": "2020-12-11T05:22:55.189803",
     "status": "completed"
    },
    "tags": []
   },
   "source": [
    "# VAR - Vector AutoRegression\n",
    "VAR is used when there are variables which have an effect on each other. In case of restaurant visitors where the exogenous variable $holidays$ affected the $visitors$, it wasn't vice versa. However, there are many cases in which two variables have an effect on each other. Example is Personal Disposable Income affects the Spending and the amount of Spending is affected by the available Personal Disposable income in the hands of the people. The dataset here contains the income in the hands of the people and another dataset contains the spending. "
   ]
  },
  {
   "cell_type": "markdown",
   "metadata": {
    "papermill": {
     "duration": 0.037158,
     "end_time": "2020-12-11T05:22:55.302556",
     "exception": false,
     "start_time": "2020-12-11T05:22:55.265398",
     "status": "completed"
    },
    "tags": []
   },
   "source": [
    "## Imports and Load the dataset"
   ]
  },
  {
   "cell_type": "code",
   "execution_count": 2,
   "metadata": {
    "execution": {
     "iopub.execute_input": "2020-12-11T05:22:55.392202Z",
     "iopub.status.busy": "2020-12-11T05:22:55.391558Z",
     "iopub.status.idle": "2020-12-11T05:22:56.726280Z",
     "shell.execute_reply": "2020-12-11T05:22:56.725558Z"
    },
    "papermill": {
     "duration": 1.386414,
     "end_time": "2020-12-11T05:22:56.726396",
     "exception": false,
     "start_time": "2020-12-11T05:22:55.339982",
     "status": "completed"
    },
    "tags": []
   },
   "outputs": [],
   "source": [
    "import numpy as np\n",
    "import pandas as pd\n",
    "\n",
    "# visualization import\n",
    "import matplotlib.pyplot as plt\n",
    "import seaborn as sns\n",
    "%matplotlib inline\n",
    "\n",
    "# define the plot size default\n",
    "from pylab import rcParams\n",
    "rcParams['figure.figsize'] = (12,5)\n",
    "\n",
    "# load specific forecasting tools\n",
    "from statsmodels.tsa.api import VAR\n",
    "from statsmodels.tsa.stattools import adfuller\n",
    "from statsmodels.tsa.seasonal import seasonal_decompose\n",
    "from statsmodels.tools.eval_measures import mse,rmse\n",
    "\n",
    "# Ignore harmless warnings\n",
    "import warnings\n",
    "warnings.filterwarnings(\"ignore\")\n",
    "\n",
    "# Load datasets\n",
    "df = pd.read_csv('/kaggle/input/time-series-data-1/M2SLMoneyStock.csv',index_col=0, parse_dates=True)\n",
    "df.index.freq = 'MS'\n",
    "\n",
    "sp = pd.read_csv('/kaggle/input/time-series-data-1/PCEPersonalSpending.csv',index_col=0, parse_dates=True)\n",
    "sp.index.freq = 'MS'\n"
   ]
  },
  {
   "cell_type": "markdown",
   "metadata": {
    "papermill": {
     "duration": 0.039284,
     "end_time": "2020-12-11T05:22:56.804224",
     "exception": false,
     "start_time": "2020-12-11T05:22:56.764940",
     "status": "completed"
    },
    "tags": []
   },
   "source": [
    "## Inspect the data"
   ]
  },
  {
   "cell_type": "code",
   "execution_count": 3,
   "metadata": {
    "execution": {
     "iopub.execute_input": "2020-12-11T05:22:56.891069Z",
     "iopub.status.busy": "2020-12-11T05:22:56.890433Z",
     "iopub.status.idle": "2020-12-11T05:22:56.899840Z",
     "shell.execute_reply": "2020-12-11T05:22:56.899203Z"
    },
    "papermill": {
     "duration": 0.057278,
     "end_time": "2020-12-11T05:22:56.899953",
     "exception": false,
     "start_time": "2020-12-11T05:22:56.842675",
     "status": "completed"
    },
    "tags": []
   },
   "outputs": [
    {
     "data": {
      "text/html": [
       "<div>\n",
       "<style scoped>\n",
       "    .dataframe tbody tr th:only-of-type {\n",
       "        vertical-align: middle;\n",
       "    }\n",
       "\n",
       "    .dataframe tbody tr th {\n",
       "        vertical-align: top;\n",
       "    }\n",
       "\n",
       "    .dataframe thead th {\n",
       "        text-align: right;\n",
       "    }\n",
       "</style>\n",
       "<table border=\"1\" class=\"dataframe\">\n",
       "  <thead>\n",
       "    <tr style=\"text-align: right;\">\n",
       "      <th></th>\n",
       "      <th>Money</th>\n",
       "    </tr>\n",
       "    <tr>\n",
       "      <th>Date</th>\n",
       "      <th></th>\n",
       "    </tr>\n",
       "  </thead>\n",
       "  <tbody>\n",
       "    <tr>\n",
       "      <th>1995-01-01</th>\n",
       "      <td>3492.4</td>\n",
       "    </tr>\n",
       "    <tr>\n",
       "      <th>1995-02-01</th>\n",
       "      <td>3489.9</td>\n",
       "    </tr>\n",
       "    <tr>\n",
       "      <th>1995-03-01</th>\n",
       "      <td>3491.1</td>\n",
       "    </tr>\n",
       "    <tr>\n",
       "      <th>1995-04-01</th>\n",
       "      <td>3499.2</td>\n",
       "    </tr>\n",
       "    <tr>\n",
       "      <th>1995-05-01</th>\n",
       "      <td>3524.2</td>\n",
       "    </tr>\n",
       "  </tbody>\n",
       "</table>\n",
       "</div>"
      ],
      "text/plain": [
       "             Money\n",
       "Date              \n",
       "1995-01-01  3492.4\n",
       "1995-02-01  3489.9\n",
       "1995-03-01  3491.1\n",
       "1995-04-01  3499.2\n",
       "1995-05-01  3524.2"
      ]
     },
     "execution_count": 3,
     "metadata": {},
     "output_type": "execute_result"
    }
   ],
   "source": [
    "df.head()"
   ]
  },
  {
   "cell_type": "code",
   "execution_count": 4,
   "metadata": {
    "execution": {
     "iopub.execute_input": "2020-12-11T05:22:56.989278Z",
     "iopub.status.busy": "2020-12-11T05:22:56.988392Z",
     "iopub.status.idle": "2020-12-11T05:22:56.992865Z",
     "shell.execute_reply": "2020-12-11T05:22:56.992331Z"
    },
    "papermill": {
     "duration": 0.051944,
     "end_time": "2020-12-11T05:22:56.992978",
     "exception": false,
     "start_time": "2020-12-11T05:22:56.941034",
     "status": "completed"
    },
    "tags": []
   },
   "outputs": [
    {
     "data": {
      "text/html": [
       "<div>\n",
       "<style scoped>\n",
       "    .dataframe tbody tr th:only-of-type {\n",
       "        vertical-align: middle;\n",
       "    }\n",
       "\n",
       "    .dataframe tbody tr th {\n",
       "        vertical-align: top;\n",
       "    }\n",
       "\n",
       "    .dataframe thead th {\n",
       "        text-align: right;\n",
       "    }\n",
       "</style>\n",
       "<table border=\"1\" class=\"dataframe\">\n",
       "  <thead>\n",
       "    <tr style=\"text-align: right;\">\n",
       "      <th></th>\n",
       "      <th>Spending</th>\n",
       "    </tr>\n",
       "    <tr>\n",
       "      <th>Date</th>\n",
       "      <th></th>\n",
       "    </tr>\n",
       "  </thead>\n",
       "  <tbody>\n",
       "    <tr>\n",
       "      <th>1995-01-01</th>\n",
       "      <td>4851.2</td>\n",
       "    </tr>\n",
       "    <tr>\n",
       "      <th>1995-02-01</th>\n",
       "      <td>4850.8</td>\n",
       "    </tr>\n",
       "    <tr>\n",
       "      <th>1995-03-01</th>\n",
       "      <td>4885.4</td>\n",
       "    </tr>\n",
       "    <tr>\n",
       "      <th>1995-04-01</th>\n",
       "      <td>4890.2</td>\n",
       "    </tr>\n",
       "    <tr>\n",
       "      <th>1995-05-01</th>\n",
       "      <td>4933.1</td>\n",
       "    </tr>\n",
       "  </tbody>\n",
       "</table>\n",
       "</div>"
      ],
      "text/plain": [
       "            Spending\n",
       "Date                \n",
       "1995-01-01    4851.2\n",
       "1995-02-01    4850.8\n",
       "1995-03-01    4885.4\n",
       "1995-04-01    4890.2\n",
       "1995-05-01    4933.1"
      ]
     },
     "execution_count": 4,
     "metadata": {},
     "output_type": "execute_result"
    }
   ],
   "source": [
    "sp.head()"
   ]
  },
  {
   "cell_type": "markdown",
   "metadata": {
    "papermill": {
     "duration": 0.039718,
     "end_time": "2020-12-11T05:22:57.073547",
     "exception": false,
     "start_time": "2020-12-11T05:22:57.033829",
     "status": "completed"
    },
    "tags": []
   },
   "source": [
    "Spending is correlated with the money in hand and vice versa. We need to join these two dataframes into one for our model. The datetime index is the same and that makes the joining task easy. "
   ]
  },
  {
   "cell_type": "code",
   "execution_count": 5,
   "metadata": {
    "execution": {
     "iopub.execute_input": "2020-12-11T05:22:57.163504Z",
     "iopub.status.busy": "2020-12-11T05:22:57.162749Z",
     "iopub.status.idle": "2020-12-11T05:22:57.166198Z",
     "shell.execute_reply": "2020-12-11T05:22:57.166696Z"
    },
    "papermill": {
     "duration": 0.054177,
     "end_time": "2020-12-11T05:22:57.166895",
     "exception": false,
     "start_time": "2020-12-11T05:22:57.112718",
     "status": "completed"
    },
    "tags": []
   },
   "outputs": [
    {
     "data": {
      "text/html": [
       "<div>\n",
       "<style scoped>\n",
       "    .dataframe tbody tr th:only-of-type {\n",
       "        vertical-align: middle;\n",
       "    }\n",
       "\n",
       "    .dataframe tbody tr th {\n",
       "        vertical-align: top;\n",
       "    }\n",
       "\n",
       "    .dataframe thead th {\n",
       "        text-align: right;\n",
       "    }\n",
       "</style>\n",
       "<table border=\"1\" class=\"dataframe\">\n",
       "  <thead>\n",
       "    <tr style=\"text-align: right;\">\n",
       "      <th></th>\n",
       "      <th>Money</th>\n",
       "      <th>Spending</th>\n",
       "    </tr>\n",
       "    <tr>\n",
       "      <th>Date</th>\n",
       "      <th></th>\n",
       "      <th></th>\n",
       "    </tr>\n",
       "  </thead>\n",
       "  <tbody>\n",
       "    <tr>\n",
       "      <th>1995-01-01</th>\n",
       "      <td>3492.4</td>\n",
       "      <td>4851.2</td>\n",
       "    </tr>\n",
       "    <tr>\n",
       "      <th>1995-02-01</th>\n",
       "      <td>3489.9</td>\n",
       "      <td>4850.8</td>\n",
       "    </tr>\n",
       "    <tr>\n",
       "      <th>1995-03-01</th>\n",
       "      <td>3491.1</td>\n",
       "      <td>4885.4</td>\n",
       "    </tr>\n",
       "    <tr>\n",
       "      <th>1995-04-01</th>\n",
       "      <td>3499.2</td>\n",
       "      <td>4890.2</td>\n",
       "    </tr>\n",
       "    <tr>\n",
       "      <th>1995-05-01</th>\n",
       "      <td>3524.2</td>\n",
       "      <td>4933.1</td>\n",
       "    </tr>\n",
       "  </tbody>\n",
       "</table>\n",
       "</div>"
      ],
      "text/plain": [
       "             Money  Spending\n",
       "Date                        \n",
       "1995-01-01  3492.4    4851.2\n",
       "1995-02-01  3489.9    4850.8\n",
       "1995-03-01  3491.1    4885.4\n",
       "1995-04-01  3499.2    4890.2\n",
       "1995-05-01  3524.2    4933.1"
      ]
     },
     "execution_count": 5,
     "metadata": {},
     "output_type": "execute_result"
    }
   ],
   "source": [
    "df = df.join(sp)\n",
    "df.head()"
   ]
  },
  {
   "cell_type": "code",
   "execution_count": 6,
   "metadata": {
    "execution": {
     "iopub.execute_input": "2020-12-11T05:22:57.251170Z",
     "iopub.status.busy": "2020-12-11T05:22:57.250444Z",
     "iopub.status.idle": "2020-12-11T05:22:57.254156Z",
     "shell.execute_reply": "2020-12-11T05:22:57.253571Z"
    },
    "papermill": {
     "duration": 0.047548,
     "end_time": "2020-12-11T05:22:57.254246",
     "exception": false,
     "start_time": "2020-12-11T05:22:57.206698",
     "status": "completed"
    },
    "tags": []
   },
   "outputs": [
    {
     "data": {
      "text/plain": [
       "Money       0\n",
       "Spending    0\n",
       "dtype: int64"
      ]
     },
     "execution_count": 6,
     "metadata": {},
     "output_type": "execute_result"
    }
   ],
   "source": [
    "# check for null or missing values\n",
    "df.isna().sum()"
   ]
  },
  {
   "cell_type": "markdown",
   "metadata": {
    "papermill": {
     "duration": 0.040432,
     "end_time": "2020-12-11T05:22:57.334219",
     "exception": false,
     "start_time": "2020-12-11T05:22:57.293787",
     "status": "completed"
    },
    "tags": []
   },
   "source": [
    "Cool, so we do not have any null values in the dataset."
   ]
  },
  {
   "cell_type": "code",
   "execution_count": 7,
   "metadata": {
    "execution": {
     "iopub.execute_input": "2020-12-11T05:22:57.419561Z",
     "iopub.status.busy": "2020-12-11T05:22:57.418715Z",
     "iopub.status.idle": "2020-12-11T05:22:57.422566Z",
     "shell.execute_reply": "2020-12-11T05:22:57.421957Z"
    },
    "papermill": {
     "duration": 0.04824,
     "end_time": "2020-12-11T05:22:57.422655",
     "exception": false,
     "start_time": "2020-12-11T05:22:57.374415",
     "status": "completed"
    },
    "tags": []
   },
   "outputs": [
    {
     "data": {
      "text/plain": [
       "252"
      ]
     },
     "execution_count": 7,
     "metadata": {},
     "output_type": "execute_result"
    }
   ],
   "source": [
    "# the number of instances\n",
    "len(df)"
   ]
  },
  {
   "cell_type": "code",
   "execution_count": 8,
   "metadata": {
    "execution": {
     "iopub.execute_input": "2020-12-11T05:22:57.516610Z",
     "iopub.status.busy": "2020-12-11T05:22:57.515895Z",
     "iopub.status.idle": "2020-12-11T05:22:57.519078Z",
     "shell.execute_reply": "2020-12-11T05:22:57.519591Z"
    },
    "papermill": {
     "duration": 0.056047,
     "end_time": "2020-12-11T05:22:57.519706",
     "exception": false,
     "start_time": "2020-12-11T05:22:57.463659",
     "status": "completed"
    },
    "tags": []
   },
   "outputs": [
    {
     "name": "stdout",
     "output_type": "stream",
     "text": [
      "<class 'pandas.core.frame.DataFrame'>\n",
      "DatetimeIndex: 252 entries, 1995-01-01 to 2015-12-01\n",
      "Freq: MS\n",
      "Data columns (total 2 columns):\n",
      " #   Column    Non-Null Count  Dtype  \n",
      "---  ------    --------------  -----  \n",
      " 0   Money     252 non-null    float64\n",
      " 1   Spending  252 non-null    float64\n",
      "dtypes: float64(2)\n",
      "memory usage: 15.9 KB\n"
     ]
    }
   ],
   "source": [
    "df.info()"
   ]
  },
  {
   "cell_type": "markdown",
   "metadata": {
    "papermill": {
     "duration": 0.041607,
     "end_time": "2020-12-11T05:22:57.602703",
     "exception": false,
     "start_time": "2020-12-11T05:22:57.561096",
     "status": "completed"
    },
    "tags": []
   },
   "source": [
    "The datatype of the two features is also fine. All hygiene checks done. we will test for stationarity using the augmented dikcey fuller test."
   ]
  },
  {
   "cell_type": "markdown",
   "metadata": {
    "papermill": {
     "duration": 0.042965,
     "end_time": "2020-12-11T05:22:57.688494",
     "exception": false,
     "start_time": "2020-12-11T05:22:57.645529",
     "status": "completed"
    },
    "tags": []
   },
   "source": [
    "## Plot the source data"
   ]
  },
  {
   "cell_type": "code",
   "execution_count": 9,
   "metadata": {
    "execution": {
     "iopub.execute_input": "2020-12-11T05:22:57.780800Z",
     "iopub.status.busy": "2020-12-11T05:22:57.779916Z",
     "iopub.status.idle": "2020-12-11T05:22:58.068335Z",
     "shell.execute_reply": "2020-12-11T05:22:58.067788Z"
    },
    "papermill": {
     "duration": 0.336603,
     "end_time": "2020-12-11T05:22:58.068456",
     "exception": false,
     "start_time": "2020-12-11T05:22:57.731853",
     "status": "completed"
    },
    "tags": []
   },
   "outputs": [
    {
     "data": {
      "image/png": "[encoded data removed]",
      "text/plain": [
       "<Figure size 864x360 with 1 Axes>"
      ]
     },
     "metadata": {
      "needs_background": "light"
     },
     "output_type": "display_data"
    }
   ],
   "source": [
    "title = 'M2 Money Stock vs Personal Consumption Expenditures'\n",
    "ylabel = 'Billions of Dollars'\n",
    "xlabel='' #xlabel is not required. The datetime indes will be taken as the points on the x axis\n",
    "\n",
    "ax = df['Spending'].plot(legend=True,title=title)\n",
    "ax.autoscale(axis='x',tight=True)\n",
    "ax.set(xlabel=xlabel,ylabel=ylabel)\n",
    "df['Money'].plot(legend=True);"
   ]
  },
  {
   "cell_type": "code",
   "execution_count": 10,
   "metadata": {
    "execution": {
     "iopub.execute_input": "2020-12-11T05:22:58.183750Z",
     "iopub.status.busy": "2020-12-11T05:22:58.182849Z",
     "iopub.status.idle": "2020-12-11T05:22:58.186132Z",
     "shell.execute_reply": "2020-12-11T05:22:58.185577Z"
    },
    "papermill": {
     "duration": 0.0691,
     "end_time": "2020-12-11T05:22:58.186300",
     "exception": false,
     "start_time": "2020-12-11T05:22:58.117200",
     "status": "completed"
    },
    "tags": []
   },
   "outputs": [],
   "source": [
    "def dickey_fuller(series,title='Your Dataset'):\n",
    "    '''Hypothesis Test for stationarity '''\n",
    "    print(f'Augmented Dickey Fuller Test for the dataset {title}')\n",
    "    \n",
    "    result = adfuller(series.dropna(),autolag='AIC')\n",
    "    labels = ['ADF test statistics','p-value','#lags','#observations'] # use help(adfuller) to understand why these labels are chosen\n",
    "    \n",
    "    outcome = pd.Series(result[0:4],index=labels)\n",
    "    \n",
    "    for key,val in result[4].items():\n",
    "        outcome[f'critical value ({key})'] = val\n",
    "        \n",
    "    print(outcome.to_string()) # this will not print the line 'dtype:float64'\n",
    "    \n",
    "    if result[1] <= 0.05:\n",
    "        print('Strong evidence against the null hypothesis') # Ho is Data is not stationary, check help(adfuller)\n",
    "        print('Reject the null hypothesis')\n",
    "        print('Data is Stationary')\n",
    "    else:\n",
    "        print('Weak evidence against the Null hypothesis')\n",
    "        print('Fail to reject the null hypothesis')\n",
    "        print('Data has a unit root and is non stationary')\n",
    "        \n",
    "    \n",
    "    \n",
    "    "
   ]
  },
  {
   "cell_type": "code",
   "execution_count": 11,
   "metadata": {
    "execution": {
     "iopub.execute_input": "2020-12-11T05:22:58.292592Z",
     "iopub.status.busy": "2020-12-11T05:22:58.291784Z",
     "iopub.status.idle": "2020-12-11T05:22:58.365465Z",
     "shell.execute_reply": "2020-12-11T05:22:58.366629Z"
    },
    "papermill": {
     "duration": 0.125643,
     "end_time": "2020-12-11T05:22:58.366865",
     "exception": false,
     "start_time": "2020-12-11T05:22:58.241222",
     "status": "completed"
    },
    "tags": []
   },
   "outputs": [
    {
     "name": "stdout",
     "output_type": "stream",
     "text": [
      "Augmented Dickey Fuller Test for the dataset Money\n",
      "ADF test statistics       4.239022\n",
      "p-value                   1.000000\n",
      "#lags                     4.000000\n",
      "#observations           247.000000\n",
      "critical value (1%)      -3.457105\n",
      "critical value (5%)      -2.873314\n",
      "critical value (10%)     -2.573044\n",
      "Weak evidence against the Null hypothesis\n",
      "Fail to reject the null hypothesis\n",
      "Data has a unit root and is non stationary\n"
     ]
    }
   ],
   "source": [
    "dickey_fuller(df['Money'],title='Money')"
   ]
  },
  {
   "cell_type": "code",
   "execution_count": 12,
   "metadata": {
    "execution": {
     "iopub.execute_input": "2020-12-11T05:22:58.501350Z",
     "iopub.status.busy": "2020-12-11T05:22:58.500470Z",
     "iopub.status.idle": "2020-12-11T05:22:58.607042Z",
     "shell.execute_reply": "2020-12-11T05:22:58.607714Z"
    },
    "papermill": {
     "duration": 0.176147,
     "end_time": "2020-12-11T05:22:58.607889",
     "exception": false,
     "start_time": "2020-12-11T05:22:58.431742",
     "status": "completed"
    },
    "tags": []
   },
   "outputs": [
    {
     "name": "stdout",
     "output_type": "stream",
     "text": [
      "Augmented Dickey Fuller Test for the dataset Spending\n",
      "ADF test statistics       0.149796\n",
      "p-value                   0.969301\n",
      "#lags                     3.000000\n",
      "#observations           248.000000\n",
      "critical value (1%)      -3.456996\n",
      "critical value (5%)      -2.873266\n",
      "critical value (10%)     -2.573019\n",
      "Weak evidence against the Null hypothesis\n",
      "Fail to reject the null hypothesis\n",
      "Data has a unit root and is non stationary\n"
     ]
    }
   ],
   "source": [
    "dickey_fuller(df['Spending'],title='Spending')"
   ]
  },
  {
   "cell_type": "markdown",
   "metadata": {
    "papermill": {
     "duration": 0.05221,
     "end_time": "2020-12-11T05:22:58.717035",
     "exception": false,
     "start_time": "2020-12-11T05:22:58.664825",
     "status": "completed"
    },
    "tags": []
   },
   "source": [
    "So both the Money and the Spending is non stationary. We will take the first order difference of the entire dataframe and re-run the dickey fuller test and store it in a separate dataframe so that the original dataframe is retained. "
   ]
  },
  {
   "cell_type": "code",
   "execution_count": 13,
   "metadata": {
    "execution": {
     "iopub.execute_input": "2020-12-11T05:22:58.808814Z",
     "iopub.status.busy": "2020-12-11T05:22:58.807801Z",
     "iopub.status.idle": "2020-12-11T05:22:58.810859Z",
     "shell.execute_reply": "2020-12-11T05:22:58.810188Z"
    },
    "papermill": {
     "duration": 0.05052,
     "end_time": "2020-12-11T05:22:58.810959",
     "exception": false,
     "start_time": "2020-12-11T05:22:58.760439",
     "status": "completed"
    },
    "tags": []
   },
   "outputs": [],
   "source": [
    "df_diff = df.diff() # by default, diff performs the first order difference"
   ]
  },
  {
   "cell_type": "code",
   "execution_count": 14,
   "metadata": {
    "execution": {
     "iopub.execute_input": "2020-12-11T05:22:58.907079Z",
     "iopub.status.busy": "2020-12-11T05:22:58.906289Z",
     "iopub.status.idle": "2020-12-11T05:22:58.910317Z",
     "shell.execute_reply": "2020-12-11T05:22:58.909819Z"
    },
    "papermill": {
     "duration": 0.056329,
     "end_time": "2020-12-11T05:22:58.910415",
     "exception": false,
     "start_time": "2020-12-11T05:22:58.854086",
     "status": "completed"
    },
    "tags": []
   },
   "outputs": [
    {
     "data": {
      "text/html": [
       "<div>\n",
       "<style scoped>\n",
       "    .dataframe tbody tr th:only-of-type {\n",
       "        vertical-align: middle;\n",
       "    }\n",
       "\n",
       "    .dataframe tbody tr th {\n",
       "        vertical-align: top;\n",
       "    }\n",
       "\n",
       "    .dataframe thead th {\n",
       "        text-align: right;\n",
       "    }\n",
       "</style>\n",
       "<table border=\"1\" class=\"dataframe\">\n",
       "  <thead>\n",
       "    <tr style=\"text-align: right;\">\n",
       "      <th></th>\n",
       "      <th>Money</th>\n",
       "      <th>Spending</th>\n",
       "    </tr>\n",
       "    <tr>\n",
       "      <th>Date</th>\n",
       "      <th></th>\n",
       "      <th></th>\n",
       "    </tr>\n",
       "  </thead>\n",
       "  <tbody>\n",
       "    <tr>\n",
       "      <th>1995-01-01</th>\n",
       "      <td>NaN</td>\n",
       "      <td>NaN</td>\n",
       "    </tr>\n",
       "    <tr>\n",
       "      <th>1995-02-01</th>\n",
       "      <td>-2.5</td>\n",
       "      <td>-0.4</td>\n",
       "    </tr>\n",
       "    <tr>\n",
       "      <th>1995-03-01</th>\n",
       "      <td>1.2</td>\n",
       "      <td>34.6</td>\n",
       "    </tr>\n",
       "    <tr>\n",
       "      <th>1995-04-01</th>\n",
       "      <td>8.1</td>\n",
       "      <td>4.8</td>\n",
       "    </tr>\n",
       "    <tr>\n",
       "      <th>1995-05-01</th>\n",
       "      <td>25.0</td>\n",
       "      <td>42.9</td>\n",
       "    </tr>\n",
       "  </tbody>\n",
       "</table>\n",
       "</div>"
      ],
      "text/plain": [
       "            Money  Spending\n",
       "Date                       \n",
       "1995-01-01    NaN       NaN\n",
       "1995-02-01   -2.5      -0.4\n",
       "1995-03-01    1.2      34.6\n",
       "1995-04-01    8.1       4.8\n",
       "1995-05-01   25.0      42.9"
      ]
     },
     "execution_count": 14,
     "metadata": {},
     "output_type": "execute_result"
    }
   ],
   "source": [
    "df_diff.head()"
   ]
  },
  {
   "cell_type": "markdown",
   "metadata": {
    "papermill": {
     "duration": 0.045288,
     "end_time": "2020-12-11T05:22:58.999328",
     "exception": false,
     "start_time": "2020-12-11T05:22:58.954040",
     "status": "completed"
    },
    "tags": []
   },
   "source": [
    "There is NaN introduced due to the first order difference. So lets drop this missing value row."
   ]
  },
  {
   "cell_type": "code",
   "execution_count": 15,
   "metadata": {
    "execution": {
     "iopub.execute_input": "2020-12-11T05:22:59.094961Z",
     "iopub.status.busy": "2020-12-11T05:22:59.094282Z",
     "iopub.status.idle": "2020-12-11T05:22:59.114079Z",
     "shell.execute_reply": "2020-12-11T05:22:59.113557Z"
    },
    "papermill": {
     "duration": 0.06903,
     "end_time": "2020-12-11T05:22:59.114203",
     "exception": false,
     "start_time": "2020-12-11T05:22:59.045173",
     "status": "completed"
    },
    "tags": []
   },
   "outputs": [],
   "source": [
    "df_diff = df_diff.dropna()"
   ]
  },
  {
   "cell_type": "code",
   "execution_count": 16,
   "metadata": {
    "execution": {
     "iopub.execute_input": "2020-12-11T05:22:59.209285Z",
     "iopub.status.busy": "2020-12-11T05:22:59.208702Z",
     "iopub.status.idle": "2020-12-11T05:22:59.231917Z",
     "shell.execute_reply": "2020-12-11T05:22:59.232449Z"
    },
    "papermill": {
     "duration": 0.07416,
     "end_time": "2020-12-11T05:22:59.232584",
     "exception": false,
     "start_time": "2020-12-11T05:22:59.158424",
     "status": "completed"
    },
    "tags": []
   },
   "outputs": [
    {
     "name": "stdout",
     "output_type": "stream",
     "text": [
      "Augmented Dickey Fuller Test for the dataset Money 1st Order Diff\n",
      "ADF test statistics      -2.057404\n",
      "p-value                   0.261984\n",
      "#lags                    15.000000\n",
      "#observations           235.000000\n",
      "critical value (1%)      -3.458487\n",
      "critical value (5%)      -2.873919\n",
      "critical value (10%)     -2.573367\n",
      "Weak evidence against the Null hypothesis\n",
      "Fail to reject the null hypothesis\n",
      "Data has a unit root and is non stationary\n"
     ]
    }
   ],
   "source": [
    "dickey_fuller(df_diff['Money'],title='Money 1st Order Diff')"
   ]
  },
  {
   "cell_type": "code",
   "execution_count": 17,
   "metadata": {
    "execution": {
     "iopub.execute_input": "2020-12-11T05:22:59.330053Z",
     "iopub.status.busy": "2020-12-11T05:22:59.329500Z",
     "iopub.status.idle": "2020-12-11T05:22:59.349123Z",
     "shell.execute_reply": "2020-12-11T05:22:59.348439Z"
    },
    "papermill": {
     "duration": 0.069246,
     "end_time": "2020-12-11T05:22:59.349243",
     "exception": false,
     "start_time": "2020-12-11T05:22:59.279997",
     "status": "completed"
    },
    "tags": []
   },
   "outputs": [
    {
     "name": "stdout",
     "output_type": "stream",
     "text": [
      "Augmented Dickey Fuller Test for the dataset Spending 1st Order Diff\n",
      "ADF test statistics    -7.226974e+00\n",
      "p-value                 2.041027e-10\n",
      "#lags                   2.000000e+00\n",
      "#observations           2.480000e+02\n",
      "critical value (1%)    -3.456996e+00\n",
      "critical value (5%)    -2.873266e+00\n",
      "critical value (10%)   -2.573019e+00\n",
      "Strong evidence against the null hypothesis\n",
      "Reject the null hypothesis\n",
      "Data is Stationary\n"
     ]
    }
   ],
   "source": [
    "dickey_fuller(df_diff['Spending'],title='Spending 1st Order Diff')"
   ]
  },
  {
   "cell_type": "markdown",
   "metadata": {
    "papermill": {
     "duration": 0.046652,
     "end_time": "2020-12-11T05:22:59.442543",
     "exception": false,
     "start_time": "2020-12-11T05:22:59.395891",
     "status": "completed"
    },
    "tags": []
   },
   "source": [
    "Money feature is still not stationary while Spending is stationary after the first order difference. I will take the second order difference of both the series so that they retain the same shape. Rerun the dickey fuller test for stationarity."
   ]
  },
  {
   "cell_type": "code",
   "execution_count": 18,
   "metadata": {
    "execution": {
     "iopub.execute_input": "2020-12-11T05:22:59.547041Z",
     "iopub.status.busy": "2020-12-11T05:22:59.546409Z",
     "iopub.status.idle": "2020-12-11T05:22:59.565680Z",
     "shell.execute_reply": "2020-12-11T05:22:59.566298Z"
    },
    "papermill": {
     "duration": 0.074752,
     "end_time": "2020-12-11T05:22:59.566455",
     "exception": false,
     "start_time": "2020-12-11T05:22:59.491703",
     "status": "completed"
    },
    "tags": []
   },
   "outputs": [
    {
     "name": "stdout",
     "output_type": "stream",
     "text": [
      "Augmented Dickey Fuller Test for the dataset Money 2nd Order Diff\n",
      "ADF test statistics    -7.077471e+00\n",
      "p-value                 4.760675e-10\n",
      "#lags                   1.400000e+01\n",
      "#observations           2.350000e+02\n",
      "critical value (1%)    -3.458487e+00\n",
      "critical value (5%)    -2.873919e+00\n",
      "critical value (10%)   -2.573367e+00\n",
      "Strong evidence against the null hypothesis\n",
      "Reject the null hypothesis\n",
      "Data is Stationary\n"
     ]
    }
   ],
   "source": [
    "df_diff = df_diff.diff().dropna()\n",
    "dickey_fuller(df_diff['Money'],title='Money 2nd Order Diff')"
   ]
  },
  {
   "cell_type": "code",
   "execution_count": 19,
   "metadata": {
    "execution": {
     "iopub.execute_input": "2020-12-11T05:22:59.665992Z",
     "iopub.status.busy": "2020-12-11T05:22:59.665392Z",
     "iopub.status.idle": "2020-12-11T05:22:59.684885Z",
     "shell.execute_reply": "2020-12-11T05:22:59.684196Z"
    },
    "papermill": {
     "duration": 0.071095,
     "end_time": "2020-12-11T05:22:59.684991",
     "exception": false,
     "start_time": "2020-12-11T05:22:59.613896",
     "status": "completed"
    },
    "tags": []
   },
   "outputs": [
    {
     "name": "stdout",
     "output_type": "stream",
     "text": [
      "Augmented Dickey Fuller Test for the dataset Spending 2nd Order Diff\n",
      "ADF test statistics    -8.760145e+00\n",
      "p-value                 2.687900e-14\n",
      "#lags                   8.000000e+00\n",
      "#observations           2.410000e+02\n",
      "critical value (1%)    -3.457779e+00\n",
      "critical value (5%)    -2.873609e+00\n",
      "critical value (10%)   -2.573202e+00\n",
      "Strong evidence against the null hypothesis\n",
      "Reject the null hypothesis\n",
      "Data is Stationary\n"
     ]
    }
   ],
   "source": [
    "dickey_fuller(df_diff['Spending'],title='Spending 2nd Order Diff')"
   ]
  },
  {
   "cell_type": "markdown",
   "metadata": {
    "papermill": {
     "duration": 0.047358,
     "end_time": "2020-12-11T05:22:59.780707",
     "exception": false,
     "start_time": "2020-12-11T05:22:59.733349",
     "status": "completed"
    },
    "tags": []
   },
   "source": [
    "Now, both the correlated features - Money and Spending are stationary. Hence we are good to go with the remaining steps of training, test predictions and finally forecasting into the future."
   ]
  },
  {
   "cell_type": "code",
   "execution_count": 20,
   "metadata": {
    "execution": {
     "iopub.execute_input": "2020-12-11T05:22:59.885274Z",
     "iopub.status.busy": "2020-12-11T05:22:59.884404Z",
     "iopub.status.idle": "2020-12-11T05:22:59.888227Z",
     "shell.execute_reply": "2020-12-11T05:22:59.888736Z"
    },
    "papermill": {
     "duration": 0.060099,
     "end_time": "2020-12-11T05:22:59.888849",
     "exception": false,
     "start_time": "2020-12-11T05:22:59.828750",
     "status": "completed"
    },
    "tags": []
   },
   "outputs": [
    {
     "data": {
      "text/html": [
       "<div>\n",
       "<style scoped>\n",
       "    .dataframe tbody tr th:only-of-type {\n",
       "        vertical-align: middle;\n",
       "    }\n",
       "\n",
       "    .dataframe tbody tr th {\n",
       "        vertical-align: top;\n",
       "    }\n",
       "\n",
       "    .dataframe thead th {\n",
       "        text-align: right;\n",
       "    }\n",
       "</style>\n",
       "<table border=\"1\" class=\"dataframe\">\n",
       "  <thead>\n",
       "    <tr style=\"text-align: right;\">\n",
       "      <th></th>\n",
       "      <th>Money</th>\n",
       "      <th>Spending</th>\n",
       "    </tr>\n",
       "    <tr>\n",
       "      <th>Date</th>\n",
       "      <th></th>\n",
       "      <th></th>\n",
       "    </tr>\n",
       "  </thead>\n",
       "  <tbody>\n",
       "    <tr>\n",
       "      <th>1995-03-01</th>\n",
       "      <td>3.7</td>\n",
       "      <td>35.0</td>\n",
       "    </tr>\n",
       "    <tr>\n",
       "      <th>1995-04-01</th>\n",
       "      <td>6.9</td>\n",
       "      <td>-29.8</td>\n",
       "    </tr>\n",
       "    <tr>\n",
       "      <th>1995-05-01</th>\n",
       "      <td>16.9</td>\n",
       "      <td>38.1</td>\n",
       "    </tr>\n",
       "    <tr>\n",
       "      <th>1995-06-01</th>\n",
       "      <td>-0.3</td>\n",
       "      <td>1.5</td>\n",
       "    </tr>\n",
       "    <tr>\n",
       "      <th>1995-07-01</th>\n",
       "      <td>-6.2</td>\n",
       "      <td>-51.7</td>\n",
       "    </tr>\n",
       "  </tbody>\n",
       "</table>\n",
       "</div>"
      ],
      "text/plain": [
       "            Money  Spending\n",
       "Date                       \n",
       "1995-03-01    3.7      35.0\n",
       "1995-04-01    6.9     -29.8\n",
       "1995-05-01   16.9      38.1\n",
       "1995-06-01   -0.3       1.5\n",
       "1995-07-01   -6.2     -51.7"
      ]
     },
     "execution_count": 20,
     "metadata": {},
     "output_type": "execute_result"
    }
   ],
   "source": [
    "df_diff.head()"
   ]
  },
  {
   "cell_type": "code",
   "execution_count": 21,
   "metadata": {
    "execution": {
     "iopub.execute_input": "2020-12-11T05:22:59.987444Z",
     "iopub.status.busy": "2020-12-11T05:22:59.986773Z",
     "iopub.status.idle": "2020-12-11T05:22:59.990805Z",
     "shell.execute_reply": "2020-12-11T05:22:59.990298Z"
    },
    "papermill": {
     "duration": 0.053958,
     "end_time": "2020-12-11T05:22:59.990898",
     "exception": false,
     "start_time": "2020-12-11T05:22:59.936940",
     "status": "completed"
    },
    "tags": []
   },
   "outputs": [
    {
     "data": {
      "text/plain": [
       "250"
      ]
     },
     "execution_count": 21,
     "metadata": {},
     "output_type": "execute_result"
    }
   ],
   "source": [
    "# check the length of the transformed df -- > should be 2 rows lesser than the original\n",
    "len(df_diff)"
   ]
  },
  {
   "cell_type": "markdown",
   "metadata": {
    "papermill": {
     "duration": 0.048033,
     "end_time": "2020-12-11T05:23:00.087651",
     "exception": false,
     "start_time": "2020-12-11T05:23:00.039618",
     "status": "completed"
    },
    "tags": []
   },
   "source": [
    "## Train Test Split\n"
   ]
  },
  {
   "cell_type": "code",
   "execution_count": 22,
   "metadata": {
    "execution": {
     "iopub.execute_input": "2020-12-11T05:23:00.193851Z",
     "iopub.status.busy": "2020-12-11T05:23:00.193075Z",
     "iopub.status.idle": "2020-12-11T05:23:00.195846Z",
     "shell.execute_reply": "2020-12-11T05:23:00.195217Z"
    },
    "papermill": {
     "duration": 0.058098,
     "end_time": "2020-12-11T05:23:00.195955",
     "exception": false,
     "start_time": "2020-12-11T05:23:00.137857",
     "status": "completed"
    },
    "tags": []
   },
   "outputs": [],
   "source": [
    "nobs = 12\n",
    "train = df_diff[:-nobs]\n",
    "test = df_diff[-nobs:]"
   ]
  },
  {
   "cell_type": "code",
   "execution_count": 23,
   "metadata": {
    "execution": {
     "iopub.execute_input": "2020-12-11T05:23:00.320899Z",
     "iopub.status.busy": "2020-12-11T05:23:00.320022Z",
     "iopub.status.idle": "2020-12-11T05:23:00.324918Z",
     "shell.execute_reply": "2020-12-11T05:23:00.324439Z"
    },
    "papermill": {
     "duration": 0.071795,
     "end_time": "2020-12-11T05:23:00.325018",
     "exception": false,
     "start_time": "2020-12-11T05:23:00.253223",
     "status": "completed"
    },
    "tags": []
   },
   "outputs": [
    {
     "data": {
      "text/plain": [
       "(238, 12)"
      ]
     },
     "execution_count": 23,
     "metadata": {},
     "output_type": "execute_result"
    }
   ],
   "source": [
    "len(train), len(test)"
   ]
  },
  {
   "cell_type": "markdown",
   "metadata": {
    "papermill": {
     "duration": 0.047418,
     "end_time": "2020-12-11T05:23:00.426007",
     "exception": false,
     "start_time": "2020-12-11T05:23:00.378589",
     "status": "completed"
    },
    "tags": []
   },
   "source": [
    "## VAR Model Order Selection \n",
    "VAR(p) of order p\n",
    "\n",
    "So far in my other notebooks on time series on ARIMA and SARIMA, I used the auto_arima from pmdarima library. That method won't work here to determine the order of the VAR model. I will test this manually with a list of order p values and select the p value which returns the minimum AIC or BIC metric. Check Akaike Information Criterion and Bayesian Information Criterion for more details."
   ]
  },
  {
   "cell_type": "code",
   "execution_count": 24,
   "metadata": {
    "execution": {
     "iopub.execute_input": "2020-12-11T05:23:00.535650Z",
     "iopub.status.busy": "2020-12-11T05:23:00.534843Z",
     "iopub.status.idle": "2020-12-11T05:23:00.577982Z",
     "shell.execute_reply": "2020-12-11T05:23:00.577360Z"
    },
    "papermill": {
     "duration": 0.103467,
     "end_time": "2020-12-11T05:23:00.578082",
     "exception": false,
     "start_time": "2020-12-11T05:23:00.474615",
     "status": "completed"
    },
    "tags": []
   },
   "outputs": [
    {
     "name": "stdout",
     "output_type": "stream",
     "text": [
      "VAR Order 1\n",
      "AIC 14.178610495220896\n",
      "BIC 14.266409486135709\n",
      "\n",
      "VAR Order 2\n",
      "AIC 13.955189367163705\n",
      "BIC 14.101961901274958\n",
      "\n",
      "VAR Order 3\n",
      "AIC 13.849518291541038\n",
      "BIC 14.055621258341116\n",
      "\n",
      "VAR Order 4\n",
      "AIC 13.827950574458281\n",
      "BIC 14.093744506408875\n",
      "\n",
      "VAR Order 5\n",
      "AIC 13.78730034460964\n",
      "BIC 14.113149468980652\n",
      "\n",
      "VAR Order 6\n",
      "AIC 13.799076756885807\n",
      "BIC 14.185349048538066\n",
      "\n",
      "VAR Order 7\n",
      "AIC 13.797638727913972\n",
      "BIC 14.244705963046671\n",
      "\n"
     ]
    }
   ],
   "source": [
    "p = [1,2,3,4,5,6,7]  # try with list of 7 p values\n",
    "\n",
    "for i in p:\n",
    "    model = VAR(train)\n",
    "    results = model.fit(i)\n",
    "    print(f'VAR Order {i}')\n",
    "    print('AIC {}'.format(results.aic))\n",
    "    print('BIC {}'.format(results.bic))\n",
    "    print()"
   ]
  },
  {
   "cell_type": "markdown",
   "metadata": {
    "papermill": {
     "duration": 0.050441,
     "end_time": "2020-12-11T05:23:00.680458",
     "exception": false,
     "start_time": "2020-12-11T05:23:00.630017",
     "status": "completed"
    },
    "tags": []
   },
   "source": [
    "Order 5 has the least AIC value. Lets select p = 5 in the modeling."
   ]
  },
  {
   "cell_type": "code",
   "execution_count": 25,
   "metadata": {
    "execution": {
     "iopub.execute_input": "2020-12-11T05:23:00.787427Z",
     "iopub.status.busy": "2020-12-11T05:23:00.786624Z",
     "iopub.status.idle": "2020-12-11T05:23:00.790246Z",
     "shell.execute_reply": "2020-12-11T05:23:00.790754Z"
    },
    "papermill": {
     "duration": 0.059485,
     "end_time": "2020-12-11T05:23:00.790877",
     "exception": false,
     "start_time": "2020-12-11T05:23:00.731392",
     "status": "completed"
    },
    "tags": []
   },
   "outputs": [
    {
     "data": {
      "text/plain": [
       "['Money', 'Spending']"
      ]
     },
     "execution_count": 25,
     "metadata": {},
     "output_type": "execute_result"
    }
   ],
   "source": [
    "# lets confirm that both the variables are included in the model\n",
    "model.endog_names"
   ]
  },
  {
   "cell_type": "markdown",
   "metadata": {
    "papermill": {
     "duration": 0.052572,
     "end_time": "2020-12-11T05:23:00.894914",
     "exception": false,
     "start_time": "2020-12-11T05:23:00.842342",
     "status": "completed"
    },
    "tags": []
   },
   "source": [
    "## Fit the VAR(5) model"
   ]
  },
  {
   "cell_type": "code",
   "execution_count": 26,
   "metadata": {
    "execution": {
     "iopub.execute_input": "2020-12-11T05:23:01.004034Z",
     "iopub.status.busy": "2020-12-11T05:23:01.003222Z",
     "iopub.status.idle": "2020-12-11T05:23:01.031877Z",
     "shell.execute_reply": "2020-12-11T05:23:01.031305Z"
    },
    "papermill": {
     "duration": 0.085582,
     "end_time": "2020-12-11T05:23:01.031973",
     "exception": false,
     "start_time": "2020-12-11T05:23:00.946391",
     "status": "completed"
    },
    "tags": []
   },
   "outputs": [
    {
     "data": {
      "text/plain": [
       "  Summary of Regression Results   \n",
       "==================================\n",
       "Model:                         VAR\n",
       "Method:                        OLS\n",
       "Date:           Fri, 11, Dec, 2020\n",
       "Time:                     05:23:01\n",
       "--------------------------------------------------------------------\n",
       "No. of Equations:         2.00000    BIC:                    14.1131\n",
       "Nobs:                     233.000    HQIC:                   13.9187\n",
       "Log likelihood:          -2245.45    FPE:                    972321.\n",
       "AIC:                      13.7873    Det(Omega_mle):         886628.\n",
       "--------------------------------------------------------------------\n",
       "Results for equation Money\n",
       "==============================================================================\n",
       "                 coefficient       std. error           t-stat            prob\n",
       "------------------------------------------------------------------------------\n",
       "const               0.516683         1.782238            0.290           0.772\n",
       "L1.Money           -0.646232         0.068177           -9.479           0.000\n",
       "L1.Spending        -0.107411         0.051388           -2.090           0.037\n",
       "L2.Money           -0.497482         0.077749           -6.399           0.000\n",
       "L2.Spending        -0.192202         0.068613           -2.801           0.005\n",
       "L3.Money           -0.234442         0.081004           -2.894           0.004\n",
       "L3.Spending        -0.178099         0.074288           -2.397           0.017\n",
       "L4.Money           -0.295531         0.075294           -3.925           0.000\n",
       "L4.Spending        -0.035564         0.069664           -0.511           0.610\n",
       "L5.Money           -0.162399         0.066700           -2.435           0.015\n",
       "L5.Spending        -0.058449         0.051357           -1.138           0.255\n",
       "==============================================================================\n",
       "\n",
       "Results for equation Spending\n",
       "==============================================================================\n",
       "                 coefficient       std. error           t-stat            prob\n",
       "------------------------------------------------------------------------------\n",
       "const               0.203469         2.355446            0.086           0.931\n",
       "L1.Money            0.188105         0.090104            2.088           0.037\n",
       "L1.Spending        -0.878970         0.067916          -12.942           0.000\n",
       "L2.Money            0.053017         0.102755            0.516           0.606\n",
       "L2.Spending        -0.625313         0.090681           -6.896           0.000\n",
       "L3.Money           -0.022172         0.107057           -0.207           0.836\n",
       "L3.Spending        -0.389041         0.098180           -3.963           0.000\n",
       "L4.Money           -0.170456         0.099510           -1.713           0.087\n",
       "L4.Spending        -0.245435         0.092069           -2.666           0.008\n",
       "L5.Money           -0.083165         0.088153           -0.943           0.345\n",
       "L5.Spending        -0.181699         0.067874           -2.677           0.007\n",
       "==============================================================================\n",
       "\n",
       "Correlation matrix of residuals\n",
       "               Money  Spending\n",
       "Money       1.000000 -0.267934\n",
       "Spending   -0.267934  1.000000\n",
       "\n"
      ]
     },
     "execution_count": 26,
     "metadata": {},
     "output_type": "execute_result"
    }
   ],
   "source": [
    "results = model.fit(5)\n",
    "results.summary()"
   ]
  },
  {
   "cell_type": "markdown",
   "metadata": {
    "papermill": {
     "duration": 0.050232,
     "end_time": "2020-12-11T05:23:01.134221",
     "exception": false,
     "start_time": "2020-12-11T05:23:01.083989",
     "status": "completed"
    },
    "tags": []
   },
   "source": [
    "Check the correlation matrix printed at the last. "
   ]
  },
  {
   "cell_type": "markdown",
   "metadata": {
    "papermill": {
     "duration": 0.060931,
     "end_time": "2020-12-11T05:23:01.246747",
     "exception": false,
     "start_time": "2020-12-11T05:23:01.185816",
     "status": "completed"
    },
    "tags": []
   },
   "source": [
    "## Predict the next 12 values\n",
    "For predictions, VAR model uses .forecast() instead of predictions. This is similar to theHolt Winters. One of the requirement for VAR model is that we need to pass the lag order of the number of previous observations as well. Unfortunately, this lag order does not have the datetime index and hence we will have to build this ourselves."
   ]
  },
  {
   "cell_type": "code",
   "execution_count": 27,
   "metadata": {
    "execution": {
     "iopub.execute_input": "2020-12-11T05:23:01.351996Z",
     "iopub.status.busy": "2020-12-11T05:23:01.351099Z",
     "iopub.status.idle": "2020-12-11T05:23:01.354992Z",
     "shell.execute_reply": "2020-12-11T05:23:01.354357Z"
    },
    "papermill": {
     "duration": 0.057889,
     "end_time": "2020-12-11T05:23:01.355095",
     "exception": false,
     "start_time": "2020-12-11T05:23:01.297206",
     "status": "completed"
    },
    "tags": []
   },
   "outputs": [
    {
     "data": {
      "text/plain": [
       "5"
      ]
     },
     "execution_count": 27,
     "metadata": {},
     "output_type": "execute_result"
    }
   ],
   "source": [
    "lag_order = results.k_ar\n",
    "lag_order"
   ]
  },
  {
   "cell_type": "code",
   "execution_count": 28,
   "metadata": {
    "execution": {
     "iopub.execute_input": "2020-12-11T05:23:01.462133Z",
     "iopub.status.busy": "2020-12-11T05:23:01.461541Z",
     "iopub.status.idle": "2020-12-11T05:23:01.466823Z",
     "shell.execute_reply": "2020-12-11T05:23:01.467431Z"
    },
    "papermill": {
     "duration": 0.060408,
     "end_time": "2020-12-11T05:23:01.467553",
     "exception": false,
     "start_time": "2020-12-11T05:23:01.407145",
     "status": "completed"
    },
    "tags": []
   },
   "outputs": [
    {
     "data": {
      "text/plain": [
       "array([[-16.99527634,  36.14982003],\n",
       "       [ -3.17403756, -11.45029844],\n",
       "       [ -0.377725  ,  -6.68496939],\n",
       "       [ -2.60223305,   5.47945777],\n",
       "       [  4.228557  ,  -2.44336505],\n",
       "       [  1.55939341,   0.38763902],\n",
       "       [ -0.99841027,   3.88368011],\n",
       "       [  0.36451042,  -2.3561014 ],\n",
       "       [ -1.21062726,  -1.22414652],\n",
       "       [  0.22587712,   0.786927  ],\n",
       "       [  1.33893884,   0.18097449],\n",
       "       [ -0.21858453,   0.21275046]])"
      ]
     },
     "execution_count": 28,
     "metadata": {},
     "output_type": "execute_result"
    }
   ],
   "source": [
    "z = results.forecast(y=train.values[-lag_order:],steps = 12)\n",
    "z"
   ]
  },
  {
   "cell_type": "code",
   "execution_count": 29,
   "metadata": {
    "execution": {
     "iopub.execute_input": "2020-12-11T05:23:01.583793Z",
     "iopub.status.busy": "2020-12-11T05:23:01.583012Z",
     "iopub.status.idle": "2020-12-11T05:23:01.586630Z",
     "shell.execute_reply": "2020-12-11T05:23:01.587098Z"
    },
    "papermill": {
     "duration": 0.064904,
     "end_time": "2020-12-11T05:23:01.587235",
     "exception": false,
     "start_time": "2020-12-11T05:23:01.522331",
     "status": "completed"
    },
    "tags": []
   },
   "outputs": [
    {
     "data": {
      "text/html": [
       "<div>\n",
       "<style scoped>\n",
       "    .dataframe tbody tr th:only-of-type {\n",
       "        vertical-align: middle;\n",
       "    }\n",
       "\n",
       "    .dataframe tbody tr th {\n",
       "        vertical-align: top;\n",
       "    }\n",
       "\n",
       "    .dataframe thead th {\n",
       "        text-align: right;\n",
       "    }\n",
       "</style>\n",
       "<table border=\"1\" class=\"dataframe\">\n",
       "  <thead>\n",
       "    <tr style=\"text-align: right;\">\n",
       "      <th></th>\n",
       "      <th>Money</th>\n",
       "      <th>Spending</th>\n",
       "    </tr>\n",
       "    <tr>\n",
       "      <th>Date</th>\n",
       "      <th></th>\n",
       "      <th></th>\n",
       "    </tr>\n",
       "  </thead>\n",
       "  <tbody>\n",
       "    <tr>\n",
       "      <th>2015-01-01</th>\n",
       "      <td>-15.5</td>\n",
       "      <td>-26.6</td>\n",
       "    </tr>\n",
       "    <tr>\n",
       "      <th>2015-02-01</th>\n",
       "      <td>56.1</td>\n",
       "      <td>52.4</td>\n",
       "    </tr>\n",
       "    <tr>\n",
       "      <th>2015-03-01</th>\n",
       "      <td>-102.8</td>\n",
       "      <td>39.5</td>\n",
       "    </tr>\n",
       "    <tr>\n",
       "      <th>2015-04-01</th>\n",
       "      <td>30.9</td>\n",
       "      <td>-40.4</td>\n",
       "    </tr>\n",
       "    <tr>\n",
       "      <th>2015-05-01</th>\n",
       "      <td>-15.8</td>\n",
       "      <td>38.8</td>\n",
       "    </tr>\n",
       "    <tr>\n",
       "      <th>2015-06-01</th>\n",
       "      <td>14.0</td>\n",
       "      <td>-34.1</td>\n",
       "    </tr>\n",
       "    <tr>\n",
       "      <th>2015-07-01</th>\n",
       "      <td>6.7</td>\n",
       "      <td>6.9</td>\n",
       "    </tr>\n",
       "    <tr>\n",
       "      <th>2015-08-01</th>\n",
       "      <td>-0.7</td>\n",
       "      <td>-8.5</td>\n",
       "    </tr>\n",
       "    <tr>\n",
       "      <th>2015-09-01</th>\n",
       "      <td>5.5</td>\n",
       "      <td>-39.8</td>\n",
       "    </tr>\n",
       "    <tr>\n",
       "      <th>2015-10-01</th>\n",
       "      <td>-23.1</td>\n",
       "      <td>24.5</td>\n",
       "    </tr>\n",
       "    <tr>\n",
       "      <th>2015-11-01</th>\n",
       "      <td>55.8</td>\n",
       "      <td>10.7</td>\n",
       "    </tr>\n",
       "    <tr>\n",
       "      <th>2015-12-01</th>\n",
       "      <td>-31.2</td>\n",
       "      <td>-15.0</td>\n",
       "    </tr>\n",
       "  </tbody>\n",
       "</table>\n",
       "</div>"
      ],
      "text/plain": [
       "            Money  Spending\n",
       "Date                       \n",
       "2015-01-01  -15.5     -26.6\n",
       "2015-02-01   56.1      52.4\n",
       "2015-03-01 -102.8      39.5\n",
       "2015-04-01   30.9     -40.4\n",
       "2015-05-01  -15.8      38.8\n",
       "2015-06-01   14.0     -34.1\n",
       "2015-07-01    6.7       6.9\n",
       "2015-08-01   -0.7      -8.5\n",
       "2015-09-01    5.5     -39.8\n",
       "2015-10-01  -23.1      24.5\n",
       "2015-11-01   55.8      10.7\n",
       "2015-12-01  -31.2     -15.0"
      ]
     },
     "execution_count": 29,
     "metadata": {},
     "output_type": "execute_result"
    }
   ],
   "source": [
    "test"
   ]
  },
  {
   "cell_type": "code",
   "execution_count": 30,
   "metadata": {
    "execution": {
     "iopub.execute_input": "2020-12-11T05:23:01.701013Z",
     "iopub.status.busy": "2020-12-11T05:23:01.700378Z",
     "iopub.status.idle": "2020-12-11T05:23:01.703333Z",
     "shell.execute_reply": "2020-12-11T05:23:01.702697Z"
    },
    "papermill": {
     "duration": 0.06312,
     "end_time": "2020-12-11T05:23:01.703424",
     "exception": false,
     "start_time": "2020-12-11T05:23:01.640304",
     "status": "completed"
    },
    "tags": []
   },
   "outputs": [],
   "source": [
    "idx = pd.date_range(start='1/1/2015',periods=12,freq='MS')\n",
    "df_forecast = pd.DataFrame(z,index=idx,columns=['Money2D','Spending2D'])"
   ]
  },
  {
   "cell_type": "code",
   "execution_count": 31,
   "metadata": {
    "execution": {
     "iopub.execute_input": "2020-12-11T05:23:01.818442Z",
     "iopub.status.busy": "2020-12-11T05:23:01.817558Z",
     "iopub.status.idle": "2020-12-11T05:23:01.821322Z",
     "shell.execute_reply": "2020-12-11T05:23:01.821868Z"
    },
    "papermill": {
     "duration": 0.065586,
     "end_time": "2020-12-11T05:23:01.821972",
     "exception": false,
     "start_time": "2020-12-11T05:23:01.756386",
     "status": "completed"
    },
    "tags": []
   },
   "outputs": [
    {
     "data": {
      "text/html": [
       "<div>\n",
       "<style scoped>\n",
       "    .dataframe tbody tr th:only-of-type {\n",
       "        vertical-align: middle;\n",
       "    }\n",
       "\n",
       "    .dataframe tbody tr th {\n",
       "        vertical-align: top;\n",
       "    }\n",
       "\n",
       "    .dataframe thead th {\n",
       "        text-align: right;\n",
       "    }\n",
       "</style>\n",
       "<table border=\"1\" class=\"dataframe\">\n",
       "  <thead>\n",
       "    <tr style=\"text-align: right;\">\n",
       "      <th></th>\n",
       "      <th>Money2D</th>\n",
       "      <th>Spending2D</th>\n",
       "    </tr>\n",
       "  </thead>\n",
       "  <tbody>\n",
       "    <tr>\n",
       "      <th>2015-01-01</th>\n",
       "      <td>-16.995276</td>\n",
       "      <td>36.149820</td>\n",
       "    </tr>\n",
       "    <tr>\n",
       "      <th>2015-02-01</th>\n",
       "      <td>-3.174038</td>\n",
       "      <td>-11.450298</td>\n",
       "    </tr>\n",
       "    <tr>\n",
       "      <th>2015-03-01</th>\n",
       "      <td>-0.377725</td>\n",
       "      <td>-6.684969</td>\n",
       "    </tr>\n",
       "    <tr>\n",
       "      <th>2015-04-01</th>\n",
       "      <td>-2.602233</td>\n",
       "      <td>5.479458</td>\n",
       "    </tr>\n",
       "    <tr>\n",
       "      <th>2015-05-01</th>\n",
       "      <td>4.228557</td>\n",
       "      <td>-2.443365</td>\n",
       "    </tr>\n",
       "  </tbody>\n",
       "</table>\n",
       "</div>"
      ],
      "text/plain": [
       "              Money2D  Spending2D\n",
       "2015-01-01 -16.995276   36.149820\n",
       "2015-02-01  -3.174038  -11.450298\n",
       "2015-03-01  -0.377725   -6.684969\n",
       "2015-04-01  -2.602233    5.479458\n",
       "2015-05-01   4.228557   -2.443365"
      ]
     },
     "execution_count": 31,
     "metadata": {},
     "output_type": "execute_result"
    }
   ],
   "source": [
    "df_forecast[:5]"
   ]
  },
  {
   "cell_type": "markdown",
   "metadata": {
    "papermill": {
     "duration": 0.056115,
     "end_time": "2020-12-11T05:23:01.934026",
     "exception": false,
     "start_time": "2020-12-11T05:23:01.877911",
     "status": "completed"
    },
    "tags": []
   },
   "source": [
    "## Invert the Transformations"
   ]
  },
  {
   "cell_type": "markdown",
   "metadata": {
    "papermill": {
     "duration": 0.053883,
     "end_time": "2020-12-11T05:23:02.042402",
     "exception": false,
     "start_time": "2020-12-11T05:23:01.988519",
     "status": "completed"
    },
    "tags": []
   },
   "source": [
    "The forecasted values represent the 2nd order difference forecast. To compare them to the original data we have to roll back each difference. To roll back a first-order difference we take the most recent value on the training side of the original series, and add it to a cumulative sum of forecasted values. When working with second-order differences we first must perform this operation on the most recent first-order difference."
   ]
  },
  {
   "cell_type": "code",
   "execution_count": 32,
   "metadata": {
    "execution": {
     "iopub.execute_input": "2020-12-11T05:23:02.153937Z",
     "iopub.status.busy": "2020-12-11T05:23:02.153157Z",
     "iopub.status.idle": "2020-12-11T05:23:02.156364Z",
     "shell.execute_reply": "2020-12-11T05:23:02.155857Z"
    },
    "papermill": {
     "duration": 0.061807,
     "end_time": "2020-12-11T05:23:02.156463",
     "exception": false,
     "start_time": "2020-12-11T05:23:02.094656",
     "status": "completed"
    },
    "tags": []
   },
   "outputs": [],
   "source": [
    "df_forecast['Money1D'] = (df['Money'].iloc[-nobs-1] - df['Money'].iloc[-nobs-2]) + df_forecast['Money2D'].cumsum()"
   ]
  },
  {
   "cell_type": "code",
   "execution_count": 33,
   "metadata": {
    "execution": {
     "iopub.execute_input": "2020-12-11T05:23:02.266352Z",
     "iopub.status.busy": "2020-12-11T05:23:02.265588Z",
     "iopub.status.idle": "2020-12-11T05:23:02.268244Z",
     "shell.execute_reply": "2020-12-11T05:23:02.268756Z"
    },
    "papermill": {
     "duration": 0.060335,
     "end_time": "2020-12-11T05:23:02.268903",
     "exception": false,
     "start_time": "2020-12-11T05:23:02.208568",
     "status": "completed"
    },
    "tags": []
   },
   "outputs": [],
   "source": [
    "# Now build the forecast values from the first difference set\n",
    "df_forecast['MoneyForecast'] = df['Money'].iloc[-nobs-1] + df_forecast['Money1D'].cumsum()"
   ]
  },
  {
   "cell_type": "code",
   "execution_count": 34,
   "metadata": {
    "execution": {
     "iopub.execute_input": "2020-12-11T05:23:02.385720Z",
     "iopub.status.busy": "2020-12-11T05:23:02.385131Z",
     "iopub.status.idle": "2020-12-11T05:23:02.389347Z",
     "shell.execute_reply": "2020-12-11T05:23:02.388707Z"
    },
    "papermill": {
     "duration": 0.067163,
     "end_time": "2020-12-11T05:23:02.389438",
     "exception": false,
     "start_time": "2020-12-11T05:23:02.322275",
     "status": "completed"
    },
    "tags": []
   },
   "outputs": [
    {
     "data": {
      "text/html": [
       "<div>\n",
       "<style scoped>\n",
       "    .dataframe tbody tr th:only-of-type {\n",
       "        vertical-align: middle;\n",
       "    }\n",
       "\n",
       "    .dataframe tbody tr th {\n",
       "        vertical-align: top;\n",
       "    }\n",
       "\n",
       "    .dataframe thead th {\n",
       "        text-align: right;\n",
       "    }\n",
       "</style>\n",
       "<table border=\"1\" class=\"dataframe\">\n",
       "  <thead>\n",
       "    <tr style=\"text-align: right;\">\n",
       "      <th></th>\n",
       "      <th>Money2D</th>\n",
       "      <th>Spending2D</th>\n",
       "      <th>Money1D</th>\n",
       "      <th>MoneyForecast</th>\n",
       "    </tr>\n",
       "  </thead>\n",
       "  <tbody>\n",
       "    <tr>\n",
       "      <th>2015-01-01</th>\n",
       "      <td>-16.995276</td>\n",
       "      <td>36.149820</td>\n",
       "      <td>61.604724</td>\n",
       "      <td>11731.704724</td>\n",
       "    </tr>\n",
       "    <tr>\n",
       "      <th>2015-02-01</th>\n",
       "      <td>-3.174038</td>\n",
       "      <td>-11.450298</td>\n",
       "      <td>58.430686</td>\n",
       "      <td>11790.135410</td>\n",
       "    </tr>\n",
       "    <tr>\n",
       "      <th>2015-03-01</th>\n",
       "      <td>-0.377725</td>\n",
       "      <td>-6.684969</td>\n",
       "      <td>58.052961</td>\n",
       "      <td>11848.188371</td>\n",
       "    </tr>\n",
       "    <tr>\n",
       "      <th>2015-04-01</th>\n",
       "      <td>-2.602233</td>\n",
       "      <td>5.479458</td>\n",
       "      <td>55.450728</td>\n",
       "      <td>11903.639099</td>\n",
       "    </tr>\n",
       "    <tr>\n",
       "      <th>2015-05-01</th>\n",
       "      <td>4.228557</td>\n",
       "      <td>-2.443365</td>\n",
       "      <td>59.679285</td>\n",
       "      <td>11963.318384</td>\n",
       "    </tr>\n",
       "    <tr>\n",
       "      <th>2015-06-01</th>\n",
       "      <td>1.559393</td>\n",
       "      <td>0.387639</td>\n",
       "      <td>61.238678</td>\n",
       "      <td>12024.557062</td>\n",
       "    </tr>\n",
       "    <tr>\n",
       "      <th>2015-07-01</th>\n",
       "      <td>-0.998410</td>\n",
       "      <td>3.883680</td>\n",
       "      <td>60.240268</td>\n",
       "      <td>12084.797331</td>\n",
       "    </tr>\n",
       "    <tr>\n",
       "      <th>2015-08-01</th>\n",
       "      <td>0.364510</td>\n",
       "      <td>-2.356101</td>\n",
       "      <td>60.604779</td>\n",
       "      <td>12145.402109</td>\n",
       "    </tr>\n",
       "    <tr>\n",
       "      <th>2015-09-01</th>\n",
       "      <td>-1.210627</td>\n",
       "      <td>-1.224147</td>\n",
       "      <td>59.394151</td>\n",
       "      <td>12204.796261</td>\n",
       "    </tr>\n",
       "    <tr>\n",
       "      <th>2015-10-01</th>\n",
       "      <td>0.225877</td>\n",
       "      <td>0.786927</td>\n",
       "      <td>59.620028</td>\n",
       "      <td>12264.416289</td>\n",
       "    </tr>\n",
       "    <tr>\n",
       "      <th>2015-11-01</th>\n",
       "      <td>1.338939</td>\n",
       "      <td>0.180974</td>\n",
       "      <td>60.958967</td>\n",
       "      <td>12325.375256</td>\n",
       "    </tr>\n",
       "    <tr>\n",
       "      <th>2015-12-01</th>\n",
       "      <td>-0.218585</td>\n",
       "      <td>0.212750</td>\n",
       "      <td>60.740383</td>\n",
       "      <td>12386.115639</td>\n",
       "    </tr>\n",
       "  </tbody>\n",
       "</table>\n",
       "</div>"
      ],
      "text/plain": [
       "              Money2D  Spending2D    Money1D  MoneyForecast\n",
       "2015-01-01 -16.995276   36.149820  61.604724   11731.704724\n",
       "2015-02-01  -3.174038  -11.450298  58.430686   11790.135410\n",
       "2015-03-01  -0.377725   -6.684969  58.052961   11848.188371\n",
       "2015-04-01  -2.602233    5.479458  55.450728   11903.639099\n",
       "2015-05-01   4.228557   -2.443365  59.679285   11963.318384\n",
       "2015-06-01   1.559393    0.387639  61.238678   12024.557062\n",
       "2015-07-01  -0.998410    3.883680  60.240268   12084.797331\n",
       "2015-08-01   0.364510   -2.356101  60.604779   12145.402109\n",
       "2015-09-01  -1.210627   -1.224147  59.394151   12204.796261\n",
       "2015-10-01   0.225877    0.786927  59.620028   12264.416289\n",
       "2015-11-01   1.338939    0.180974  60.958967   12325.375256\n",
       "2015-12-01  -0.218585    0.212750  60.740383   12386.115639"
      ]
     },
     "execution_count": 34,
     "metadata": {},
     "output_type": "execute_result"
    }
   ],
   "source": [
    "df_forecast"
   ]
  },
  {
   "cell_type": "markdown",
   "metadata": {
    "papermill": {
     "duration": 0.052956,
     "end_time": "2020-12-11T05:23:02.494879",
     "exception": false,
     "start_time": "2020-12-11T05:23:02.441923",
     "status": "completed"
    },
    "tags": []
   },
   "source": [
    "Similarly,lets do this for the spending column"
   ]
  },
  {
   "cell_type": "code",
   "execution_count": 35,
   "metadata": {
    "execution": {
     "iopub.execute_input": "2020-12-11T05:23:02.613072Z",
     "iopub.status.busy": "2020-12-11T05:23:02.612465Z",
     "iopub.status.idle": "2020-12-11T05:23:02.615268Z",
     "shell.execute_reply": "2020-12-11T05:23:02.614673Z"
    },
    "papermill": {
     "duration": 0.065992,
     "end_time": "2020-12-11T05:23:02.615359",
     "exception": false,
     "start_time": "2020-12-11T05:23:02.549367",
     "status": "completed"
    },
    "tags": []
   },
   "outputs": [],
   "source": [
    "# Add the most recent first difference from the training side of the original dataset to the forecast cumulative sum\n",
    "df_forecast['Spending1D'] = (df['Spending'].iloc[-nobs-1]-df['Spending'].iloc[-nobs-2]) + df_forecast['Spending2D'].cumsum()\n",
    "\n",
    "# Now build the forecast values from the first difference set\n",
    "df_forecast['SpendingForecast'] = df['Spending'].iloc[-nobs-1] + df_forecast['Spending1D'].cumsum()"
   ]
  },
  {
   "cell_type": "code",
   "execution_count": 36,
   "metadata": {
    "execution": {
     "iopub.execute_input": "2020-12-11T05:23:02.737450Z",
     "iopub.status.busy": "2020-12-11T05:23:02.736803Z",
     "iopub.status.idle": "2020-12-11T05:23:02.741034Z",
     "shell.execute_reply": "2020-12-11T05:23:02.740454Z"
    },
    "papermill": {
     "duration": 0.072723,
     "end_time": "2020-12-11T05:23:02.741156",
     "exception": false,
     "start_time": "2020-12-11T05:23:02.668433",
     "status": "completed"
    },
    "tags": []
   },
   "outputs": [
    {
     "data": {
      "text/html": [
       "<div>\n",
       "<style scoped>\n",
       "    .dataframe tbody tr th:only-of-type {\n",
       "        vertical-align: middle;\n",
       "    }\n",
       "\n",
       "    .dataframe tbody tr th {\n",
       "        vertical-align: top;\n",
       "    }\n",
       "\n",
       "    .dataframe thead th {\n",
       "        text-align: right;\n",
       "    }\n",
       "</style>\n",
       "<table border=\"1\" class=\"dataframe\">\n",
       "  <thead>\n",
       "    <tr style=\"text-align: right;\">\n",
       "      <th></th>\n",
       "      <th>Money2D</th>\n",
       "      <th>Spending2D</th>\n",
       "      <th>Money1D</th>\n",
       "      <th>MoneyForecast</th>\n",
       "      <th>Spending1D</th>\n",
       "      <th>SpendingForecast</th>\n",
       "    </tr>\n",
       "  </thead>\n",
       "  <tbody>\n",
       "    <tr>\n",
       "      <th>2015-01-01</th>\n",
       "      <td>-16.995276</td>\n",
       "      <td>36.149820</td>\n",
       "      <td>61.604724</td>\n",
       "      <td>11731.704724</td>\n",
       "      <td>46.749820</td>\n",
       "      <td>12108.749820</td>\n",
       "    </tr>\n",
       "    <tr>\n",
       "      <th>2015-02-01</th>\n",
       "      <td>-3.174038</td>\n",
       "      <td>-11.450298</td>\n",
       "      <td>58.430686</td>\n",
       "      <td>11790.135410</td>\n",
       "      <td>35.299522</td>\n",
       "      <td>12144.049342</td>\n",
       "    </tr>\n",
       "    <tr>\n",
       "      <th>2015-03-01</th>\n",
       "      <td>-0.377725</td>\n",
       "      <td>-6.684969</td>\n",
       "      <td>58.052961</td>\n",
       "      <td>11848.188371</td>\n",
       "      <td>28.614552</td>\n",
       "      <td>12172.663894</td>\n",
       "    </tr>\n",
       "    <tr>\n",
       "      <th>2015-04-01</th>\n",
       "      <td>-2.602233</td>\n",
       "      <td>5.479458</td>\n",
       "      <td>55.450728</td>\n",
       "      <td>11903.639099</td>\n",
       "      <td>34.094010</td>\n",
       "      <td>12206.757904</td>\n",
       "    </tr>\n",
       "    <tr>\n",
       "      <th>2015-05-01</th>\n",
       "      <td>4.228557</td>\n",
       "      <td>-2.443365</td>\n",
       "      <td>59.679285</td>\n",
       "      <td>11963.318384</td>\n",
       "      <td>31.650645</td>\n",
       "      <td>12238.408549</td>\n",
       "    </tr>\n",
       "    <tr>\n",
       "      <th>2015-06-01</th>\n",
       "      <td>1.559393</td>\n",
       "      <td>0.387639</td>\n",
       "      <td>61.238678</td>\n",
       "      <td>12024.557062</td>\n",
       "      <td>32.038284</td>\n",
       "      <td>12270.446833</td>\n",
       "    </tr>\n",
       "    <tr>\n",
       "      <th>2015-07-01</th>\n",
       "      <td>-0.998410</td>\n",
       "      <td>3.883680</td>\n",
       "      <td>60.240268</td>\n",
       "      <td>12084.797331</td>\n",
       "      <td>35.921964</td>\n",
       "      <td>12306.368797</td>\n",
       "    </tr>\n",
       "    <tr>\n",
       "      <th>2015-08-01</th>\n",
       "      <td>0.364510</td>\n",
       "      <td>-2.356101</td>\n",
       "      <td>60.604779</td>\n",
       "      <td>12145.402109</td>\n",
       "      <td>33.565863</td>\n",
       "      <td>12339.934659</td>\n",
       "    </tr>\n",
       "    <tr>\n",
       "      <th>2015-09-01</th>\n",
       "      <td>-1.210627</td>\n",
       "      <td>-1.224147</td>\n",
       "      <td>59.394151</td>\n",
       "      <td>12204.796261</td>\n",
       "      <td>32.341716</td>\n",
       "      <td>12372.276375</td>\n",
       "    </tr>\n",
       "    <tr>\n",
       "      <th>2015-10-01</th>\n",
       "      <td>0.225877</td>\n",
       "      <td>0.786927</td>\n",
       "      <td>59.620028</td>\n",
       "      <td>12264.416289</td>\n",
       "      <td>33.128643</td>\n",
       "      <td>12405.405019</td>\n",
       "    </tr>\n",
       "    <tr>\n",
       "      <th>2015-11-01</th>\n",
       "      <td>1.338939</td>\n",
       "      <td>0.180974</td>\n",
       "      <td>60.958967</td>\n",
       "      <td>12325.375256</td>\n",
       "      <td>33.309618</td>\n",
       "      <td>12438.714636</td>\n",
       "    </tr>\n",
       "    <tr>\n",
       "      <th>2015-12-01</th>\n",
       "      <td>-0.218585</td>\n",
       "      <td>0.212750</td>\n",
       "      <td>60.740383</td>\n",
       "      <td>12386.115639</td>\n",
       "      <td>33.522368</td>\n",
       "      <td>12472.237004</td>\n",
       "    </tr>\n",
       "  </tbody>\n",
       "</table>\n",
       "</div>"
      ],
      "text/plain": [
       "              Money2D  Spending2D    Money1D  MoneyForecast  Spending1D  \\\n",
       "2015-01-01 -16.995276   36.149820  61.604724   11731.704724   46.749820   \n",
       "2015-02-01  -3.174038  -11.450298  58.430686   11790.135410   35.299522   \n",
       "2015-03-01  -0.377725   -6.684969  58.052961   11848.188371   28.614552   \n",
       "2015-04-01  -2.602233    5.479458  55.450728   11903.639099   34.094010   \n",
       "2015-05-01   4.228557   -2.443365  59.679285   11963.318384   31.650645   \n",
       "2015-06-01   1.559393    0.387639  61.238678   12024.557062   32.038284   \n",
       "2015-07-01  -0.998410    3.883680  60.240268   12084.797331   35.921964   \n",
       "2015-08-01   0.364510   -2.356101  60.604779   12145.402109   33.565863   \n",
       "2015-09-01  -1.210627   -1.224147  59.394151   12204.796261   32.341716   \n",
       "2015-10-01   0.225877    0.786927  59.620028   12264.416289   33.128643   \n",
       "2015-11-01   1.338939    0.180974  60.958967   12325.375256   33.309618   \n",
       "2015-12-01  -0.218585    0.212750  60.740383   12386.115639   33.522368   \n",
       "\n",
       "            SpendingForecast  \n",
       "2015-01-01      12108.749820  \n",
       "2015-02-01      12144.049342  \n",
       "2015-03-01      12172.663894  \n",
       "2015-04-01      12206.757904  \n",
       "2015-05-01      12238.408549  \n",
       "2015-06-01      12270.446833  \n",
       "2015-07-01      12306.368797  \n",
       "2015-08-01      12339.934659  \n",
       "2015-09-01      12372.276375  \n",
       "2015-10-01      12405.405019  \n",
       "2015-11-01      12438.714636  \n",
       "2015-12-01      12472.237004  "
      ]
     },
     "execution_count": 36,
     "metadata": {},
     "output_type": "execute_result"
    }
   ],
   "source": [
    "df_forecast"
   ]
  },
  {
   "cell_type": "markdown",
   "metadata": {
    "papermill": {
     "duration": 0.057898,
     "end_time": "2020-12-11T05:23:02.855465",
     "exception": false,
     "start_time": "2020-12-11T05:23:02.797567",
     "status": "completed"
    },
    "tags": []
   },
   "source": [
    "\n",
    "## Plot the results"
   ]
  },
  {
   "cell_type": "code",
   "execution_count": 37,
   "metadata": {
    "execution": {
     "iopub.execute_input": "2020-12-11T05:23:02.979522Z",
     "iopub.status.busy": "2020-12-11T05:23:02.973208Z",
     "iopub.status.idle": "2020-12-11T05:23:03.234837Z",
     "shell.execute_reply": "2020-12-11T05:23:03.235415Z"
    },
    "papermill": {
     "duration": 0.321308,
     "end_time": "2020-12-11T05:23:03.235573",
     "exception": false,
     "start_time": "2020-12-11T05:23:02.914265",
     "status": "completed"
    },
    "tags": []
   },
   "outputs": [
    {
     "data": {
      "image/png": "[encoded data removed]",
      "text/plain": [
       "<Figure size 720x720 with 2 Axes>"
      ]
     },
     "metadata": {
      "needs_background": "light"
     },
     "output_type": "display_data"
    }
   ],
   "source": [
    "results.plot();"
   ]
  },
  {
   "cell_type": "code",
   "execution_count": 38,
   "metadata": {
    "execution": {
     "iopub.execute_input": "2020-12-11T05:23:03.355766Z",
     "iopub.status.busy": "2020-12-11T05:23:03.355187Z",
     "iopub.status.idle": "2020-12-11T05:23:03.673816Z",
     "shell.execute_reply": "2020-12-11T05:23:03.674361Z"
    },
    "papermill": {
     "duration": 0.380585,
     "end_time": "2020-12-11T05:23:03.674500",
     "exception": false,
     "start_time": "2020-12-11T05:23:03.293915",
     "status": "completed"
    },
    "tags": []
   },
   "outputs": [
    {
     "data": {
      "image/png": "[encoded data removed]",
      "text/plain": [
       "<Figure size 720x720 with 2 Axes>"
      ]
     },
     "metadata": {
      "needs_background": "light"
     },
     "output_type": "display_data"
    }
   ],
   "source": [
    "results.plot_forecast(12);"
   ]
  },
  {
   "cell_type": "code",
   "execution_count": 39,
   "metadata": {
    "execution": {
     "iopub.execute_input": "2020-12-11T05:23:03.807198Z",
     "iopub.status.busy": "2020-12-11T05:23:03.805801Z",
     "iopub.status.idle": "2020-12-11T05:23:03.983266Z",
     "shell.execute_reply": "2020-12-11T05:23:03.982720Z"
    },
    "papermill": {
     "duration": 0.249231,
     "end_time": "2020-12-11T05:23:03.983377",
     "exception": false,
     "start_time": "2020-12-11T05:23:03.734146",
     "status": "completed"
    },
    "tags": []
   },
   "outputs": [
    {
     "data": {
      "image/png": "[encoded data removed]",
      "text/plain": [
       "<Figure size 864x360 with 1 Axes>"
      ]
     },
     "metadata": {
      "needs_background": "light"
     },
     "output_type": "display_data"
    }
   ],
   "source": [
    "df['Money'][-nobs:].plot(figsize=(12,5),legend=True).autoscale(axis='x',tight=True)\n",
    "df_forecast['MoneyForecast'].plot(legend=True);"
   ]
  },
  {
   "cell_type": "code",
   "execution_count": 40,
   "metadata": {
    "execution": {
     "iopub.execute_input": "2020-12-11T05:23:04.114931Z",
     "iopub.status.busy": "2020-12-11T05:23:04.114351Z",
     "iopub.status.idle": "2020-12-11T05:23:04.278547Z",
     "shell.execute_reply": "2020-12-11T05:23:04.277929Z"
    },
    "papermill": {
     "duration": 0.235351,
     "end_time": "2020-12-11T05:23:04.278666",
     "exception": false,
     "start_time": "2020-12-11T05:23:04.043315",
     "status": "completed"
    },
    "tags": []
   },
   "outputs": [
    {
     "data": {
      "image/png": "[encoded data removed]",
      "text/plain": [
       "<Figure size 864x360 with 1 Axes>"
      ]
     },
     "metadata": {
      "needs_background": "light"
     },
     "output_type": "display_data"
    }
   ],
   "source": [
    "df['Spending'][-nobs:].plot(figsize=(12,5),legend=True).autoscale(axis='x',tight=True)\n",
    "df_forecast['SpendingForecast'].plot(legend=True);"
   ]
  },
  {
   "cell_type": "markdown",
   "metadata": {
    "papermill": {
     "duration": 0.062323,
     "end_time": "2020-12-11T05:23:04.402181",
     "exception": false,
     "start_time": "2020-12-11T05:23:04.339858",
     "status": "completed"
    },
    "tags": []
   },
   "source": [
    "## Model Evaluation"
   ]
  },
  {
   "cell_type": "code",
   "execution_count": 41,
   "metadata": {
    "execution": {
     "iopub.execute_input": "2020-12-11T05:23:04.529008Z",
     "iopub.status.busy": "2020-12-11T05:23:04.528392Z",
     "iopub.status.idle": "2020-12-11T05:23:04.531961Z",
     "shell.execute_reply": "2020-12-11T05:23:04.531225Z"
    },
    "papermill": {
     "duration": 0.07008,
     "end_time": "2020-12-11T05:23:04.532126",
     "exception": false,
     "start_time": "2020-12-11T05:23:04.462046",
     "status": "completed"
    },
    "tags": []
   },
   "outputs": [
    {
     "name": "stdout",
     "output_type": "stream",
     "text": [
      "Money VAR(5) RMSE: 43.710\n"
     ]
    }
   ],
   "source": [
    "RMSE1 = rmse(df['Money'][-nobs:], df_forecast['MoneyForecast'])\n",
    "print(f'Money VAR(5) RMSE: {RMSE1:.3f}')"
   ]
  },
  {
   "cell_type": "code",
   "execution_count": 42,
   "metadata": {
    "execution": {
     "iopub.execute_input": "2020-12-11T05:23:04.660736Z",
     "iopub.status.busy": "2020-12-11T05:23:04.659966Z",
     "iopub.status.idle": "2020-12-11T05:23:04.663601Z",
     "shell.execute_reply": "2020-12-11T05:23:04.662746Z"
    },
    "papermill": {
     "duration": 0.069784,
     "end_time": "2020-12-11T05:23:04.663727",
     "exception": false,
     "start_time": "2020-12-11T05:23:04.593943",
     "status": "completed"
    },
    "tags": []
   },
   "outputs": [
    {
     "name": "stdout",
     "output_type": "stream",
     "text": [
      "Spending VAR(5) RMSE: 37.001\n"
     ]
    }
   ],
   "source": [
    "RMSE2 = rmse(df['Spending'][-nobs:], df_forecast['SpendingForecast'])\n",
    "print(f'Spending VAR(5) RMSE: {RMSE2:.3f}')"
   ]
  },
  {
   "cell_type": "code",
   "execution_count": null,
   "metadata": {
    "papermill": {
     "duration": 0.061557,
     "end_time": "2020-12-11T05:23:04.788012",
     "exception": false,
     "start_time": "2020-12-11T05:23:04.726455",
     "status": "completed"
    },
    "tags": []
   },
   "outputs": [],
   "source": []
  }
 ],
 "metadata": {
  "kernelspec": {
   "display_name": "Python 3",
   "language": "python",
   "name": "python3"
  },
  "language_info": {
   "codemirror_mode": {
    "name": "ipython",
    "version": 3
   },
   "file_extension": ".py",
   "mimetype": "text/x-python",
   "name": "python",
   "nbconvert_exporter": "python",
   "pygments_lexer": "ipython3",
   "version": "3.7.6"
  },
  "papermill": {
   "duration": 14.160001,
   "end_time": "2020-12-11T05:23:04.954869",
   "environment_variables": {},
   "exception": null,
   "input_path": "__notebook__.ipynb",
   "output_path": "__notebook__.ipynb",
   "parameters": {},
   "start_time": "2020-12-11T05:22:50.794868",
   "version": "2.1.0"
  }
 },
 "nbformat": 4,
 "nbformat_minor": 4
}
